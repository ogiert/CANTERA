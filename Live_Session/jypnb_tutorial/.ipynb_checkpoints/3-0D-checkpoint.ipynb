{
 "cells": [
  {
   "cell_type": "markdown",
   "metadata": {},
   "source": [
    "# IV - 0D computations"
   ]
  },
  {
   "cell_type": "markdown",
   "metadata": {},
   "source": [
    "## 1. Knowledge of 0D computations"
   ]
  },
  {
   "cell_type": "markdown",
   "metadata": {},
   "source": [
    "### ReactorBase class"
   ]
  },
  {
   "cell_type": "markdown",
   "metadata": {},
   "source": [
    "0D Reactors are often used in combustion to model auto-ignition time and the chemistry associated to it. For reactors and reservoirs, the classe used *ReactorBase* is the following :<br>\n",
    "<code>ReactorBase(ThermoPhase contents, name=None, arguments)</code>\n",
    "<br><br>\n",
    "Here are the different types of reactors you can have for a 0D computation :\n",
    "1. **Reservoir**<br>\n",
    "Reactors with a constant state. The temperature, pressure, and chemical composition in a reservoir never change from their initial values.\n",
    "\n",
    "2. **Reactor**\n",
    "3. **IdealGasReactor**<br>\n",
    "Constant volume, zero-dimensional reactor for ideal gas mixtures.\n",
    "4. **ConstPressureReactor**<br>\n",
    "Homogeneous, constant pressure, zero-dimensional reactor. The volume of the reactor changes as a function of time in order to keep the pressure constant.\n",
    "5. **IdealGasConstPressureReactor**<br>\n",
    "Homogeneous, constant pressure, zero-dimensional reactor for ideal gas mixtures. The volume of the reactor changes as a function of time in order to keep the pressure constant.\n",
    "6. **FlowReactor**<br>\n",
    "A steady-state plug flow reactor with constant cross sectional area. Time integration follows a fluid element along the length of the reactor. The reactor is assumed to be frictionless and adiabatic."
   ]
  },
  {
   "cell_type": "markdown",
   "metadata": {},
   "source": [
    "### FlowDevice class"
   ]
  },
  {
   "cell_type": "markdown",
   "metadata": {},
   "source": [
    "Reactors can be added inlets and outlets, to be able to loop or chain several reactors, control mass flow rates, volume or pressure. Here are the properties of the common baseclass *FlowDevice* for flow controllers between reactors and reservoirs :<br>\n",
    "<code>FlowDevice(upstream, downstream, name=None, arguments)</code>\n",
    "<br><br>\n",
    "The FlowDevice controls the fluids passage between an upstream and a downstream object, which should be specified. The arguments depend upon the different types of flow controllers available in Cantera :\n",
    "1. **MassFlowController**<br>\n",
    "Mass flow controllers maintain a specified mass flow rate independent of upstream and downstream conditions. Unlike a real mass flow controller, a MassFlowController object will maintain the flow even if the downstream pressure is greater than the upstream pressure.\n",
    "2. **Valve**<br>\n",
    "Valves are flow devices with mass flow rate that is a function of the pressure drop across them. Valve objects are often used between an upstream reactor and a downstream reactor or reservoir to maintain them both at nearly the same pressure. By setting the constant Kv to a sufficiently large value, very small pressure differences will result in flow between the reactors that counteracts the pressure difference.\n",
    "3. **PressureController**<br>\n",
    "A pressure controller is designed to be used in conjunction, typically, with a MassFlowController. The master flow controller is installed on the inlet of the reactor, and the corresponding PressureController is installed on the outlet of the reactor. The PressureController mass flow rate is equal to the master mass flow rate, plus a small correction dependent on the pressure difference."
   ]
  },
  {
   "cell_type": "markdown",
   "metadata": {},
   "source": [
    "### Walls"
   ]
  },
  {
   "cell_type": "markdown",
   "metadata": {},
   "source": [
    "Reactors can also be added heat transfer and heterogeneous reactions at the walls, through a special\n",
    "object \"wall\". Walls separate two reactors, or a reactor and a reservoir. A wall has a finite area, may\n",
    "conduct or radiate heat between the two reactors on either side, and may move like a piston. They are\n",
    "stateless objects in Cantera, meaning that no differential equation is integrated to determine any wall\n",
    "property. A heterogeneous reaction mechanism may be specified for one or both of the wall surfaces."
   ]
  },
  {
   "cell_type": "markdown",
   "metadata": {},
   "source": [
    "### ReactorNet"
   ]
  },
  {
   "cell_type": "markdown",
   "metadata": {},
   "source": [
    "Now, the evolution of a reactor, or a network of reactors -which are 0-D objects- with time, is performed\n",
    "through an integrator object *ReactorNet* :<br>\n",
    "<code><p style=\"text-align: center;\">\n",
    "... (define gases) ...\n",
    "r1 = Reactor(gas1)\n",
    "r2 = Reactor(gas2)\n",
    "... (install walls, inlets, outlets, etc)...\n",
    "reactor_network = ReactorNet([r1, r2])\n",
    "time = 1 #s\n",
    "reactor_network.advance(time)\n",
    "</code></p><br>\n",
    "\n",
    "There are two possibilities to advance a reactor simulation in time :\n",
    "- the ***advance(self, double t)*** option (shown in the example above)<br>\n",
    "This will advance the state of the reactor network in time from the current time to the specified 't' time, taking as many integrator timesteps as necessary.\n",
    "- the ***step(self, double t)*** option. <br>\n",
    "This will take a single internal time step toward the specified time 't' [s]... \n",
    "The use of 'advance' is recommended, unless you need to elucidate a bug."
   ]
  },
  {
   "cell_type": "markdown",
   "metadata": {},
   "source": [
    "## 2. Simple closed vessel"
   ]
  },
  {
   "cell_type": "markdown",
   "metadata": {},
   "source": [
    "### Import statements"
   ]
  },
  {
   "cell_type": "code",
   "execution_count": 1,
   "metadata": {},
   "outputs": [],
   "source": [
    "import sys\n",
    "import numpy as np\n",
    "import cantera as ct\n",
    "import matplotlib.pyplot as plt\n",
    "from matplotlib import *"
   ]
  },
  {
   "cell_type": "markdown",
   "metadata": {},
   "source": [
    "### Set the mechanism properties"
   ]
  },
  {
   "cell_type": "code",
   "execution_count": 2,
   "metadata": {},
   "outputs": [],
   "source": [
    "gas = ct.Solution('gri30.cti')\n",
    "gas.TPX = 1000.0, ct.one_atm, 'CH4:0.5,O2:1,N2:3.76'"
   ]
  },
  {
   "cell_type": "markdown",
   "metadata": {},
   "source": [
    "### Create the reactor and the ReactorNet associated to it"
   ]
  },
  {
   "cell_type": "code",
   "execution_count": 3,
   "metadata": {},
   "outputs": [],
   "source": [
    "# Create Reactor and fill with gas\n",
    "r = ct.Reactor(gas)\n",
    "\n",
    "# Prepare the simulation with a ReactorNet object\n",
    "sim = ct.ReactorNet([r])\n",
    "time = 4.e-1"
   ]
  },
  {
   "cell_type": "markdown",
   "metadata": {},
   "source": [
    "### Compute the reactor"
   ]
  },
  {
   "cell_type": "code",
   "execution_count": 4,
   "metadata": {
    "scrolled": true
   },
   "outputs": [
    {
     "name": "stdout",
     "output_type": "stream",
     "text": [
      "     t [s]      T [K]   vol [m3]       u [J/kg]\n",
      " 4.050e-01   1001.116      2.970   2.870654e+05\n",
      " 4.100e-01   1001.143      2.970   2.870654e+05\n",
      " 4.150e-01   1001.172      2.970   2.870654e+05\n",
      " 4.200e-01   1001.201      2.970   2.870654e+05\n",
      " 4.250e-01   1001.230      2.970   2.870654e+05\n",
      " 4.300e-01   1001.260      2.970   2.870654e+05\n",
      " 4.350e-01   1001.291      2.970   2.870654e+05\n",
      " 4.400e-01   1001.322      2.970   2.870654e+05\n",
      " 4.450e-01   1001.354      2.970   2.870654e+05\n",
      " 4.500e-01   1001.386      2.970   2.870654e+05\n",
      " 4.550e-01   1001.419      2.970   2.870654e+05\n",
      " 4.600e-01   1001.453      2.970   2.870654e+05\n",
      " 4.650e-01   1001.487      2.970   2.870654e+05\n",
      " 4.700e-01   1001.522      2.970   2.870654e+05\n",
      " 4.750e-01   1001.558      2.970   2.870654e+05\n",
      " 4.800e-01   1001.594      2.970   2.870654e+05\n",
      " 4.850e-01   1001.631      2.970   2.870654e+05\n",
      " 4.900e-01   1001.669      2.970   2.870654e+05\n",
      " 4.950e-01   1001.708      2.970   2.870654e+05\n",
      " 5.000e-01   1001.747      2.970   2.870654e+05\n",
      " 5.050e-01   1001.787      2.970   2.870654e+05\n",
      " 5.100e-01   1001.828      2.970   2.870654e+05\n",
      " 5.150e-01   1001.870      2.970   2.870654e+05\n",
      " 5.200e-01   1001.912      2.970   2.870654e+05\n",
      " 5.250e-01   1001.956      2.970   2.870654e+05\n",
      " 5.300e-01   1002.000      2.970   2.870654e+05\n",
      " 5.350e-01   1002.046      2.970   2.870654e+05\n",
      " 5.400e-01   1002.092      2.970   2.870654e+05\n",
      " 5.450e-01   1002.139      2.970   2.870654e+05\n",
      " 5.500e-01   1002.187      2.970   2.870654e+05\n",
      " 5.550e-01   1002.236      2.970   2.870654e+05\n",
      " 5.600e-01   1002.287      2.970   2.870654e+05\n",
      " 5.650e-01   1002.338      2.970   2.870654e+05\n",
      " 5.700e-01   1002.390      2.970   2.870654e+05\n",
      " 5.750e-01   1002.444      2.970   2.870654e+05\n",
      " 5.800e-01   1002.498      2.970   2.870654e+05\n",
      " 5.850e-01   1002.554      2.970   2.870654e+05\n",
      " 5.900e-01   1002.611      2.970   2.870654e+05\n",
      " 5.950e-01   1002.669      2.970   2.870654e+05\n",
      " 6.000e-01   1002.729      2.970   2.870654e+05\n",
      " 6.050e-01   1002.790      2.970   2.870654e+05\n",
      " 6.100e-01   1002.852      2.970   2.870654e+05\n",
      " 6.150e-01   1002.915      2.970   2.870654e+05\n",
      " 6.200e-01   1002.980      2.970   2.870654e+05\n",
      " 6.250e-01   1003.046      2.970   2.870654e+05\n",
      " 6.300e-01   1003.114      2.970   2.870654e+05\n",
      " 6.350e-01   1003.184      2.970   2.870654e+05\n",
      " 6.400e-01   1003.255      2.970   2.870654e+05\n",
      " 6.450e-01   1003.327      2.970   2.870654e+05\n",
      " 6.500e-01   1003.402      2.970   2.870654e+05\n",
      " 6.550e-01   1003.478      2.970   2.870654e+05\n",
      " 6.600e-01   1003.556      2.970   2.870654e+05\n",
      " 6.650e-01   1003.635      2.970   2.870654e+05\n",
      " 6.700e-01   1003.717      2.970   2.870654e+05\n",
      " 6.750e-01   1003.800      2.970   2.870654e+05\n",
      " 6.800e-01   1003.886      2.970   2.870654e+05\n",
      " 6.850e-01   1003.974      2.970   2.870654e+05\n",
      " 6.900e-01   1004.064      2.970   2.870654e+05\n",
      " 6.950e-01   1004.156      2.970   2.870654e+05\n",
      " 7.000e-01   1004.250      2.970   2.870654e+05\n",
      " 7.050e-01   1004.347      2.970   2.870654e+05\n",
      " 7.100e-01   1004.446      2.970   2.870654e+05\n",
      " 7.150e-01   1004.548      2.970   2.870654e+05\n",
      " 7.200e-01   1004.652      2.970   2.870654e+05\n",
      " 7.250e-01   1004.759      2.970   2.870654e+05\n",
      " 7.300e-01   1004.869      2.970   2.870654e+05\n",
      " 7.350e-01   1004.982      2.970   2.870654e+05\n",
      " 7.400e-01   1005.098      2.970   2.870654e+05\n",
      " 7.450e-01   1005.218      2.970   2.870654e+05\n",
      " 7.500e-01   1005.340      2.970   2.870654e+05\n",
      " 7.550e-01   1005.466      2.970   2.870654e+05\n",
      " 7.600e-01   1005.595      2.970   2.870654e+05\n",
      " 7.650e-01   1005.729      2.970   2.870654e+05\n",
      " 7.700e-01   1005.866      2.970   2.870654e+05\n",
      " 7.750e-01   1006.007      2.970   2.870654e+05\n",
      " 7.800e-01   1006.152      2.970   2.870654e+05\n",
      " 7.850e-01   1006.301      2.970   2.870654e+05\n",
      " 7.900e-01   1006.455      2.970   2.870654e+05\n",
      " 7.950e-01   1006.614      2.970   2.870654e+05\n",
      " 8.000e-01   1006.778      2.970   2.870654e+05\n",
      " 8.050e-01   1006.947      2.970   2.870654e+05\n",
      " 8.100e-01   1007.122      2.970   2.870654e+05\n",
      " 8.150e-01   1007.302      2.970   2.870654e+05\n",
      " 8.200e-01   1007.488      2.970   2.870654e+05\n",
      " 8.250e-01   1007.680      2.970   2.870654e+05\n",
      " 8.300e-01   1007.879      2.970   2.870654e+05\n",
      " 8.350e-01   1008.085      2.970   2.870654e+05\n",
      " 8.400e-01   1008.298      2.970   2.870654e+05\n",
      " 8.450e-01   1008.519      2.970   2.870654e+05\n",
      " 8.500e-01   1008.748      2.970   2.870654e+05\n",
      " 8.550e-01   1008.985      2.970   2.870654e+05\n",
      " 8.600e-01   1009.232      2.970   2.870654e+05\n",
      " 8.650e-01   1009.488      2.970   2.870654e+05\n",
      " 8.700e-01   1009.754      2.970   2.870654e+05\n",
      " 8.750e-01   1010.031      2.970   2.870654e+05\n",
      " 8.800e-01   1010.319      2.970   2.870654e+05\n",
      " 8.850e-01   1010.620      2.970   2.870654e+05\n",
      " 8.900e-01   1010.933      2.970   2.870654e+05\n",
      " 8.950e-01   1011.260      2.970   2.870654e+05\n",
      " 9.000e-01   1011.603      2.970   2.870654e+05\n",
      " 9.050e-01   1011.961      2.970   2.870654e+05\n",
      " 9.100e-01   1012.336      2.970   2.870654e+05\n",
      " 9.150e-01   1012.730      2.970   2.870654e+05\n",
      " 9.200e-01   1013.143      2.970   2.870654e+05\n",
      " 9.250e-01   1013.578      2.970   2.870654e+05\n",
      " 9.300e-01   1014.037      2.970   2.870654e+05\n",
      " 9.350e-01   1014.520      2.970   2.870654e+05\n",
      " 9.400e-01   1015.032      2.970   2.870654e+05\n",
      " 9.450e-01   1015.574      2.970   2.870654e+05\n",
      " 9.500e-01   1016.149      2.970   2.870654e+05\n",
      " 9.550e-01   1016.761      2.970   2.870654e+05\n",
      " 9.600e-01   1017.415      2.970   2.870654e+05\n",
      " 9.650e-01   1018.113      2.970   2.870654e+05\n",
      " 9.700e-01   1018.863      2.970   2.870654e+05\n",
      " 9.750e-01   1019.669      2.970   2.870654e+05\n",
      " 9.800e-01   1020.541      2.970   2.870654e+05\n",
      " 9.850e-01   1021.487      2.970   2.870654e+05\n",
      " 9.900e-01   1022.518      2.970   2.870654e+05\n",
      " 9.950e-01   1023.647      2.970   2.870654e+05\n",
      " 1.000e+00   1024.893      2.970   2.870654e+05\n",
      " 1.005e+00   1026.275      2.970   2.870654e+05\n",
      " 1.010e+00   1027.822      2.970   2.870654e+05\n",
      " 1.015e+00   1029.569      2.970   2.870654e+05\n",
      " 1.020e+00   1031.565      2.970   2.870654e+05\n",
      " 1.025e+00   1033.879      2.970   2.870654e+05\n",
      " 1.030e+00   1036.606      2.970   2.870654e+05\n",
      " 1.035e+00   1039.892      2.970   2.870654e+05\n",
      " 1.040e+00   1043.969      2.970   2.870654e+05\n",
      " 1.045e+00   1049.236      2.970   2.870654e+05\n",
      " 1.050e+00   1056.459      2.970   2.870654e+05\n",
      " 1.055e+00   1067.372      2.970   2.870654e+05\n",
      " 1.060e+00   1087.261      2.970   2.870654e+05\n",
      " 1.065e+00   1151.182      2.970   2.870654e+05\n",
      " 1.070e+00   2768.353      2.970   2.870654e+05\n",
      " 1.075e+00   2768.160      2.970   2.870654e+05\n",
      " 1.080e+00   2768.160      2.970   2.870654e+05\n",
      " 1.085e+00   2768.160      2.970   2.870654e+05\n",
      " 1.090e+00   2768.160      2.970   2.870654e+05\n",
      " 1.095e+00   2768.160      2.970   2.870654e+05\n",
      " 1.100e+00   2768.160      2.970   2.870654e+05\n",
      " 1.105e+00   2768.160      2.970   2.870654e+05\n",
      " 1.110e+00   2768.160      2.970   2.870654e+05\n",
      " 1.115e+00   2768.160      2.970   2.870654e+05\n",
      " 1.120e+00   2768.160      2.970   2.870654e+05\n",
      " 1.125e+00   2768.160      2.970   2.870654e+05\n",
      " 1.130e+00   2768.160      2.970   2.870654e+05\n",
      " 1.135e+00   2768.160      2.970   2.870654e+05\n",
      " 1.140e+00   2768.160      2.970   2.870654e+05\n",
      " 1.145e+00   2768.160      2.970   2.870654e+05\n",
      " 1.150e+00   2768.160      2.970   2.870654e+05\n",
      " 1.155e+00   2768.160      2.970   2.870654e+05\n",
      " 1.160e+00   2768.160      2.970   2.870654e+05\n",
      " 1.165e+00   2768.160      2.970   2.870654e+05\n",
      " 1.170e+00   2768.160      2.970   2.870654e+05\n",
      " 1.175e+00   2768.160      2.970   2.870654e+05\n",
      " 1.180e+00   2768.160      2.970   2.870654e+05\n",
      " 1.185e+00   2768.160      2.970   2.870654e+05\n",
      " 1.190e+00   2768.160      2.970   2.870654e+05\n",
      " 1.195e+00   2768.160      2.970   2.870654e+05\n",
      " 1.200e+00   2768.160      2.970   2.870654e+05\n",
      " 1.205e+00   2768.160      2.970   2.870654e+05\n",
      " 1.210e+00   2768.160      2.970   2.870654e+05\n",
      " 1.215e+00   2768.160      2.970   2.870654e+05\n",
      " 1.220e+00   2768.160      2.970   2.870654e+05\n",
      " 1.225e+00   2768.160      2.970   2.870654e+05\n",
      " 1.230e+00   2768.160      2.970   2.870654e+05\n",
      " 1.235e+00   2768.160      2.970   2.870654e+05\n",
      " 1.240e+00   2768.160      2.970   2.870654e+05\n",
      " 1.245e+00   2768.160      2.970   2.870654e+05\n",
      " 1.250e+00   2768.160      2.970   2.870654e+05\n",
      " 1.255e+00   2768.160      2.970   2.870654e+05\n",
      " 1.260e+00   2768.160      2.970   2.870654e+05\n",
      " 1.265e+00   2768.160      2.970   2.870654e+05\n",
      " 1.270e+00   2768.160      2.970   2.870654e+05\n",
      " 1.275e+00   2768.160      2.970   2.870654e+05\n",
      " 1.280e+00   2768.160      2.970   2.870654e+05\n",
      " 1.285e+00   2768.160      2.970   2.870654e+05\n",
      " 1.290e+00   2768.160      2.970   2.870654e+05\n",
      " 1.295e+00   2768.160      2.970   2.870654e+05\n",
      " 1.300e+00   2768.160      2.970   2.870654e+05\n",
      " 1.305e+00   2768.160      2.970   2.870654e+05\n",
      " 1.310e+00   2768.160      2.970   2.870654e+05\n",
      " 1.315e+00   2768.160      2.970   2.870654e+05\n",
      " 1.320e+00   2768.160      2.970   2.870654e+05\n",
      " 1.325e+00   2768.160      2.970   2.870654e+05\n",
      " 1.330e+00   2768.160      2.970   2.870654e+05\n",
      " 1.335e+00   2768.160      2.970   2.870654e+05\n",
      " 1.340e+00   2768.160      2.970   2.870654e+05\n",
      " 1.345e+00   2768.160      2.970   2.870654e+05\n",
      " 1.350e+00   2768.160      2.970   2.870654e+05\n",
      " 1.355e+00   2768.160      2.970   2.870654e+05\n",
      " 1.360e+00   2768.160      2.970   2.870654e+05\n",
      " 1.365e+00   2768.160      2.970   2.870654e+05\n",
      " 1.370e+00   2768.160      2.970   2.870654e+05\n",
      " 1.375e+00   2768.160      2.970   2.870654e+05\n",
      " 1.380e+00   2768.160      2.970   2.870654e+05\n",
      " 1.385e+00   2768.160      2.970   2.870654e+05\n",
      " 1.390e+00   2768.160      2.970   2.870654e+05\n",
      " 1.395e+00   2768.160      2.970   2.870654e+05\n",
      " 1.400e+00   2768.160      2.970   2.870654e+05\n",
      " 1.405e+00   2768.160      2.970   2.870654e+05\n",
      " 1.410e+00   2768.160      2.970   2.870654e+05\n",
      " 1.415e+00   2768.160      2.970   2.870654e+05\n",
      " 1.420e+00   2768.160      2.970   2.870654e+05\n",
      " 1.425e+00   2768.160      2.970   2.870654e+05\n",
      " 1.430e+00   2768.160      2.970   2.870654e+05\n",
      " 1.435e+00   2768.160      2.970   2.870654e+05\n",
      " 1.440e+00   2768.160      2.970   2.870654e+05\n",
      " 1.445e+00   2768.160      2.970   2.870654e+05\n",
      " 1.450e+00   2768.160      2.970   2.870654e+05\n",
      " 1.455e+00   2768.160      2.970   2.870654e+05\n",
      " 1.460e+00   2768.160      2.970   2.870654e+05\n",
      " 1.465e+00   2768.160      2.970   2.870654e+05\n",
      " 1.470e+00   2768.160      2.970   2.870654e+05\n",
      " 1.475e+00   2768.160      2.970   2.870654e+05\n",
      " 1.480e+00   2768.160      2.970   2.870654e+05\n",
      " 1.485e+00   2768.160      2.970   2.870654e+05\n",
      " 1.490e+00   2768.160      2.970   2.870654e+05\n",
      " 1.495e+00   2768.160      2.970   2.870654e+05\n",
      " 1.500e+00   2768.160      2.970   2.870654e+05\n",
      " 1.505e+00   2768.160      2.970   2.870654e+05\n",
      " 1.510e+00   2768.160      2.970   2.870654e+05\n",
      " 1.515e+00   2768.160      2.970   2.870654e+05\n",
      " 1.520e+00   2768.160      2.970   2.870654e+05\n",
      " 1.525e+00   2768.160      2.970   2.870654e+05\n",
      " 1.530e+00   2768.160      2.970   2.870654e+05\n",
      " 1.535e+00   2768.160      2.970   2.870654e+05\n",
      " 1.540e+00   2768.160      2.970   2.870654e+05\n",
      " 1.545e+00   2768.160      2.970   2.870654e+05\n",
      " 1.550e+00   2768.160      2.970   2.870654e+05\n",
      " 1.555e+00   2768.160      2.970   2.870654e+05\n",
      " 1.560e+00   2768.160      2.970   2.870654e+05\n",
      " 1.565e+00   2768.160      2.970   2.870654e+05\n",
      " 1.570e+00   2768.160      2.970   2.870654e+05\n",
      " 1.575e+00   2768.160      2.970   2.870654e+05\n",
      " 1.580e+00   2768.160      2.970   2.870654e+05\n",
      " 1.585e+00   2768.160      2.970   2.870654e+05\n",
      " 1.590e+00   2768.160      2.970   2.870654e+05\n",
      " 1.595e+00   2768.160      2.970   2.870654e+05\n",
      " 1.600e+00   2768.160      2.970   2.870654e+05\n",
      " 1.605e+00   2768.160      2.970   2.870654e+05\n",
      " 1.610e+00   2768.160      2.970   2.870654e+05\n",
      " 1.615e+00   2768.160      2.970   2.870654e+05\n",
      " 1.620e+00   2768.160      2.970   2.870654e+05\n",
      " 1.625e+00   2768.160      2.970   2.870654e+05\n",
      " 1.630e+00   2768.160      2.970   2.870654e+05\n",
      " 1.635e+00   2768.160      2.970   2.870654e+05\n",
      " 1.640e+00   2768.160      2.970   2.870654e+05\n",
      " 1.645e+00   2768.160      2.970   2.870654e+05\n",
      " 1.650e+00   2768.160      2.970   2.870654e+05\n",
      " 1.655e+00   2768.160      2.970   2.870654e+05\n",
      " 1.660e+00   2768.160      2.970   2.870654e+05\n",
      " 1.665e+00   2768.160      2.970   2.870654e+05\n",
      " 1.670e+00   2768.160      2.970   2.870654e+05\n",
      " 1.675e+00   2768.160      2.970   2.870654e+05\n",
      " 1.680e+00   2768.160      2.970   2.870654e+05\n",
      " 1.685e+00   2768.160      2.970   2.870654e+05\n",
      " 1.690e+00   2768.160      2.970   2.870654e+05\n",
      " 1.695e+00   2768.160      2.970   2.870654e+05\n",
      " 1.700e+00   2768.160      2.970   2.870654e+05\n",
      " 1.705e+00   2768.160      2.970   2.870654e+05\n",
      " 1.710e+00   2768.160      2.970   2.870654e+05\n",
      " 1.715e+00   2768.160      2.970   2.870654e+05\n",
      " 1.720e+00   2768.160      2.970   2.870654e+05\n",
      " 1.725e+00   2768.160      2.970   2.870654e+05\n",
      " 1.730e+00   2768.160      2.970   2.870654e+05\n",
      " 1.735e+00   2768.160      2.970   2.870654e+05\n",
      " 1.740e+00   2768.160      2.970   2.870654e+05\n",
      " 1.745e+00   2768.160      2.970   2.870654e+05\n",
      " 1.750e+00   2768.160      2.970   2.870654e+05\n",
      " 1.755e+00   2768.160      2.970   2.870654e+05\n",
      " 1.760e+00   2768.160      2.970   2.870654e+05\n",
      " 1.765e+00   2768.160      2.970   2.870654e+05\n",
      " 1.770e+00   2768.160      2.970   2.870654e+05\n",
      " 1.775e+00   2768.160      2.970   2.870654e+05\n",
      " 1.780e+00   2768.160      2.970   2.870654e+05\n",
      " 1.785e+00   2768.160      2.970   2.870654e+05\n",
      " 1.790e+00   2768.160      2.970   2.870654e+05\n",
      " 1.795e+00   2768.160      2.970   2.870654e+05\n",
      " 1.800e+00   2768.160      2.970   2.870654e+05\n",
      " 1.805e+00   2768.160      2.970   2.870654e+05\n",
      " 1.810e+00   2768.160      2.970   2.870654e+05\n",
      " 1.815e+00   2768.160      2.970   2.870654e+05\n",
      " 1.820e+00   2768.160      2.970   2.870654e+05\n",
      " 1.825e+00   2768.160      2.970   2.870654e+05\n",
      " 1.830e+00   2768.160      2.970   2.870654e+05\n",
      " 1.835e+00   2768.160      2.970   2.870654e+05\n",
      " 1.840e+00   2768.160      2.970   2.870654e+05\n",
      " 1.845e+00   2768.160      2.970   2.870654e+05\n",
      " 1.850e+00   2768.160      2.970   2.870654e+05\n",
      " 1.855e+00   2768.160      2.970   2.870654e+05\n",
      " 1.860e+00   2768.160      2.970   2.870654e+05\n",
      " 1.865e+00   2768.160      2.970   2.870654e+05\n",
      " 1.870e+00   2768.160      2.970   2.870654e+05\n",
      " 1.875e+00   2768.160      2.970   2.870654e+05\n",
      " 1.880e+00   2768.160      2.970   2.870654e+05\n",
      " 1.885e+00   2768.160      2.970   2.870654e+05\n",
      " 1.890e+00   2768.160      2.970   2.870654e+05\n",
      " 1.895e+00   2768.160      2.970   2.870654e+05\n",
      " 1.900e+00   2768.160      2.970   2.870654e+05\n",
      " 1.905e+00   2768.160      2.970   2.870654e+05\n",
      " 1.910e+00   2768.160      2.970   2.870654e+05\n",
      " 1.915e+00   2768.160      2.970   2.870654e+05\n",
      " 1.920e+00   2768.160      2.970   2.870654e+05\n",
      " 1.925e+00   2768.160      2.970   2.870654e+05\n",
      " 1.930e+00   2768.160      2.970   2.870654e+05\n",
      " 1.935e+00   2768.160      2.970   2.870654e+05\n",
      " 1.940e+00   2768.160      2.970   2.870654e+05\n",
      " 1.945e+00   2768.160      2.970   2.870654e+05\n",
      " 1.950e+00   2768.160      2.970   2.870654e+05\n",
      " 1.955e+00   2768.160      2.970   2.870654e+05\n",
      " 1.960e+00   2768.160      2.970   2.870654e+05\n",
      " 1.965e+00   2768.160      2.970   2.870654e+05\n",
      " 1.970e+00   2768.160      2.970   2.870654e+05\n",
      " 1.975e+00   2768.160      2.970   2.870654e+05\n",
      " 1.980e+00   2768.160      2.970   2.870654e+05\n",
      " 1.985e+00   2768.160      2.970   2.870654e+05\n",
      " 1.990e+00   2768.160      2.970   2.870654e+05\n",
      " 1.995e+00   2768.160      2.970   2.870654e+05\n",
      " 2.000e+00   2768.160      2.970   2.870654e+05\n",
      " 2.005e+00   2768.160      2.970   2.870654e+05\n",
      " 2.010e+00   2768.160      2.970   2.870654e+05\n",
      " 2.015e+00   2768.160      2.970   2.870654e+05\n",
      " 2.020e+00   2768.160      2.970   2.870654e+05\n",
      " 2.025e+00   2768.160      2.970   2.870654e+05\n",
      " 2.030e+00   2768.160      2.970   2.870654e+05\n",
      " 2.035e+00   2768.160      2.970   2.870654e+05\n",
      " 2.040e+00   2768.160      2.970   2.870654e+05\n",
      " 2.045e+00   2768.160      2.970   2.870654e+05\n",
      " 2.050e+00   2768.160      2.970   2.870654e+05\n",
      " 2.055e+00   2768.160      2.970   2.870654e+05\n",
      " 2.060e+00   2768.160      2.970   2.870654e+05\n",
      " 2.065e+00   2768.160      2.970   2.870654e+05\n",
      " 2.070e+00   2768.160      2.970   2.870654e+05\n",
      " 2.075e+00   2768.160      2.970   2.870654e+05\n",
      " 2.080e+00   2768.160      2.970   2.870654e+05\n",
      " 2.085e+00   2768.160      2.970   2.870654e+05\n",
      " 2.090e+00   2768.160      2.970   2.870654e+05\n",
      " 2.095e+00   2768.160      2.970   2.870654e+05\n",
      " 2.100e+00   2768.160      2.970   2.870654e+05\n",
      " 2.105e+00   2768.160      2.970   2.870654e+05\n",
      " 2.110e+00   2768.160      2.970   2.870654e+05\n",
      " 2.115e+00   2768.160      2.970   2.870654e+05\n",
      " 2.120e+00   2768.160      2.970   2.870654e+05\n",
      " 2.125e+00   2768.160      2.970   2.870654e+05\n",
      " 2.130e+00   2768.160      2.970   2.870654e+05\n",
      " 2.135e+00   2768.160      2.970   2.870654e+05\n",
      " 2.140e+00   2768.160      2.970   2.870654e+05\n",
      " 2.145e+00   2768.160      2.970   2.870654e+05\n",
      " 2.150e+00   2768.160      2.970   2.870654e+05\n",
      " 2.155e+00   2768.160      2.970   2.870654e+05\n",
      " 2.160e+00   2768.160      2.970   2.870654e+05\n",
      " 2.165e+00   2768.160      2.970   2.870654e+05\n",
      " 2.170e+00   2768.160      2.970   2.870654e+05\n",
      " 2.175e+00   2768.160      2.970   2.870654e+05\n",
      " 2.180e+00   2768.160      2.970   2.870654e+05\n",
      " 2.185e+00   2768.160      2.970   2.870654e+05\n",
      " 2.190e+00   2768.160      2.970   2.870654e+05\n",
      " 2.195e+00   2768.160      2.970   2.870654e+05\n",
      " 2.200e+00   2768.160      2.970   2.870654e+05\n",
      " 2.205e+00   2768.160      2.970   2.870654e+05\n",
      " 2.210e+00   2768.160      2.970   2.870654e+05\n",
      " 2.215e+00   2768.160      2.970   2.870654e+05\n",
      " 2.220e+00   2768.160      2.970   2.870654e+05\n",
      " 2.225e+00   2768.160      2.970   2.870654e+05\n",
      " 2.230e+00   2768.160      2.970   2.870654e+05\n",
      " 2.235e+00   2768.160      2.970   2.870654e+05\n",
      " 2.240e+00   2768.160      2.970   2.870654e+05\n",
      " 2.245e+00   2768.160      2.970   2.870654e+05\n",
      " 2.250e+00   2768.160      2.970   2.870654e+05\n",
      " 2.255e+00   2768.160      2.970   2.870654e+05\n",
      " 2.260e+00   2768.160      2.970   2.870654e+05\n",
      " 2.265e+00   2768.160      2.970   2.870654e+05\n",
      " 2.270e+00   2768.160      2.970   2.870654e+05\n",
      " 2.275e+00   2768.160      2.970   2.870654e+05\n",
      " 2.280e+00   2768.160      2.970   2.870654e+05\n",
      " 2.285e+00   2768.160      2.970   2.870654e+05\n",
      " 2.290e+00   2768.160      2.970   2.870654e+05\n",
      " 2.295e+00   2768.160      2.970   2.870654e+05\n",
      " 2.300e+00   2768.160      2.970   2.870654e+05\n",
      " 2.305e+00   2768.160      2.970   2.870654e+05\n",
      " 2.310e+00   2768.160      2.970   2.870654e+05\n",
      " 2.315e+00   2768.160      2.970   2.870654e+05\n",
      " 2.320e+00   2768.160      2.970   2.870654e+05\n",
      " 2.325e+00   2768.160      2.970   2.870654e+05\n",
      " 2.330e+00   2768.160      2.970   2.870654e+05\n",
      " 2.335e+00   2768.160      2.970   2.870654e+05\n",
      " 2.340e+00   2768.160      2.970   2.870654e+05\n",
      " 2.345e+00   2768.160      2.970   2.870654e+05\n",
      " 2.350e+00   2768.160      2.970   2.870654e+05\n",
      " 2.355e+00   2768.160      2.970   2.870654e+05\n",
      " 2.360e+00   2768.160      2.970   2.870654e+05\n",
      " 2.365e+00   2768.160      2.970   2.870654e+05\n",
      " 2.370e+00   2768.160      2.970   2.870654e+05\n",
      " 2.375e+00   2768.160      2.970   2.870654e+05\n",
      " 2.380e+00   2768.160      2.970   2.870654e+05\n",
      " 2.385e+00   2768.160      2.970   2.870654e+05\n",
      " 2.390e+00   2768.160      2.970   2.870654e+05\n",
      " 2.395e+00   2768.160      2.970   2.870654e+05\n",
      " 2.400e+00   2768.160      2.970   2.870654e+05\n"
     ]
    }
   ],
   "source": [
    "# Arrays to hold the datas\n",
    "n_points = 400\n",
    "times = np.zeros(n_points)\n",
    "data = np.zeros((n_points, 4))\n",
    "\n",
    "# Advance the simulation in time\n",
    "# and print the internal evolution of temperature, volume and internal energy\n",
    "print(('%10s %10s %10s %14s' % ('t [s]', 'T [K]', 'vol [m3]', 'u [J/kg]')))\n",
    "for n in range(n_points):\n",
    "    time += 5.e-3\n",
    "    sim.advance(time)\n",
    "    times[n] = time  # time in s\n",
    "    data[n, 0] = r.T                               # set the temperature in the first column\n",
    "    data[n, 1:] = r.thermo['O2', 'CO2', 'CH4'].X     # set the molar fractions in the other column\n",
    "    print(('%10.3e %10.3f %10.3f %14.6e' % (sim.time, r.T,\n",
    "                                            r.thermo.v, r.thermo.u)))"
   ]
  },
  {
   "cell_type": "markdown",
   "metadata": {},
   "source": [
    "### Plot results"
   ]
  },
  {
   "cell_type": "code",
   "execution_count": 5,
   "metadata": {},
   "outputs": [
    {
     "data": {
      "image/png": "[encoded data removed]",
      "text/plain": [
       "<Figure size 1008x720 with 4 Axes>"
      ]
     },
     "metadata": {
      "needs_background": "light"
     },
     "output_type": "display_data"
    }
   ],
   "source": [
    "rcParams['figure.figsize'] = (14, 10)\n",
    "\n",
    "plt.clf()\n",
    "\n",
    "plt.subplot(2, 2, 1)\n",
    "plt.plot(times, data[:, 0])\n",
    "plt.xlabel('Time (ms)')\n",
    "plt.ylabel('Temperature (K)')\n",
    "\n",
    "plt.subplot(2, 2, 2)\n",
    "plt.plot(times, data[:, 1])\n",
    "plt.xlabel('Time (ms)')\n",
    "plt.ylabel('O2 Mole Fraction')\n",
    "\n",
    "plt.subplot(2, 2, 3)\n",
    "plt.plot(times, data[:, 2])\n",
    "plt.xlabel('Time (ms)')\n",
    "plt.ylabel('CO2 Mole Fraction')\n",
    "\n",
    "plt.subplot(2, 2, 4)\n",
    "plt.plot(times, data[:, 3])\n",
    "plt.xlabel('Time (ms)')\n",
    "plt.ylabel('CH4 Mole Fraction')\n",
    "\n",
    "plt.show()"
   ]
  },
  {
   "cell_type": "markdown",
   "metadata": {},
   "source": [
    "There are the characteristic evolutions that one can observe when simulating 0D cases. You should be aware that your case must auto-ignite (for some temperature, it is not sufficiently hot to auto-ignite, therefore nothing happens) and that the simulated time should be sufficient to capture the time where it ignites."
   ]
  },
  {
   "cell_type": "markdown",
   "metadata": {},
   "source": [
    "<div class=\"alert alert-danger \"><b>Try to move the temperature of the gas state :<br>\n",
    "- at 960 K<br>\n",
    "- at 1040 K\n",
    "<br><br>\n",
    "What do you observe ?</b>"
   ]
  },
  {
   "cell_type": "markdown",
   "metadata": {},
   "source": [
    "## 3. A simple constant pressure reactor"
   ]
  },
  {
   "cell_type": "markdown",
   "metadata": {},
   "source": [
    "### Set the mechanism properties"
   ]
  },
  {
   "cell_type": "code",
   "execution_count": 6,
   "metadata": {},
   "outputs": [],
   "source": [
    "# Mechanisms used for the process\n",
    "gri3 = ct.Solution('gri30.xml')\n",
    "air = ct.Solution('air.xml')\n",
    "\n",
    "# Gas state\n",
    "gri3.TPX = 1000.0, ct.one_atm, 'CH4:0.5,O2:1,N2:3.76'"
   ]
  },
  {
   "cell_type": "markdown",
   "metadata": {},
   "source": [
    "### Set the reservoir"
   ]
  },
  {
   "cell_type": "markdown",
   "metadata": {},
   "source": [
    "<div class=\"alert alert-danger \"><b> Try to set :<br>\n",
    "- an IdealGasReactor object with the gri3 object created above<br>\n",
    "- a Reservoir representing the environment with the air object created above\n",
    "</p>"
   ]
  },
  {
   "cell_type": "code",
   "execution_count": 7,
   "metadata": {},
   "outputs": [],
   "source": [
    "# Reactor and environment\n",
    "r = ...\n",
    "env = ...\n",
    "\n",
    "# Wall\n",
    "w = ct.Wall(r, env)\n",
    "w.expansion_rate_coeff = 1.0e6  # set expansion parameter. dV/dt = KA(P_1 - P_2)\n",
    "w.area = 1.0\n",
    "\n",
    "# Prepare the simulation with a ReactorNet object\n",
    "sim = ct.ReactorNet([r])\n",
    "time = 4.e-1"
   ]
  },
  {
   "cell_type": "markdown",
   "metadata": {},
   "source": [
    "As explained in the lecture, note that the environment defines the air in which the reactor is set in. We also define a wall between the reactor and the environment, and make it flexible, so that the pressure in the reactor is held at the environment pressure."
   ]
  },
  {
   "cell_type": "markdown",
   "metadata": {},
   "source": [
    "### Simulate the reactor"
   ]
  },
  {
   "cell_type": "code",
   "execution_count": 8,
   "metadata": {},
   "outputs": [
    {
     "name": "stdout",
     "output_type": "stream",
     "text": [
      "     t [s]      T [K]     P [Pa]       h [J/kg]\n",
      " 4.050e-01   1000.862 101325.000   5.879513e+05\n",
      " 4.100e-01   1000.883 101325.000   5.879513e+05\n",
      " 4.150e-01   1000.905 101325.000   5.879513e+05\n",
      " 4.200e-01   1000.927 101325.000   5.879513e+05\n",
      " 4.250e-01   1000.950 101325.000   5.879513e+05\n",
      " 4.300e-01   1000.973 101325.000   5.879513e+05\n",
      " 4.350e-01   1000.996 101325.000   5.879513e+05\n",
      " 4.400e-01   1001.020 101325.000   5.879513e+05\n",
      " 4.450e-01   1001.044 101325.000   5.879513e+05\n",
      " 4.500e-01   1001.069 101325.000   5.879513e+05\n",
      " 4.550e-01   1001.094 101325.000   5.879513e+05\n",
      " 4.600e-01   1001.120 101325.000   5.879513e+05\n",
      " 4.650e-01   1001.146 101325.000   5.879513e+05\n",
      " 4.700e-01   1001.173 101325.000   5.879513e+05\n",
      " 4.750e-01   1001.200 101325.000   5.879513e+05\n",
      " 4.800e-01   1001.228 101325.000   5.879513e+05\n",
      " 4.850e-01   1001.257 101325.000   5.879513e+05\n",
      " 4.900e-01   1001.285 101325.000   5.879513e+05\n",
      " 4.950e-01   1001.315 101325.000   5.879513e+05\n",
      " 5.000e-01   1001.345 101325.000   5.879513e+05\n",
      " 5.050e-01   1001.376 101325.000   5.879513e+05\n",
      " 5.100e-01   1001.407 101325.000   5.879513e+05\n",
      " 5.150e-01   1001.439 101325.000   5.879513e+05\n",
      " 5.200e-01   1001.471 101325.000   5.879513e+05\n",
      " 5.250e-01   1001.504 101325.000   5.879513e+05\n",
      " 5.300e-01   1001.538 101325.000   5.879513e+05\n",
      " 5.350e-01   1001.573 101325.000   5.879513e+05\n",
      " 5.400e-01   1001.608 101325.000   5.879513e+05\n",
      " 5.450e-01   1001.644 101325.000   5.879513e+05\n",
      " 5.500e-01   1001.680 101325.000   5.879513e+05\n",
      " 5.550e-01   1001.717 101325.000   5.879513e+05\n",
      " 5.600e-01   1001.756 101325.000   5.879513e+05\n",
      " 5.650e-01   1001.794 101325.000   5.879513e+05\n",
      " 5.700e-01   1001.834 101325.000   5.879513e+05\n",
      " 5.750e-01   1001.875 101325.000   5.879513e+05\n",
      " 5.800e-01   1001.916 101325.000   5.879513e+05\n",
      " 5.850e-01   1001.958 101325.000   5.879513e+05\n",
      " 5.900e-01   1002.001 101325.000   5.879513e+05\n",
      " 5.950e-01   1002.045 101325.000   5.879513e+05\n",
      " 6.000e-01   1002.090 101325.000   5.879513e+05\n",
      " 6.050e-01   1002.136 101325.000   5.879513e+05\n",
      " 6.100e-01   1002.183 101325.000   5.879513e+05\n",
      " 6.150e-01   1002.231 101325.000   5.879513e+05\n",
      " 6.200e-01   1002.280 101325.000   5.879513e+05\n",
      " 6.250e-01   1002.330 101325.000   5.879513e+05\n",
      " 6.300e-01   1002.381 101325.000   5.879513e+05\n",
      " 6.350e-01   1002.433 101325.000   5.879513e+05\n",
      " 6.400e-01   1002.486 101325.000   5.879513e+05\n",
      " 6.450e-01   1002.541 101325.000   5.879513e+05\n",
      " 6.500e-01   1002.596 101325.000   5.879513e+05\n",
      " 6.550e-01   1002.653 101325.000   5.879513e+05\n",
      " 6.600e-01   1002.712 101325.000   5.879513e+05\n",
      " 6.650e-01   1002.771 101325.000   5.879513e+05\n",
      " 6.700e-01   1002.832 101325.000   5.879513e+05\n",
      " 6.750e-01   1002.895 101325.000   5.879513e+05\n",
      " 6.800e-01   1002.958 101325.000   5.879513e+05\n",
      " 6.850e-01   1003.024 101325.000   5.879513e+05\n",
      " 6.900e-01   1003.091 101325.000   5.879513e+05\n",
      " 6.950e-01   1003.159 101325.000   5.879513e+05\n",
      " 7.000e-01   1003.229 101325.000   5.879513e+05\n",
      " 7.050e-01   1003.301 101325.000   5.879513e+05\n",
      " 7.100e-01   1003.374 101325.000   5.879513e+05\n",
      " 7.150e-01   1003.450 101325.000   5.879513e+05\n",
      " 7.200e-01   1003.527 101325.000   5.879513e+05\n",
      " 7.250e-01   1003.606 101325.000   5.879513e+05\n",
      " 7.300e-01   1003.687 101325.000   5.879513e+05\n",
      " 7.350e-01   1003.771 101325.000   5.879513e+05\n",
      " 7.400e-01   1003.856 101325.000   5.879513e+05\n",
      " 7.450e-01   1003.943 101325.000   5.879513e+05\n",
      " 7.500e-01   1004.033 101325.000   5.879513e+05\n",
      " 7.550e-01   1004.125 101325.000   5.879513e+05\n",
      " 7.600e-01   1004.220 101325.000   5.879513e+05\n",
      " 7.650e-01   1004.317 101325.000   5.879513e+05\n",
      " 7.700e-01   1004.417 101325.000   5.879513e+05\n",
      " 7.750e-01   1004.520 101325.000   5.879513e+05\n",
      " 7.800e-01   1004.625 101325.000   5.879513e+05\n",
      " 7.850e-01   1004.734 101325.000   5.879513e+05\n",
      " 7.900e-01   1004.845 101325.000   5.879513e+05\n",
      " 7.950e-01   1004.960 101325.000   5.879513e+05\n",
      " 8.000e-01   1005.078 101325.000   5.879513e+05\n",
      " 8.050e-01   1005.200 101325.000   5.879513e+05\n",
      " 8.100e-01   1005.325 101325.000   5.879513e+05\n",
      " 8.150e-01   1005.454 101325.000   5.879513e+05\n",
      " 8.200e-01   1005.587 101325.000   5.879513e+05\n",
      " 8.250e-01   1005.724 101325.000   5.879513e+05\n",
      " 8.300e-01   1005.865 101325.000   5.879513e+05\n",
      " 8.350e-01   1006.011 101325.000   5.879513e+05\n",
      " 8.400e-01   1006.162 101325.000   5.879513e+05\n",
      " 8.450e-01   1006.317 101325.000   5.879513e+05\n",
      " 8.500e-01   1006.478 101325.000   5.879513e+05\n",
      " 8.550e-01   1006.644 101325.000   5.879513e+05\n",
      " 8.600e-01   1006.816 101325.000   5.879513e+05\n",
      " 8.650e-01   1006.994 101325.000   5.879513e+05\n",
      " 8.700e-01   1007.179 101325.000   5.879513e+05\n",
      " 8.750e-01   1007.370 101325.000   5.879513e+05\n",
      " 8.800e-01   1007.568 101325.000   5.879513e+05\n",
      " 8.850e-01   1007.774 101325.000   5.879513e+05\n",
      " 8.900e-01   1007.987 101325.000   5.879513e+05\n",
      " 8.950e-01   1008.209 101325.000   5.879513e+05\n",
      " 9.000e-01   1008.440 101325.000   5.879513e+05\n",
      " 9.050e-01   1008.681 101325.000   5.879513e+05\n",
      " 9.100e-01   1008.931 101325.000   5.879513e+05\n",
      " 9.150e-01   1009.192 101325.000   5.879513e+05\n",
      " 9.200e-01   1009.464 101325.000   5.879513e+05\n",
      " 9.250e-01   1009.749 101325.000   5.879513e+05\n",
      " 9.300e-01   1010.047 101325.000   5.879513e+05\n",
      " 9.350e-01   1010.359 101325.000   5.879513e+05\n",
      " 9.400e-01   1010.686 101325.000   5.879513e+05\n",
      " 9.450e-01   1011.029 101325.000   5.879513e+05\n",
      " 9.500e-01   1011.390 101325.000   5.879513e+05\n",
      " 9.550e-01   1011.770 101325.000   5.879513e+05\n",
      " 9.600e-01   1012.171 101325.000   5.879513e+05\n",
      " 9.650e-01   1012.594 101325.000   5.879513e+05\n",
      " 9.700e-01   1013.043 101325.000   5.879513e+05\n",
      " 9.750e-01   1013.518 101325.000   5.879513e+05\n",
      " 9.800e-01   1014.023 101325.000   5.879514e+05\n",
      " 9.850e-01   1014.561 101325.000   5.879514e+05\n",
      " 9.900e-01   1015.136 101325.000   5.879514e+05\n",
      " 9.950e-01   1015.752 101325.000   5.879513e+05\n",
      " 1.000e+00   1016.414 101325.000   5.879513e+05\n",
      " 1.005e+00   1017.128 101325.000   5.879514e+05\n",
      " 1.010e+00   1017.901 101325.000   5.879514e+05\n",
      " 1.015e+00   1018.741 101325.000   5.879515e+05\n",
      " 1.020e+00   1019.659 101325.000   5.879515e+05\n",
      " 1.025e+00   1020.667 101325.000   5.879515e+05\n",
      " 1.030e+00   1021.782 101325.000   5.879515e+05\n",
      " 1.035e+00   1023.024 101325.000   5.879515e+05\n",
      " 1.040e+00   1024.418 101325.000   5.879515e+05\n",
      " 1.045e+00   1026.001 101325.000   5.879515e+05\n",
      " 1.050e+00   1027.817 101325.000   5.879515e+05\n",
      " 1.055e+00   1029.935 101325.000   5.879515e+05\n",
      " 1.060e+00   1032.448 101325.000   5.879515e+05\n",
      " 1.065e+00   1035.501 101325.000   5.879515e+05\n",
      " 1.070e+00   1039.327 101325.000   5.879516e+05\n",
      " 1.075e+00   1044.333 101325.000   5.879516e+05\n",
      " 1.080e+00   1051.304 101325.000   5.879515e+05\n",
      " 1.085e+00   1062.048 101325.000   5.879515e+05\n",
      " 1.090e+00   1082.090 101325.000   5.879515e+05\n",
      " 1.095e+00   1146.076 101325.000   5.879515e+05\n",
      " 1.100e+00   2549.420 101325.000   5.879514e+05\n",
      " 1.105e+00   2545.390 101325.000   5.879514e+05\n",
      " 1.110e+00   2543.192 101325.000   5.879514e+05\n",
      " 1.115e+00   2542.105 101325.000   5.879514e+05\n",
      " 1.120e+00   2541.590 101325.000   5.879514e+05\n",
      " 1.125e+00   2541.351 101325.000   5.879514e+05\n",
      " 1.130e+00   2541.240 101325.000   5.879514e+05\n",
      " 1.135e+00   2541.189 101325.000   5.879514e+05\n",
      " 1.140e+00   2541.166 101325.000   5.879514e+05\n",
      " 1.145e+00   2541.155 101325.000   5.879514e+05\n",
      " 1.150e+00   2541.151 101325.000   5.879514e+05\n",
      " 1.155e+00   2541.148 101325.000   5.879514e+05\n",
      " 1.160e+00   2541.147 101325.000   5.879514e+05\n",
      " 1.165e+00   2541.147 101325.000   5.879514e+05\n",
      " 1.170e+00   2541.147 101325.000   5.879514e+05\n",
      " 1.175e+00   2541.146 101325.000   5.879514e+05\n",
      " 1.180e+00   2541.146 101325.000   5.879514e+05\n",
      " 1.185e+00   2541.146 101325.000   5.879514e+05\n",
      " 1.190e+00   2541.146 101325.000   5.879514e+05\n",
      " 1.195e+00   2541.146 101325.000   5.879514e+05\n",
      " 1.200e+00   2541.146 101325.000   5.879514e+05\n",
      " 1.205e+00   2541.146 101325.000   5.879514e+05\n",
      " 1.210e+00   2541.146 101325.000   5.879514e+05\n",
      " 1.215e+00   2541.146 101325.000   5.879514e+05\n",
      " 1.220e+00   2541.146 101325.000   5.879514e+05\n",
      " 1.225e+00   2541.146 101325.000   5.879514e+05\n",
      " 1.230e+00   2541.146 101325.000   5.879514e+05\n",
      " 1.235e+00   2541.146 101325.000   5.879514e+05\n",
      " 1.240e+00   2541.146 101325.000   5.879514e+05\n",
      " 1.245e+00   2541.146 101325.000   5.879514e+05\n",
      " 1.250e+00   2541.146 101325.000   5.879514e+05\n",
      " 1.255e+00   2541.146 101325.000   5.879514e+05\n",
      " 1.260e+00   2541.146 101325.000   5.879514e+05\n",
      " 1.265e+00   2541.146 101325.000   5.879514e+05\n",
      " 1.270e+00   2541.146 101325.000   5.879514e+05\n",
      " 1.275e+00   2541.146 101325.000   5.879514e+05\n",
      " 1.280e+00   2541.146 101325.000   5.879514e+05\n",
      " 1.285e+00   2541.146 101325.000   5.879514e+05\n",
      " 1.290e+00   2541.146 101325.000   5.879514e+05\n",
      " 1.295e+00   2541.146 101325.000   5.879514e+05\n",
      " 1.300e+00   2541.146 101325.000   5.879514e+05\n",
      " 1.305e+00   2541.146 101325.000   5.879514e+05\n",
      " 1.310e+00   2541.146 101325.000   5.879514e+05\n",
      " 1.315e+00   2541.146 101325.000   5.879513e+05\n",
      " 1.320e+00   2541.146 101325.000   5.879513e+05\n",
      " 1.325e+00   2541.146 101325.000   5.879513e+05\n"
     ]
    },
    {
     "name": "stdout",
     "output_type": "stream",
     "text": [
      " 1.330e+00   2541.146 101325.000   5.879513e+05\n",
      " 1.335e+00   2541.146 101325.000   5.879513e+05\n",
      " 1.340e+00   2541.146 101325.000   5.879513e+05\n",
      " 1.345e+00   2541.146 101325.000   5.879513e+05\n",
      " 1.350e+00   2541.146 101325.000   5.879513e+05\n",
      " 1.355e+00   2541.146 101325.000   5.879513e+05\n",
      " 1.360e+00   2541.146 101325.000   5.879513e+05\n",
      " 1.365e+00   2541.146 101325.000   5.879513e+05\n",
      " 1.370e+00   2541.146 101325.000   5.879514e+05\n",
      " 1.375e+00   2541.146 101325.000   5.879514e+05\n",
      " 1.380e+00   2541.146 101325.000   5.879514e+05\n",
      " 1.385e+00   2541.146 101325.000   5.879514e+05\n",
      " 1.390e+00   2541.146 101325.000   5.879514e+05\n",
      " 1.395e+00   2541.146 101325.000   5.879514e+05\n",
      " 1.400e+00   2541.146 101325.000   5.879514e+05\n"
     ]
    }
   ],
   "source": [
    "# Arrays to hold the datas\n",
    "times = np.zeros(200)\n",
    "data = np.zeros((200, 4))\n",
    "\n",
    "# Advance the simulation in time\n",
    "print(('%10s %10s %10s %14s' % ('t [s]', 'T [K]', 'P [Pa]', 'h [J/kg]')))\n",
    "for n in range(200):\n",
    "    time += 5.e-3\n",
    "    sim.advance(time)\n",
    "    times[n] = time  # time in s\n",
    "    data[n, 0] = r.T\n",
    "    data[n, 1:] = r.thermo['O2', 'CO2', 'CH4'].X\n",
    "    print(('%10.3e %10.3f %10.3f %14.6e' % (sim.time, r.T,\n",
    "                                            r.thermo.P, r.thermo.h)))"
   ]
  },
  {
   "cell_type": "code",
   "execution_count": 9,
   "metadata": {},
   "outputs": [
    {
     "data": {
      "image/png": "[encoded data removed]",
      "text/plain": [
       "<Figure size 1008x720 with 4 Axes>"
      ]
     },
     "metadata": {
      "needs_background": "light"
     },
     "output_type": "display_data"
    }
   ],
   "source": [
    "rcParams['figure.figsize'] = (14, 10)\n",
    "\n",
    "plt.clf()\n",
    "\n",
    "plt.subplot(2, 2, 1)\n",
    "plt.plot(times, data[:, 0])\n",
    "plt.xlabel('Time (ms)')\n",
    "plt.ylabel('Temperature (K)')\n",
    "\n",
    "plt.subplot(2, 2, 2)\n",
    "plt.plot(times, data[:, 1])\n",
    "plt.xlabel('Time (ms)')\n",
    "plt.ylabel('O2 Mole Fraction')\n",
    "\n",
    "plt.subplot(2, 2, 3)\n",
    "plt.plot(times, data[:, 2])\n",
    "plt.xlabel('Time (ms)')\n",
    "plt.ylabel('CO2 Mole Fraction')\n",
    "\n",
    "plt.subplot(2, 2, 4)\n",
    "plt.plot(times, data[:, 3])\n",
    "plt.xlabel('Time (ms)')\n",
    "plt.ylabel('CH4 Mole Fraction')\n",
    "\n",
    "plt.show()"
   ]
  },
  {
   "cell_type": "markdown",
   "metadata": {},
   "source": [
    "<div class=\"alert alert-danger \"><b> Try to modify the script by creating an *IdealGasConstPressureReactor* instead of setting the environment into a reservoir to maintain the pressure. </b>"
   ]
  },
  {
   "cell_type": "markdown",
   "metadata": {},
   "source": [
    "### Set the new IdealGasConstPressureReactor"
   ]
  },
  {
   "cell_type": "code",
   "execution_count": null,
   "metadata": {},
   "outputs": [],
   "source": []
  },
  {
   "cell_type": "markdown",
   "metadata": {},
   "source": [
    "### Simulate the new case"
   ]
  },
  {
   "cell_type": "code",
   "execution_count": null,
   "metadata": {},
   "outputs": [],
   "source": []
  },
  {
   "cell_type": "markdown",
   "metadata": {},
   "source": [
    "### Plot the results and compare with the previous one"
   ]
  },
  {
   "cell_type": "code",
   "execution_count": null,
   "metadata": {},
   "outputs": [],
   "source": []
  },
  {
   "cell_type": "markdown",
   "metadata": {},
   "source": [
    "## 4. An example of application : mixing two streams"
   ]
  },
  {
   "cell_type": "markdown",
   "metadata": {},
   "source": [
    "Up until now, we have seen how to generate simple closed vessels. However, it is sometimes interesting\n",
    "to mix different streams, or to feed the exhaust of a reservoir with constant parameters to a reacting\n",
    "reactor. In this exercise, we will design a script that simulates the stoichiometric constant volume\n",
    "mixing of a stream of air with a stream of pure gaseous methane."
   ]
  },
  {
   "cell_type": "markdown",
   "metadata": {},
   "source": [
    "![title](Images/Scheme.png)"
   ]
  },
  {
   "cell_type": "markdown",
   "metadata": {},
   "source": [
    "### Set the two gases and the molar mass associated"
   ]
  },
  {
   "cell_type": "markdown",
   "metadata": {},
   "source": [
    "<div class=\"alert alert-danger \"><b> You will have to :<br>\n",
    "- set a first gas a with an air mixture at 0.21 of O2, 0.01 of AR and 0.78 of N2<br>\n",
    "- set a second gas b with a gri30 mixture at 1 of CH4\n",
    "<b>"
   ]
  },
  {
   "cell_type": "code",
   "execution_count": 8,
   "metadata": {},
   "outputs": [],
   "source": [
    "gas_a = ...\n",
    "gas_a.TPX = ...\n",
    "mw_a = gas_a.mean_molecular_weight/1000 #kg/mol\n",
    "\n",
    "gas_b = ...\n",
    "gas_b.TPX = ...\n",
    "mw_b = gas_b.mean_molecular_weight/1000 #kg/mol"
   ]
  },
  {
   "cell_type": "markdown",
   "metadata": {},
   "source": [
    "### Creation of two reservoirs and an exhaust one (ReactorBase)"
   ]
  },
  {
   "cell_type": "markdown",
   "metadata": {},
   "source": [
    "<div class=\"alert alert-danger \"><b> You will have to :<br>\n",
    "- set a first reservoir from gas a<br>\n",
    "- set a second reservoir from gas b<br>\n",
    "- set a downstream reservoir filled with gas b\n",
    "<b>"
   ]
  },
  {
   "cell_type": "code",
   "execution_count": 15,
   "metadata": {},
   "outputs": [],
   "source": [
    "res_a = ...\n",
    "res_b = ...\n",
    "downstream = ..."
   ]
  },
  {
   "cell_type": "markdown",
   "metadata": {},
   "source": [
    "### Generate the reactor that will receive the mixed stream (ReactorBase)"
   ]
  },
  {
   "cell_type": "markdown",
   "metadata": {},
   "source": [
    "<div class=\"alert alert-danger \"><b> You will have to :<br>\n",
    "- change the condition of the gas b to respect an air mix.<br>\n",
    "- create and IdealGasReactor with the energy equation set to 'on'.\n",
    "<b>"
   ]
  },
  {
   "cell_type": "code",
   "execution_count": 19,
   "metadata": {},
   "outputs": [],
   "source": [
    "gas_b.TPX = ...\n",
    "mixer = ..."
   ]
  },
  {
   "cell_type": "markdown",
   "metadata": {},
   "source": [
    "Watch out here, the mixture should the one of gas_b, as the reactions will occur with mechansim from gri30 (and not from the air)."
   ]
  },
  {
   "cell_type": "markdown",
   "metadata": {},
   "source": [
    "### Creation of the mass flow controller that will control the mixing (FlowDevice)"
   ]
  },
  {
   "cell_type": "markdown",
   "metadata": {},
   "source": [
    "Now that you have specified all the elements of the reactor, you need to detail the link between them. This is what is done in the following lines :"
   ]
  },
  {
   "cell_type": "code",
   "execution_count": 24,
   "metadata": {},
   "outputs": [],
   "source": [
    "mfca = ct.MassFlowController(res_a, mixer, mdot=mw_a*2./0.21)\n",
    "mfcb = ct.MassFlowController(res_b, mixer, mdot=mw_b*1.0)"
   ]
  },
  {
   "cell_type": "markdown",
   "metadata": {},
   "source": [
    "### Creation of the valve between the mixer and the downstream (FlowDevice)"
   ]
  },
  {
   "cell_type": "markdown",
   "metadata": {},
   "source": [
    "Finally, the valve is created."
   ]
  },
  {
   "cell_type": "code",
   "execution_count": 25,
   "metadata": {},
   "outputs": [],
   "source": [
    "outlet = ct.Valve(mixer, downstream, K=10.0)"
   ]
  },
  {
   "cell_type": "markdown",
   "metadata": {},
   "source": [
    "This valve will enable the system to keep a constant pressure at the inlet of the mixer and at the outlet."
   ]
  },
  {
   "cell_type": "markdown",
   "metadata": {},
   "source": [
    "### Creation of the net reactor to compute simulation"
   ]
  },
  {
   "cell_type": "markdown",
   "metadata": {},
   "source": [
    "<div class=\"alert alert-danger \"><b> You need to create the ReactorNet with the mixer. <b>"
   ]
  },
  {
   "cell_type": "code",
   "execution_count": 26,
   "metadata": {},
   "outputs": [],
   "source": [
    "sim = ..."
   ]
  },
  {
   "cell_type": "code",
   "execution_count": 27,
   "metadata": {},
   "outputs": [
    {
     "name": "stdout",
     "output_type": "stream",
     "text": [
      "         t [s]          T [K]       h [J/kg]         P [Pa]          X_CH4\n",
      "          7.72            300    -2.5351e+05     1.0133e+05       0.095023\n",
      "         15.44            300    -2.5351e+05     1.0133e+05       0.095023\n",
      "         23.16            300    -2.5351e+05     1.0133e+05       0.095023\n",
      "         30.88            300    -2.5351e+05     1.0133e+05       0.095023\n",
      "          38.6            300    -2.5351e+05     1.0133e+05       0.095023\n",
      "         46.32            300    -2.5351e+05     1.0133e+05       0.095023\n",
      "         54.04            300    -2.5351e+05     1.0133e+05       0.095023\n",
      "         61.76            300    -2.5351e+05     1.0133e+05       0.095023\n",
      "         69.48            300    -2.5351e+05     1.0133e+05       0.095023\n",
      "          77.2            300    -2.5351e+05     1.0133e+05       0.095023\n",
      "         84.92            300    -2.5351e+05     1.0133e+05       0.095023\n",
      "         92.64            300    -2.5351e+05     1.0133e+05       0.095023\n",
      "        100.36            300    -2.5351e+05     1.0133e+05       0.095023\n",
      "        108.08            300    -2.5351e+05     1.0133e+05       0.095023\n",
      "         115.8            300    -2.5351e+05     1.0133e+05       0.095023\n",
      "        123.52            300    -2.5351e+05     1.0133e+05       0.095023\n",
      "        131.24            300    -2.5351e+05     1.0133e+05       0.095023\n",
      "        138.96            300    -2.5351e+05     1.0133e+05       0.095023\n",
      "        146.68            300    -2.5351e+05     1.0133e+05       0.095023\n",
      "         154.4            300    -2.5351e+05     1.0133e+05       0.095023\n",
      "        162.12            300    -2.5351e+05     1.0133e+05       0.095023\n",
      "        169.84            300    -2.5351e+05     1.0133e+05       0.095023\n",
      "        177.56            300    -2.5351e+05     1.0133e+05       0.095023\n",
      "        185.28            300    -2.5351e+05     1.0133e+05       0.095023\n",
      "           193            300    -2.5351e+05     1.0133e+05       0.095023\n",
      "        200.72            300    -2.5351e+05     1.0133e+05       0.095023\n",
      "        208.44            300    -2.5351e+05     1.0133e+05       0.095023\n",
      "        216.16            300    -2.5351e+05     1.0133e+05       0.095023\n",
      "        223.88            300    -2.5351e+05     1.0133e+05       0.095023\n",
      "         231.6            300    -2.5351e+05     1.0133e+05       0.095023\n",
      "        239.32            300    -2.5351e+05     1.0133e+05       0.095023\n",
      "        247.04            300    -2.5351e+05     1.0133e+05       0.095023\n",
      "        254.76            300    -2.5351e+05     1.0133e+05       0.095023\n",
      "        262.48            300    -2.5351e+05     1.0133e+05       0.095023\n",
      "         270.2            300    -2.5351e+05     1.0133e+05       0.095023\n",
      "        277.92            300    -2.5351e+05     1.0133e+05       0.095023\n",
      "        285.64            300    -2.5351e+05     1.0133e+05       0.095023\n",
      "        293.36            300    -2.5351e+05     1.0133e+05       0.095023\n",
      "        301.08            300    -2.5351e+05     1.0133e+05       0.095023\n",
      "         308.8            300    -2.5351e+05     1.0133e+05       0.095023\n",
      "        316.52            300    -2.5351e+05     1.0133e+05       0.095023\n",
      "        324.24            300    -2.5351e+05     1.0133e+05       0.095023\n",
      "        331.96            300    -2.5351e+05     1.0133e+05       0.095023\n",
      "        339.68            300    -2.5351e+05     1.0133e+05       0.095023\n",
      "         347.4            300    -2.5351e+05     1.0133e+05       0.095023\n",
      "        355.12            300    -2.5351e+05     1.0133e+05       0.095023\n",
      "        362.84            300    -2.5351e+05     1.0133e+05       0.095023\n",
      "        370.56            300    -2.5351e+05     1.0133e+05       0.095023\n",
      "        378.28            300    -2.5351e+05     1.0133e+05       0.095023\n",
      "           386            300    -2.5351e+05     1.0133e+05       0.095023\n",
      "        393.72            300    -2.5351e+05     1.0133e+05       0.095023\n",
      "        401.44            300    -2.5351e+05     1.0133e+05       0.095023\n",
      "        409.16            300    -2.5351e+05     1.0133e+05       0.095023\n",
      "        416.88            300    -2.5351e+05     1.0133e+05       0.095023\n",
      "         424.6            300    -2.5351e+05     1.0133e+05       0.095023\n",
      "        432.32            300    -2.5351e+05     1.0133e+05       0.095023\n",
      "        440.04            300    -2.5351e+05     1.0133e+05       0.095023\n",
      "        447.76            300    -2.5351e+05     1.0133e+05       0.095023\n",
      "        455.48            300    -2.5351e+05     1.0133e+05       0.095023\n",
      "         463.2            300    -2.5351e+05     1.0133e+05       0.095023\n",
      "        470.92            300    -2.5351e+05     1.0133e+05       0.095023\n",
      "        478.64            300    -2.5351e+05     1.0133e+05       0.095023\n",
      "        486.36            300    -2.5351e+05     1.0133e+05       0.095023\n",
      "        494.08            300    -2.5351e+05     1.0133e+05       0.095023\n",
      "         501.8            300    -2.5351e+05     1.0133e+05       0.095023\n",
      "        509.52            300    -2.5351e+05     1.0133e+05       0.095023\n",
      "        517.24            300    -2.5351e+05     1.0133e+05       0.095023\n",
      "        524.96            300    -2.5351e+05     1.0133e+05       0.095023\n",
      "        532.68            300    -2.5351e+05     1.0133e+05       0.095023\n",
      "         540.4            300    -2.5351e+05     1.0133e+05       0.095023\n",
      "        548.12            300    -2.5351e+05     1.0133e+05       0.095023\n",
      "        555.84            300    -2.5351e+05     1.0133e+05       0.095023\n",
      "        563.56            300    -2.5351e+05     1.0133e+05       0.095023\n",
      "        571.28            300    -2.5351e+05     1.0133e+05       0.095023\n",
      "           579            300    -2.5351e+05     1.0133e+05       0.095023\n",
      "        586.72            300    -2.5351e+05     1.0133e+05       0.095023\n",
      "        594.44            300    -2.5351e+05     1.0133e+05       0.095023\n",
      "        602.16            300    -2.5351e+05     1.0133e+05       0.095023\n",
      "        609.88            300    -2.5351e+05     1.0133e+05       0.095023\n",
      "         617.6            300    -2.5351e+05     1.0133e+05       0.095023\n",
      "        625.32            300    -2.5351e+05     1.0133e+05       0.095023\n",
      "        633.04            300    -2.5351e+05     1.0133e+05       0.095023\n",
      "        640.76            300    -2.5351e+05     1.0133e+05       0.095023\n",
      "        648.48            300    -2.5351e+05     1.0133e+05       0.095023\n",
      "         656.2            300    -2.5351e+05     1.0133e+05       0.095023\n",
      "        663.92            300    -2.5351e+05     1.0133e+05       0.095023\n",
      "        671.64            300    -2.5351e+05     1.0133e+05       0.095023\n",
      "        679.36            300    -2.5351e+05     1.0133e+05       0.095023\n",
      "        687.08            300    -2.5351e+05     1.0133e+05       0.095023\n",
      "         694.8            300    -2.5351e+05     1.0133e+05       0.095023\n",
      "        702.52            300    -2.5351e+05     1.0133e+05       0.095023\n",
      "        710.24            300    -2.5351e+05     1.0133e+05       0.095023\n",
      "        717.96            300    -2.5351e+05     1.0133e+05       0.095023\n",
      "        725.68            300    -2.5351e+05     1.0133e+05       0.095023\n",
      "         733.4            300    -2.5351e+05     1.0133e+05       0.095023\n",
      "        741.12            300    -2.5351e+05     1.0133e+05       0.095023\n",
      "        748.84            300    -2.5351e+05     1.0133e+05       0.095023\n",
      "        756.56            300    -2.5351e+05     1.0133e+05       0.095023\n",
      "        764.28            300    -2.5351e+05     1.0133e+05       0.095023\n",
      "           772            300    -2.5351e+05     1.0133e+05       0.095023\n",
      "\n",
      "  gri30:\n",
      "\n",
      "       temperature             300  K\n",
      "          pressure          101325  Pa\n",
      "           density         1.12691  kg/m^3\n",
      "  mean mol. weight         27.7414  amu\n",
      "\n",
      "                          1 kg            1 kmol\n",
      "                       -----------      ------------\n",
      "          enthalpy     -2.5351e+05       -7.033e+06     J\n",
      "   internal energy     -3.4342e+05       -9.527e+06     J\n",
      "           entropy            7222        2.003e+05     J/K\n",
      "    Gibbs function     -2.4201e+06       -6.714e+07     J\n",
      " heat capacity c_p          1070.4         2.97e+04     J/K\n",
      " heat capacity c_v          770.71        2.138e+04     J/K\n",
      "\n",
      "                           X                 Y          Chem. Pot. / RT\n",
      "                     -------------     ------------     ------------\n",
      "                O2       0.190045         0.219211         -26.3342\n",
      "               CH4      0.0950226        0.0549513         -54.6765\n",
      "                N2       0.705882         0.712806         -23.3814\n",
      "                AR     0.00904977        0.0130318         -23.3151\n",
      "     [  +49 minor]    8.61174e-33      9.51901e-33\n",
      "\n"
     ]
    }
   ],
   "source": [
    "# Since the mixer is a reactor, we need to integrate in time to reach steady\n",
    "# state. A few residence times should be enough.\n",
    "print('{0:>14s} {1:>14s} {2:>14s} {3:>14s} {4:>14s}'.format('t [s]', 'T [K]', 'h [J/kg]', 'P [Pa]', 'X_CH4'))\n",
    "t = 0.0\n",
    "for n in range(100):\n",
    "    tres = mixer.mass/(mfca.mdot(t) + mfcb.mdot(t))\n",
    "    t += 2*tres\n",
    "    sim.advance(t)\n",
    "    print('{0:14.5g} {1:14.5g} {2:14.5g} {3:14.5g} {4:14.5g}'.format(t, mixer.T, mixer.thermo.h, mixer.thermo.P, mixer.thermo['CH4'].X[0]))\n",
    "\n",
    "print(mixer.thermo.report())"
   ]
  },
  {
   "cell_type": "markdown",
   "metadata": {},
   "source": [
    "Notice that the gas did not ignite, and that the composition is indeed stoichiometric. We could trigger\n",
    "the ignition, by assuming that the reactor is 'already lit'. To do so, you need to initialize the content\n",
    "of the reactor with hot gases. The simplest way to do so is by filling it with stoichiometric mixture of\n",
    "air and methane at equilibrium. This is easily done by replacing the lines :<br>\n",
    "<code>\n",
    "gas_b.TPX = 300.0, ct.one_atm, 'O2:0.21, N2:0.78, AR:0.01'\n",
    "mixer = ct.IdealGasReactor(gas_b)\n",
    "</code><br>\n",
    "with :\n",
    "<br><code>\n",
    "gas_b.TPX = 300.0,ct.one_atm,'O2:1., N2:3.78, CH4:0.5'\n",
    "gas_b.equilibrate(\"HP\")\n",
    "mixer = ct.IdealGasReactor(gas_b)\n",
    "</code>"
   ]
  },
  {
   "cell_type": "markdown",
   "metadata": {},
   "source": [
    "## 5. Autoignition timing"
   ]
  },
  {
   "cell_type": "markdown",
   "metadata": {},
   "source": [
    "An interesting feature of 0D simulations is that it allows to compute the temporal evolution of a\n",
    "mixture under specific conditions towards its equilibrium state. That evolution can be viewed as\n",
    "a sort of **autoignition** of the mixture.<br>\n",
    "To go further, that last exercise will guide you through\n",
    "such a computation of the autoignition timing of a methane/air mixture. Several definitions of the\n",
    "autoignition timing can be found on the literature. The most commonly accepted definition relies\n",
    "on the temperature gradient : the time of the sharpest temperature increase is spotted as being the\n",
    "autoignition point. In order to catch this time with precision, the time step of the simulation should\n",
    "be as small as possible."
   ]
  },
  {
   "cell_type": "markdown",
   "metadata": {},
   "source": [
    "### Create the gas object"
   ]
  },
  {
   "cell_type": "code",
   "execution_count": 32,
   "metadata": {},
   "outputs": [],
   "source": [
    "gas = ct.Solution('gri30.cti')\n",
    "gas.TPX = 1250, ct.one_atm, 'CH4:0.5, O2:1, N2:3.76'"
   ]
  },
  {
   "cell_type": "markdown",
   "metadata": {},
   "source": [
    "### Initialisation of the different values"
   ]
  },
  {
   "cell_type": "code",
   "execution_count": 34,
   "metadata": {},
   "outputs": [],
   "source": [
    "# Initial temperatures\n",
    "Temperature_range = list(range(800, 1700, 100))\n",
    "\n",
    "# Specify the number of time steps and the time step size\n",
    "nt = 100000\n",
    "dt = 1.e-4  # s\n",
    "\n",
    "# Storing auto ignitions\n",
    "auto_ignitions = []"
   ]
  },
  {
   "cell_type": "code",
   "execution_count": 35,
   "metadata": {},
   "outputs": [
    {
     "name": "stdout",
     "output_type": "stream",
     "text": [
      "For T = 800, Autoignition time = 9.999999999990033 s\n",
      "For T = 900, Autoignition time = 7.055299999996896 s\n",
      "For T = 1000, Autoignition time = 1.066899999999899 s\n",
      "For T = 1100, Autoignition time = 0.19789999999999452 s\n",
      "For T = 1200, Autoignition time = 0.043400000000000216 s\n",
      "For T = 1300, Autoignition time = 0.011099999999999988 s\n",
      "For T = 1400, Autoignition time = 0.0032999999999999982 s\n",
      "For T = 1500, Autoignition time = 0.0011000000000000003 s\n",
      "For T = 1600, Autoignition time = 0.0004 s\n"
     ]
    }
   ],
   "source": [
    "for index, Temperature in enumerate(Temperature_range):\n",
    "    #################################################################\n",
    "    # Initial temperature, Pressure and stoichiometry\n",
    "    gas.TPX = Temperature, ct.one_atm, 'CH4:0.5, O2:1, N2:3.76'\n",
    "    # Create the batch reactor\n",
    "    r = ct.IdealGasReactor(gas)\n",
    "    # Now create a reactor network consisting of the single batch reactor\n",
    "    sim = ct.ReactorNet([r])\n",
    "    # Storage space\n",
    "    mfrac = []\n",
    "    # ...\n",
    "    time = []\n",
    "    temperature = []\n",
    "    HR = []\n",
    "    # Run the simulation\n",
    "    # Initial simulation time\n",
    "    current_time = 0.0\n",
    "    # Loop for nt time steps of dt seconds.\n",
    "    for n in range(nt):\n",
    "        current_time += dt\n",
    "        sim.advance(current_time)\n",
    "        time.append(current_time)\n",
    "        temperature.append(r.T)\n",
    "        mfrac.append(r.thermo.Y)\n",
    "        HR.append(- np.dot(gas.net_production_rates, gas.partial_molar_enthalpies))\n",
    "    #################################################################\n",
    "    # Catch the autoignition timing\n",
    "    #################################################################\n",
    "    # Get the ignition delay time by the maximum value of the Heat Release rate\n",
    "    auto_ignition = time[HR.index(max(HR))]\n",
    "    print('For T = ' + str(Temperature) + ', Autoignition time = ' + str(auto_ignition) + ' s')\n",
    "    # Posterity\n",
    "    FinalTemp = temperature[nt - 1]\n",
    "    auto_ignitions.append(auto_ignition)\n",
    "    # #################################################################\n",
    "    # # Save results\n",
    "    # #################################################################\n",
    "    # # write output CSV file for importing into Excel\n",
    "    # csv_file = 'Phi-1_P-1_T-' + str(Temperature) + '_UV.csv'\n",
    "    # with open(csv_file, 'w') as outfile:\n",
    "    # writer = csv.writer(outfile)\n",
    "    # writer.writerow(['Auto ignition time [s]', 'Final Temperature [K]'] + gas.species_names)\n",
    "    # writer.writerow([auto_ignition, FinalTemp] + list(mfrac[:]))\n",
    "    # print('output written to ' + csv_file)\n",
    "T_invert = [1000 / Temperature for Temperature in Temperature_range]"
   ]
  },
  {
   "cell_type": "code",
   "execution_count": 38,
   "metadata": {},
   "outputs": [
    {
     "data": {
      "image/png": "[encoded data removed]",
      "text/plain": [
       "<Figure size 1008x720 with 1 Axes>"
      ]
     },
     "metadata": {
      "needs_background": "light"
     },
     "output_type": "display_data"
    }
   ],
   "source": [
    "#################################################################\n",
    "# Plot results\n",
    "#################################################################\n",
    "# create plot\n",
    "plt.plot(Temperature_range, auto_ignitions, 'b-o')\n",
    "plt.xlabel(r'Temperature [K]', fontsize=20)\n",
    "plt.ylabel(\"Auto ignition [s]\", fontsize=20)\n",
    "plt.yscale('log')\n",
    "plt.title(r'Autoignition of $CH_{4}$ + Air mixture at $\\Phi$ = 1, and P = 1 bar',\n",
    "fontsize=22, horizontalalignment='center')\n",
    "plt.axis(fontsize=20)\n",
    "plt.grid()\n",
    "plt.show()"
   ]
  },
  {
   "cell_type": "markdown",
   "metadata": {},
   "source": [
    "This is a typical curve of the auto-ignition time as a function of the temperature, meaning that when the temperature increases, this time is reduced."
   ]
  },
  {
   "cell_type": "code",
   "execution_count": null,
   "metadata": {},
   "outputs": [],
   "source": []
  }
 ],
 "metadata": {
  "kernelspec": {
   "display_name": "Python 3",
   "language": "python",
   "name": "python3"
  },
  "language_info": {
   "codemirror_mode": {
    "name": "ipython",
    "version": 3
   },
   "file_extension": ".py",
   "mimetype": "text/x-python",
   "name": "python",
   "nbconvert_exporter": "python",
   "pygments_lexer": "ipython3",
   "version": "3.7.1"
  }
 },
 "nbformat": 4,
 "nbformat_minor": 2
}
