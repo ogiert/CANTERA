{
 "cells": [
  {
   "cell_type": "markdown",
   "metadata": {},
   "source": [
    "# I - Gas first steps"
   ]
  },
  {
   "cell_type": "markdown",
   "metadata": {},
   "source": [
    "## 1. Importation of cantera"
   ]
  },
  {
   "cell_type": "code",
   "execution_count": 1,
   "metadata": {},
   "outputs": [],
   "source": [
    "import cantera as ct"
   ]
  },
  {
   "cell_type": "markdown",
   "metadata": {},
   "source": [
    "## 2. Create solution from cti file"
   ]
  },
  {
   "cell_type": "markdown",
   "metadata": {},
   "source": [
    "This will create an instance of the class *Solution* from cantera package.\n",
    "<br>\n",
    "The file <code>gri30.xml</code> contains all the important informations about the chemistry, meaning :\n",
    "- the properties of the different species\n",
    "- the reactions\n",
    "- the kinetics used\n",
    "- the type of transport used"
   ]
  },
  {
   "cell_type": "code",
   "execution_count": 2,
   "metadata": {},
   "outputs": [],
   "source": [
    "gas = ct.Solution(\"gri30.xml\")"
   ]
  },
  {
   "cell_type": "markdown",
   "metadata": {},
   "source": [
    "NB : This could have also been written : <code>gas = ct.Solution(\"gri30.cti\")</code>.\n",
    "<br>\n",
    "Indeed, cti and xml are only two different format and can be read the same way by cantera.\n",
    "The only difference is that cti file are more human readable than xml files."
   ]
  },
  {
   "cell_type": "markdown",
   "metadata": {},
   "source": [
    "## 3. Choose and print the thermodynamic state of the gas"
   ]
  },
  {
   "cell_type": "markdown",
   "metadata": {},
   "source": [
    "To define the mixture of the gas correctly, it is necessary to define **two thermodynamic parameters** and the quantities of the different species.\n",
    "These commands gives all the interesting informations for the gas state, namely the temperature, the pressure and the density of the mixture. \n",
    "It also gives information about the species in the mixture as mass fractions Y or molar fractions X."
   ]
  },
  {
   "cell_type": "markdown",
   "metadata": {},
   "source": [
    "### First method"
   ]
  },
  {
   "cell_type": "code",
   "execution_count": 3,
   "metadata": {},
   "outputs": [],
   "source": [
    "gas.TP = 500, 101325"
   ]
  },
  {
   "cell_type": "markdown",
   "metadata": {},
   "source": [
    "You can use several functions to define the state of your gas, that is to say :\n",
    "- gas.TP (Temperature Pressure)\n",
    "- gas.TD (Temperature Density)\n",
    "- gas.HP (Enthalpy Pressure)\n",
    "- gas.UV (Specific Internal Energy, Specific Volume)\n",
    "- gas.SP (Entropy Pressure)\n",
    "- gas.SV (Entropy Specific Volume)."
   ]
  },
  {
   "cell_type": "code",
   "execution_count": 4,
   "metadata": {},
   "outputs": [],
   "source": [
    "gas.X = {'CH4':1, 'O2':2, 'N2':7.52}"
   ]
  },
  {
   "cell_type": "code",
   "execution_count": 5,
   "metadata": {
    "scrolled": false
   },
   "outputs": [
    {
     "name": "stdout",
     "output_type": "stream",
     "text": [
      "\n",
      "  gri30:\n",
      "\n",
      "       temperature             500  K\n",
      "          pressure         7391.79  Pa\n",
      "           density       0.0491334  kg/m^3\n",
      "  mean mol. weight         27.6332  amu\n",
      "\n",
      "                          1 kg            1 kmol\n",
      "                       -----------      ------------\n",
      "          enthalpy          -33317       -9.207e+05     J\n",
      "   internal energy     -1.8376e+05       -5.078e+06     J\n",
      "           entropy          8599.3        2.376e+05     J/K\n",
      "    Gibbs function      -4.333e+06       -1.197e+08     J\n",
      " heat capacity c_p          1140.4        3.151e+04     J/K\n",
      " heat capacity c_v          839.54         2.32e+04     J/K\n",
      "\n",
      "                           X                 Y          Chem. Pot. / RT\n",
      "                     -------------     ------------     ------------\n",
      "                O2       0.190114         0.220149         -29.3581\n",
      "               CH4       0.095057        0.0551863         -45.8564\n",
      "                N2       0.714829         0.724665         -26.3852\n",
      "     [  +50 minor]              0                0\n",
      "\n",
      "None\n"
     ]
    }
   ],
   "source": [
    "print(gas())"
   ]
  },
  {
   "cell_type": "markdown",
   "metadata": {},
   "source": [
    "### Second method"
   ]
  },
  {
   "cell_type": "code",
   "execution_count": 6,
   "metadata": {},
   "outputs": [],
   "source": [
    "gas.set_equivalence_ratio(1, 'CH4: 1', 'O2:1.0, N2:3.76')"
   ]
  },
  {
   "cell_type": "code",
   "execution_count": 7,
   "metadata": {
    "scrolled": false
   },
   "outputs": [
    {
     "name": "stdout",
     "output_type": "stream",
     "text": [
      "\n",
      "  gri30:\n",
      "\n",
      "       temperature             500  K\n",
      "          pressure         7391.79  Pa\n",
      "           density       0.0491334  kg/m^3\n",
      "  mean mol. weight         27.6332  amu\n",
      "\n",
      "                          1 kg            1 kmol\n",
      "                       -----------      ------------\n",
      "          enthalpy          -33317       -9.207e+05     J\n",
      "   internal energy     -1.8376e+05       -5.078e+06     J\n",
      "           entropy          8599.3        2.376e+05     J/K\n",
      "    Gibbs function      -4.333e+06       -1.197e+08     J\n",
      " heat capacity c_p          1140.4        3.151e+04     J/K\n",
      " heat capacity c_v          839.54         2.32e+04     J/K\n",
      "\n",
      "                           X                 Y          Chem. Pot. / RT\n",
      "                     -------------     ------------     ------------\n",
      "                O2       0.190114         0.220149         -29.3581\n",
      "               CH4       0.095057        0.0551863         -45.8564\n",
      "                N2       0.714829         0.724665         -26.3852\n",
      "     [  +50 minor]              0                0\n",
      "\n",
      "None\n"
     ]
    }
   ],
   "source": [
    "print(gas())"
   ]
  },
  {
   "cell_type": "markdown",
   "metadata": {},
   "source": [
    "### Additional informations"
   ]
  },
  {
   "cell_type": "code",
   "execution_count": 8,
   "metadata": {},
   "outputs": [
    {
     "name": "stdout",
     "output_type": "stream",
     "text": [
      "['H2', 'H', 'O', 'O2', 'OH', 'H2O', 'HO2', 'H2O2', 'C', 'CH', 'CH2', 'CH2(S)', 'CH3', 'CH4', 'CO', 'CO2', 'HCO', 'CH2O', 'CH2OH', 'CH3O', 'CH3OH', 'C2H', 'C2H2', 'C2H3', 'C2H4', 'C2H5', 'C2H6', 'HCCO', 'CH2CO', 'HCCOH', 'N', 'NH', 'NH2', 'NH3', 'NNH', 'NO', 'NO2', 'N2O', 'HNO', 'CN', 'HCN', 'H2CN', 'HCNN', 'HCNO', 'HOCN', 'HNCO', 'NCO', 'N2', 'AR', 'C3H7', 'C3H8', 'CH2CHO', 'CH3CHO']\n"
     ]
    }
   ],
   "source": [
    "print(gas.species_names)"
   ]
  },
  {
   "cell_type": "code",
   "execution_count": 9,
   "metadata": {},
   "outputs": [
    {
     "name": "stdout",
     "output_type": "stream",
     "text": [
      "15\n"
     ]
    }
   ],
   "source": [
    "print(gas.species_index('CO2'))"
   ]
  },
  {
   "cell_type": "markdown",
   "metadata": {},
   "source": [
    "Other informations concerning functions associated to the thermodynamic of the gas object can be found on the following link :\n",
    "<br>\n",
    "https://cantera.org/documentation/docs-2.4/sphinx/html/cython/thermo.html"
   ]
  },
  {
   "cell_type": "markdown",
   "metadata": {},
   "source": [
    "## 4. Kinetic state of the gas"
   ]
  },
  {
   "cell_type": "markdown",
   "metadata": {},
   "source": [
    "As well as for the thermodynamic state of the gas, the kinetic state can be found at the folowing link :\n",
    "<br>\n",
    "https://cantera.org/documentation/docs-2.4/sphinx/html/cython/kinetics.html"
   ]
  },
  {
   "cell_type": "code",
   "execution_count": 10,
   "metadata": {},
   "outputs": [
    {
     "name": "stdout",
     "output_type": "stream",
     "text": [
      "[ 0.00000000e+00  7.25153262e-35  5.09252852e-38 -1.01308893e-21\n",
      "  0.00000000e+00  0.00000000e+00  1.01308893e-21  0.00000000e+00\n",
      "  0.00000000e+00  0.00000000e+00  0.00000000e+00  0.00000000e+00\n",
      "  1.01308893e-21 -1.01308893e-21  0.00000000e+00  0.00000000e+00\n",
      "  0.00000000e+00  0.00000000e+00  0.00000000e+00  0.00000000e+00\n",
      "  0.00000000e+00  0.00000000e+00  0.00000000e+00  0.00000000e+00\n",
      "  0.00000000e+00  0.00000000e+00  0.00000000e+00  0.00000000e+00\n",
      "  0.00000000e+00  0.00000000e+00  0.00000000e+00  0.00000000e+00\n",
      "  0.00000000e+00  0.00000000e+00  4.98423466e-44  0.00000000e+00\n",
      "  0.00000000e+00  5.09252842e-38  0.00000000e+00  0.00000000e+00\n",
      "  0.00000000e+00  0.00000000e+00  0.00000000e+00  0.00000000e+00\n",
      "  0.00000000e+00  0.00000000e+00  0.00000000e+00 -5.09253340e-38\n",
      "  0.00000000e+00  0.00000000e+00  0.00000000e+00  0.00000000e+00\n",
      "  0.00000000e+00]\n"
     ]
    }
   ],
   "source": [
    "print(gas.net_production_rates)"
   ]
  },
  {
   "cell_type": "markdown",
   "metadata": {},
   "source": [
    "## 5. Transport properties"
   ]
  },
  {
   "cell_type": "markdown",
   "metadata": {},
   "source": [
    "For the transport, the functions can be found here :\n",
    "<br>\n",
    "https://cantera.org/documentation/docs-2.4/sphinx/html/cython/transport.html"
   ]
  },
  {
   "cell_type": "code",
   "execution_count": 11,
   "metadata": {},
   "outputs": [
    {
     "ename": "CanteraError",
     "evalue": "\n***********************************************************************\nNotImplementedError thrown by Transport::getBinaryDiffCoeffs:\nNot implemented.\n***********************************************************************\n",
     "output_type": "error",
     "traceback": [
      "\u001b[0;31m---------------------------------------------------------------------------\u001b[0m",
      "\u001b[0;31mCanteraError\u001b[0m                              Traceback (most recent call last)",
      "\u001b[0;32m<ipython-input-11-569894f894e1>\u001b[0m in \u001b[0;36m<module>\u001b[0;34m\u001b[0m\n\u001b[0;32m----> 1\u001b[0;31m \u001b[0mprint\u001b[0m\u001b[0;34m(\u001b[0m\u001b[0mgas\u001b[0m\u001b[0;34m.\u001b[0m\u001b[0mbinary_diff_coeffs\u001b[0m\u001b[0;34m)\u001b[0m\u001b[0;34m\u001b[0m\u001b[0;34m\u001b[0m\u001b[0m\n\u001b[0m",
      "\u001b[0;32minterfaces/cython/cantera/transport.pyx\u001b[0m in \u001b[0;36mcantera._cantera.Transport.binary_diff_coeffs.__get__\u001b[0;34m()\u001b[0m\n",
      "\u001b[0;32minterfaces/cython/cantera/transport.pyx\u001b[0m in \u001b[0;36mcantera._cantera.get_transport_2d\u001b[0;34m()\u001b[0m\n",
      "\u001b[0;31mCanteraError\u001b[0m: \n***********************************************************************\nNotImplementedError thrown by Transport::getBinaryDiffCoeffs:\nNot implemented.\n***********************************************************************\n"
     ]
    }
   ],
   "source": [
    "print(gas.binary_diff_coeffs)"
   ]
  },
  {
   "cell_type": "markdown",
   "metadata": {},
   "source": [
    "The code throws an error, which is pretty normal as nothing chemical was computed for the moment. The gas object created is just a mix of different species for the moment, nothing has reacted (explaining the kinetics net production rates nearly close to zero and the transport properties not implemented)."
   ]
  },
  {
   "cell_type": "markdown",
   "metadata": {},
   "source": [
    "## Conclusion"
   ]
  },
  {
   "cell_type": "markdown",
   "metadata": {},
   "source": [
    "The purpose of this part was to explain :\n",
    "- how one can set up the thermodynamic state of a gas for a computation\n",
    "- how one will be able to print interesting data from the gaseous object\n",
    "<br>\n",
    "In the next part, we will focus on the object used to created the cantera gas object : the cti file."
   ]
  },
  {
   "cell_type": "code",
   "execution_count": null,
   "metadata": {},
   "outputs": [],
   "source": []
  }
 ],
 "metadata": {
  "kernelspec": {
   "display_name": "Python 3",
   "language": "python",
   "name": "python3"
  },
  "language_info": {
   "codemirror_mode": {
    "name": "ipython",
    "version": 3
   },
   "file_extension": ".py",
   "mimetype": "text/x-python",
   "name": "python",
   "nbconvert_exporter": "python",
   "pygments_lexer": "ipython3",
   "version": "3.7.1"
  }
 },
 "nbformat": 4,
 "nbformat_minor": 2
}
