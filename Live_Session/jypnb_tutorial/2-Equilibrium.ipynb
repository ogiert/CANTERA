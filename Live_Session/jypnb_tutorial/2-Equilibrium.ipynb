{
 "cells": [
  {
   "cell_type": "markdown",
   "metadata": {},
   "source": [
    "# II - Equilibrium calculations"
   ]
  },
  {
   "cell_type": "markdown",
   "metadata": {},
   "source": [
    "### Equilibrium explanations"
   ]
  },
  {
   "cell_type": "markdown",
   "metadata": {},
   "source": [
    "**Equilibrium calculations** are usually performed to obtain the adiabatic flame temperature, the equilibrium composition, and the thermodynamic state of a specific mixture under given conditions. These are virtually performed in every simulation.<br>\n",
    "For example, Cantera will call its equilibrium solver to initialize the gas state before trying to obtain a solution to the equations for a free flame. As such, it is interesting to understand how Cantera proceeds."
   ]
  },
  {
   "cell_type": "markdown",
   "metadata": {},
   "source": [
    "There are 2 different types of solver currently implemented for equilibrium calculation in Cantera that\n",
    "deserves our attention :\n",
    "- **The element potential 'ChemEquil' solver**<br>\n",
    "The class ChemEquil implements a chemical equilibrium solver for single-phase solutions. It is a\n",
    "\"non-stoichiometric\" solver in the terminology of Smith and Missen, meaning that every intermediate\n",
    "state is a valid chemical equilibrium state, but does not necessarily satisfy the element constraints.\n",
    "<br>\n",
    "Non-stoichiometric methods are faster when they converge, but stoichiometric ones tend to be more\n",
    "robust.\n",
    "- **The 'VCS' chemical equilibrium solver**<br>\n",
    "The other type of solver is designed to be used to set a mixture containing one or more phases to\n",
    "a state of chemical equilibrium. It uses a \"stoichiometric\" algorithm, in which each intermediate\n",
    "state satisfies the element constraints but is not a state of chemical equilibrium. \n",
    "<br>\n",
    "More specifically, it\n",
    "implements the VCS algorithm, described in Smith and Missen, \"Chemical Reaction Equilibrium\". It\n",
    "finds a set of component species and a complete set of formation reactions for the non-components in\n",
    "terms of the components."
   ]
  },
  {
   "cell_type": "markdown",
   "metadata": {},
   "source": [
    "As expected, the **ChemEquil solver is the fastest** of the Cantera equilibrium solvers for many single-\n",
    "phase equilibrium problems (particularly if there are only a few elements but very many species), **but\n",
    "can be less stable**. <br>\n",
    "Problem situations include low temperatures where only a few species have non-zero\n",
    "mole fractions, precisely stoichiometric compositions (we will see an example shortly). In general, if\n",
    "speed is important, this solver should always be tried first before falling back to another one in case of\n",
    "failure."
   ]
  },
  {
   "cell_type": "markdown",
   "metadata": {},
   "source": [
    "### The function equilibrate"
   ]
  },
  {
   "cell_type": "markdown",
   "metadata": {},
   "source": [
    "The default setting in Cantera, when launching an equilibrium calculation without specifying\n",
    "the solver, is to try the 'element potential' before falling back to another vcs solver labelled 'gibbs' :\n",
    "<code>\n",
    "gas.equilibrate('TP')\n",
    "</code>"
   ]
  },
  {
   "cell_type": "markdown",
   "metadata": {},
   "source": [
    "The equilibrate function can be applied on a single phase or on a mixture. Here, we recall its definition:\n",
    "<code>\n",
    "equilibrate(self, XY, solver, double rtol, int maxsteps, int maxiter, int loglevel)\n",
    "</code>\n",
    "<br>\n",
    "Parameters:\n",
    "<code>\n",
    "XY                - A two-letter string, which must be one of the set: ['TP','TV','HP','SP','SV','UV'].\n",
    "solver            - Specifies the equilibrium solver to use. May be one of the following :\n",
    "    element_potential = A fast solver using the element potential method.\n",
    "    gibbs             = A slower but more robust Gibbs minimization solver.\n",
    "    vcs               = The VCS non-ideal equilibrium solver.\n",
    "    auto              = The element potential solver will be tried first, then if it fails the gibbs solver will be\n",
    "                        tried.\n",
    "rtol              - The relative error tolerance.\n",
    "maxsteps          - Maximum number of steps in composition to take to find a converged solution.\n",
    "maxiter           - This specifies the number of outer iterations on T or P when some property pair other than TP is\n",
    "                    specified (only for 'gibbs').\n",
    "loglevel          - Is currently deprecated.\n",
    "</code>\n"
   ]
  },
  {
   "cell_type": "markdown",
   "metadata": {},
   "source": [
    "### Useful python imports"
   ]
  },
  {
   "cell_type": "code",
   "execution_count": 1,
   "metadata": {},
   "outputs": [],
   "source": [
    "import cantera as ct\n",
    "import numpy as np\n",
    "import csv\n",
    "from matplotlib import *\n",
    "import matplotlib.pyplot as plt\n",
    "import sys"
   ]
  },
  {
   "cell_type": "markdown",
   "metadata": {},
   "source": [
    "## 1. Simple homogeneous equilibrium of a gas"
   ]
  },
  {
   "cell_type": "markdown",
   "metadata": {},
   "source": [
    "<div class=\"alert alert-danger \"><b> Please create the gas object so that :<br>\n",
    "- the mechanism used is the gri30<br>\n",
    "- this is an air/CH4 mix<br>\n",
    "- the mix is at stoichiometry<br>\n",
    "- the temperature is 300K and the pressure 1 bar.\n",
    "<b>"
   ]
  },
  {
   "cell_type": "code",
   "execution_count": 2,
   "metadata": {
    "scrolled": false
   },
   "outputs": [
    {
     "ename": "AttributeError",
     "evalue": "'ellipsis' object has no attribute 'TPX'",
     "output_type": "error",
     "traceback": [
      "\u001b[0;31m---------------------------------------------------------------------------\u001b[0m",
      "\u001b[0;31mAttributeError\u001b[0m                            Traceback (most recent call last)",
      "\u001b[0;32m<ipython-input-2-8e393bd7ecfb>\u001b[0m in \u001b[0;36m<module>\u001b[0;34m\u001b[0m\n\u001b[1;32m      3\u001b[0m                     \u001b[0;31m# set the composition of the gas\u001b[0m\u001b[0;34m\u001b[0m\u001b[0;34m\u001b[0m\u001b[0;34m\u001b[0m\u001b[0m\n\u001b[1;32m      4\u001b[0m \u001b[0;34m\u001b[0m\u001b[0m\n\u001b[0;32m----> 5\u001b[0;31m \u001b[0mgas\u001b[0m\u001b[0;34m.\u001b[0m\u001b[0mTPX\u001b[0m \u001b[0;34m=\u001b[0m \u001b[0;34m...\u001b[0m      \u001b[0;31m# set initial state\u001b[0m\u001b[0;34m\u001b[0m\u001b[0;34m\u001b[0m\u001b[0m\n\u001b[0m\u001b[1;32m      6\u001b[0m \u001b[0;34m\u001b[0m\u001b[0m\n\u001b[1;32m      7\u001b[0m \u001b[0mgas\u001b[0m\u001b[0;34m.\u001b[0m\u001b[0mequilibrate\u001b[0m\u001b[0;34m(\u001b[0m\u001b[0;34m'TP'\u001b[0m\u001b[0;34m)\u001b[0m                 \u001b[0;31m# equilibrate using Temperature (T) and Pressure (P)\u001b[0m\u001b[0;34m\u001b[0m\u001b[0;34m\u001b[0m\u001b[0m\n",
      "\u001b[0;31mAttributeError\u001b[0m: 'ellipsis' object has no attribute 'TPX'"
     ]
    }
   ],
   "source": [
    "gas = ...           # create an object representing the gas phase\n",
    "\n",
    "                    # set the composition of the gas\n",
    "\n",
    "gas.TPX = ...      # set initial state\n",
    "\n",
    "gas.equilibrate('TP')                 # equilibrate using Temperature (T) and Pressure (P)\n",
    "\n",
    "print(gas())"
   ]
  },
  {
   "cell_type": "markdown",
   "metadata": {},
   "source": [
    "As you see, the gas has been equilibrated since it now shows only quantities for the product of the reaction (H2O and CO2). You can try to set yourself out of the perfect mixing (for example set CH4 to 0.4 and to 0.6) and see the impact on the species in the mix at the end."
   ]
  },
  {
   "cell_type": "markdown",
   "metadata": {},
   "source": [
    "## 2. Failure of a solver"
   ]
  },
  {
   "cell_type": "markdown",
   "metadata": {},
   "source": [
    "Cantera has 3 different equilibrium solvers, 2 of them are worth mentionning: \n",
    "- The 'ChemEquil' solver uses the element potential method for homogeneous equilibrium in gas mixtures. It is fast, but sometimes doesn't converge. \n",
    "- The 'VCS' solver uses the VCS algorithm (Gibbs minimization), which is slower but more robust. It can also handle multiple phases.<br>\n",
    "Here we'll solve a problem for which the ChemEquil solver fails, but the VCS solver has no problem."
   ]
  },
  {
   "cell_type": "markdown",
   "metadata": {},
   "source": [
    "### Properties of the gas"
   ]
  },
  {
   "cell_type": "code",
   "execution_count": null,
   "metadata": {},
   "outputs": [],
   "source": [
    "pressure = 1.0e5                # pressure\n",
    "temperature = 400.0             # unburned gas temperature\n",
    "comp = 'CH4:0.5, O2:1, N2:3.76' # premixed gas composition\n",
    "\n",
    "gas = ct.Solution('gri30.xml')\n",
    "gas.TPX = temperature, pressure, comp"
   ]
  },
  {
   "cell_type": "markdown",
   "metadata": {},
   "source": [
    "### Initial state of the gas"
   ]
  },
  {
   "cell_type": "code",
   "execution_count": null,
   "metadata": {},
   "outputs": [],
   "source": [
    "print(\"******************************************************** \")\n",
    "print(\"    Initial state :\")\n",
    "print(\"******************************************************** \")\n",
    "print(\"P =  \", \"%10.4e  \" % (gas.P) + \"    Pa\")\n",
    "print(\"T =  \", \"%10.4e  \" % (gas.T) + \"    K\")\n",
    "print(\"V =  \", \"%10.4e  \" % (gas.volume_mass) + \"    m3/kg\")\n",
    "print(\"U =  \", \"%10.4e  \" % (gas.int_energy_mass) + \"    J/kg\")\n",
    "print(\"H =  \", \"%10.4e  \" % (gas.enthalpy_mass) + \"    J/kg\")\n",
    "print(\"S =  \", \"%10.4e  \" % (gas.entropy_mass) + \"    J/kg/K\")\n",
    "print(\"\")\n",
    "print(\"\")"
   ]
  },
  {
   "cell_type": "markdown",
   "metadata": {},
   "source": [
    "### Comparing chemical potentials and element potentials"
   ]
  },
  {
   "cell_type": "markdown",
   "metadata": {},
   "source": [
    "Here, the chemical potentials (noted mu_xx) are compared to the corresponding calculated values with the element potentials (noted lambda_xx).<br>\n",
    "For instance, mu_H2 = lambda_H x 2.<br>\n",
    "This is a good way to check whether the solver has managed to compute the results correctly. The chemical potentials are the one of the vapor phase."
   ]
  },
  {
   "cell_type": "code",
   "execution_count": null,
   "metadata": {},
   "outputs": [],
   "source": [
    "chemeq = np.zeros(gas.n_species)\n",
    "chemeq = gas.chemical_potentials\n",
    "\n",
    "mu_H2 = chemeq[gas.species_index(\"H2\")]\n",
    "mu_OH = chemeq[gas.species_index(\"OH\")]\n",
    "mu_H2O = chemeq[gas.species_index(\"H2O\")]\n",
    "mu_O2 = chemeq[gas.species_index(\"O2\")]\n",
    "lambda_H = chemeq[gas.species_index(\"H\")]\n",
    "lambda_O = chemeq[gas.species_index(\"O\")]\n",
    "\n",
    "print()\n",
    "print(\"Comparison between Chem potentials and element potentials:\")\n",
    "print()\n",
    "s_mu_H2 = \"%11.4e\" % mu_H2\n",
    "s_lam_mu_H2 = \"%11.4e\" % (2.0 * lambda_H)\n",
    "print(\"mu_H2   : \", s_mu_H2, \",    \", s_lam_mu_H2)\n",
    "\n",
    "s_mu_O2 = \"%11.4e\" % mu_O2\n",
    "s_lam_mu_O2 = \"%11.4e\" % (2.0 * lambda_O)\n",
    "print(\"mu_O2   : \", s_mu_O2, \",    \", s_lam_mu_O2)\n",
    "\n",
    "s_mu_OH = \"%11.4e\" % mu_OH\n",
    "s_lam_mu_OH = \"%11.4e\" % (lambda_H + lambda_O)\n",
    "print(\"mu_OH   : \", s_mu_OH, \",    \", s_lam_mu_OH)\n",
    "\n",
    "s_mu_H2O = \"%11.4e\" % mu_H2O\n",
    "s_lam_mu_H2O = \"%11.4e\" % (2.0 * lambda_H + lambda_O)\n",
    "print(\"mu_H2O  : \", s_mu_H2O, \",    \", s_lam_mu_H2O)"
   ]
  },
  {
   "cell_type": "markdown",
   "metadata": {},
   "source": [
    "### Program equilibrate"
   ]
  },
  {
   "cell_type": "code",
   "execution_count": null,
   "metadata": {},
   "outputs": [],
   "source": [
    "try:\n",
    "    # print(\"0\")\n",
    "    gas.equilibrate('TP', solver='element_potential')  # use the ChemEquil solver\n",
    "except:\n",
    "    print(\"\")\n",
    "    print(\"ChemEquil solver failed! Trying the vcs solver...\")\n",
    "    gas.equilibrate('TP', solver='vcs', maxsteps=1500)\n",
    "    # gas.equilibrate('TP', solver = 'gibbs')              # the gibbs solver works also"
   ]
  },
  {
   "cell_type": "markdown",
   "metadata": {},
   "source": [
    "### Compare the results with the initial values"
   ]
  },
  {
   "cell_type": "code",
   "execution_count": null,
   "metadata": {},
   "outputs": [],
   "source": [
    "print(\"\")\n",
    "print(\"******************************************************** \")\n",
    "print(\"    Final state :\")\n",
    "print(\"    Tadiabatique = \" + str(gas.T) + \" K\")\n",
    "print(\"******************************************************** \")\n",
    "print(\"P =  \", \"%10.4e  \" % (gas.P) + \"    Pa\")\n",
    "print(\"T =  \", \"%10.4e  \" % (gas.T) + \"    K\")\n",
    "print(\"V =  \", \"%10.4e  \" % (gas.volume_mass) + \"    m3/kg\")\n",
    "print(\"U =  \", \"%10.4e  \" % (gas.int_energy_mass) + \"    J/kg\")\n",
    "print(\"H =  \", \"%10.4e  \" % (gas.enthalpy_mass) + \"    J/kg\")\n",
    "print(\"S =  \", \"%10.4e  \" % (gas.entropy_mass) + \"    J/kg/K\")\n",
    "print(\"\")\n",
    "print(\"\")"
   ]
  },
  {
   "cell_type": "markdown",
   "metadata": {},
   "source": [
    "### Comparing chemical and element equilibrium for the equilibrate mixture"
   ]
  },
  {
   "cell_type": "code",
   "execution_count": null,
   "metadata": {},
   "outputs": [],
   "source": [
    "chemeq = gas.chemical_potentials\n",
    "mu_H2 = chemeq[gas.species_index(\"H2\")]\n",
    "mu_OH = chemeq[gas.species_index(\"OH\")]\n",
    "mu_H2O = chemeq[gas.species_index(\"H2O\")]\n",
    "mu_O2 = chemeq[gas.species_index(\"O2\")]\n",
    "lambda_H = chemeq[gas.species_index(\"H\")]\n",
    "lambda_O = chemeq[gas.species_index(\"O\")]\n",
    "\n",
    "print()\n",
    "print(\"Comparison between Chem potentials and element potentials:\")\n",
    "print()\n",
    "s_mu_H2 = \"%11.4e\" % mu_H2\n",
    "s_lam_mu_H2 = \"%11.4e\" % (2.0 * lambda_H)\n",
    "print(\"mu_H2   : \", s_mu_H2, \",    \", s_lam_mu_H2)\n",
    "\n",
    "s_mu_O2 = \"%11.4e\" % mu_O2\n",
    "s_lam_mu_O2 = \"%11.4e\" % (2.0 * lambda_O)\n",
    "print(\"mu_O2   : \", s_mu_O2, \",    \", s_lam_mu_O2)\n",
    "\n",
    "s_mu_OH = \"%11.4e\" % mu_OH\n",
    "s_lam_mu_OH = \"%11.4e\" % (lambda_H + lambda_O)\n",
    "print(\"mu_OH   : \", s_mu_OH, \",    \", s_lam_mu_OH)\n",
    "\n",
    "s_mu_H2O = \"%11.4e\" % mu_H2O\n",
    "s_lam_mu_H2O = \"%11.4e\" % (2.0 * lambda_H + lambda_O)\n",
    "print(\"mu_H2O  : \", s_mu_H2O, \",    \", s_lam_mu_H2O)"
   ]
  },
  {
   "cell_type": "markdown",
   "metadata": {},
   "source": [
    "### Saving the results"
   ]
  },
  {
   "cell_type": "code",
   "execution_count": null,
   "metadata": {},
   "outputs": [],
   "source": [
    "csv_file = '2-Output/all_mole_fractions.csv'\n",
    "with open(csv_file, 'w') as outfile:\n",
    "    writer = csv.writer(outfile)\n",
    "    writer.writerow(['phi', 'T (K)'] + gas.species_names)\n",
    "    writer.writerow(['1', gas.T] + list(gas.X))\n",
    "print(('Output written to {0}'.format(csv_file)))"
   ]
  },
  {
   "cell_type": "markdown",
   "metadata": {},
   "source": [
    "## 3. Perform adiabatic flame calculations as a function of equivalence ratio"
   ]
  },
  {
   "cell_type": "markdown",
   "metadata": {},
   "source": [
    "### Set gas composition and interesting parameters"
   ]
  },
  {
   "cell_type": "markdown",
   "metadata": {},
   "source": [
    "We will now perform **several constant pressure equilibrium calculations of a methane/air mixture, at\n",
    "an initial temperature of 300K and under atmospheric pressure**, in order to obtain the adiabatic flame temperature and burnt gas state for several equivalence ratios (from 0.3 to 10.0).<br>\n",
    "The goal of this exercise is to find a way to loop through several gaseous composition, in order to perform several computations in a single script and to plot the result."
   ]
  },
  {
   "cell_type": "markdown",
   "metadata": {},
   "source": [
    "### Time to code a real cantera script !"
   ]
  },
  {
   "cell_type": "markdown",
   "metadata": {
    "scrolled": true
   },
   "source": [
    "Then it is time for you to play ! Open another terminal folder and create your own Cantera python script. You do not have the right to use jupyter notebook (and be careful : big brother is watching you !).<br>\n",
    "The goal is to compare the adiabatic flame temperature between gri 2.11 and gri3.0 (go search for them on https://chemistry.cerfacs.fr), for the following operating conditions :\n",
    "- a temperature of 400K\n",
    "- a pressure of 2 bars\n",
    "- a range of equivalence ratio between 0.3 to 3.5\n",
    "You should obtain the following results:\n"
   ]
  },
  {
   "cell_type": "markdown",
   "metadata": {},
   "source": [
    "![title](Images/gri211vsgri30.png)\n",
    "Comparison of gri 3.0 vs gri 2.11 mechanisms for T = 400 K, P = 2 bar and a range of phi between 0.3 and 10.<br>\n",
    "phi ------- 0.3 ------------ 10.0<br>\n",
    "gri 2.11 -- 1150.9805 --- 1297.6940<br>\n",
    "gri 3.0 ----1150.9812 --- 1287.6161<br>"
   ]
  },
  {
   "cell_type": "markdown",
   "metadata": {},
   "source": [
    "## Conclusion"
   ]
  },
  {
   "cell_type": "markdown",
   "metadata": {},
   "source": [
    "We have just generated the skeleton of a script to perform a series of common equilibrium calculations\n",
    "to obtain the constant pressure equilibrium composition of a fuel/air mixture. Starting from there,\n",
    "you could modify your initial conditions, plot the mole/mass fractions of other species, change the\n",
    "solver or even try another fuel (methane, acetylene) without changing your mechanism.<br>\n",
    "Technically, adiabatic flame calculations could also be performed at constant volume: simply invoke\n",
    "the good equilibrate option of your equilibrate function, 'UV' (see 3.1.2), in your script."
   ]
  }
 ],
 "metadata": {
  "kernelspec": {
   "display_name": "Python 3",
   "language": "python",
   "name": "python3"
  },
  "language_info": {
   "codemirror_mode": {
    "name": "ipython",
    "version": 3
   },
   "file_extension": ".py",
   "mimetype": "text/x-python",
   "name": "python",
   "nbconvert_exporter": "python",
   "pygments_lexer": "ipython3",
   "version": "3.8.5"
  }
 },
 "nbformat": 4,
 "nbformat_minor": 2
}
