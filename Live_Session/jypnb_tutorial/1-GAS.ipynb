{
 "cells": [
  {
   "cell_type": "markdown",
   "metadata": {},
   "source": [
    "# I - An example to start with ..."
   ]
  },
  {
   "cell_type": "markdown",
   "metadata": {},
   "source": [
    "<div align=\"justify\"> This first tutorial's main objective is to help you get started with the Python interface of Cantera. The goal here is <b> to get acquainted with the notion of objects and functions </b> that we will encounter\n",
    "in all Python scripts. <br>\n",
    "We will start by defining a simple gaseous object directly in a script, before\n",
    "introducing the Python terminal and its possibilities. Next, we will see how to access and modify the\n",
    "    state of this newly instantiated <b> gas </b> object through adequate functions; before concluding with a\n",
    "general discussion on the specificities of gaseous objects. <br>\n",
    "    The second objective of this first tutorial is to introduce the <b> data file format </b> of Cantera, which\n",
    "will be the subject of the second tutorial.</div>"
   ]
  },
  {
   "cell_type": "markdown",
   "metadata": {},
   "source": [
    "## 1. Importation of cantera"
   ]
  },
  {
   "cell_type": "code",
   "execution_count": 1,
   "metadata": {},
   "outputs": [
    {
     "ename": "ModuleNotFoundError",
     "evalue": "No module named 'cantera._cantera'",
     "output_type": "error",
     "traceback": [
      "\u001b[0;31m---------------------------------------------------------------------------\u001b[0m",
      "\u001b[0;31mModuleNotFoundError\u001b[0m                       Traceback (most recent call last)",
      "\u001b[0;32m<ipython-input-1-ad0e29bb214e>\u001b[0m in \u001b[0;36m<module>\u001b[0;34m\u001b[0m\n\u001b[0;32m----> 1\u001b[0;31m \u001b[0;32mimport\u001b[0m \u001b[0mcantera\u001b[0m \u001b[0;32mas\u001b[0m \u001b[0mct\u001b[0m\u001b[0;34m\u001b[0m\u001b[0;34m\u001b[0m\u001b[0m\n\u001b[0m\u001b[1;32m      2\u001b[0m \u001b[0;32mfrom\u001b[0m \u001b[0mcantera\u001b[0m \u001b[0;32mimport\u001b[0m \u001b[0mck2cti\u001b[0m\u001b[0;34m\u001b[0m\u001b[0;34m\u001b[0m\u001b[0m\n",
      "\u001b[0;32m~/Codes/cantera-avbp/INSTALL_DIR/lib/python3.9/site-packages/cantera/__init__.py\u001b[0m in \u001b[0;36m<module>\u001b[0;34m\u001b[0m\n\u001b[1;32m      2\u001b[0m \u001b[0;31m# at http://www.cantera.org/license.txt for license and copyright information.\u001b[0m\u001b[0;34m\u001b[0m\u001b[0;34m\u001b[0m\u001b[0;34m\u001b[0m\u001b[0m\n\u001b[1;32m      3\u001b[0m \u001b[0;34m\u001b[0m\u001b[0m\n\u001b[0;32m----> 4\u001b[0;31m \u001b[0;32mfrom\u001b[0m \u001b[0;34m.\u001b[0m\u001b[0m_cantera\u001b[0m \u001b[0;32mimport\u001b[0m \u001b[0;34m*\u001b[0m\u001b[0;34m\u001b[0m\u001b[0;34m\u001b[0m\u001b[0m\n\u001b[0m\u001b[1;32m      5\u001b[0m \u001b[0;32mfrom\u001b[0m \u001b[0;34m.\u001b[0m\u001b[0m_cantera\u001b[0m \u001b[0;32mimport\u001b[0m \u001b[0m__version__\u001b[0m\u001b[0;34m,\u001b[0m \u001b[0m__sundials_version__\u001b[0m\u001b[0;34m\u001b[0m\u001b[0;34m\u001b[0m\u001b[0m\n\u001b[1;32m      6\u001b[0m \u001b[0;32mfrom\u001b[0m \u001b[0;34m.\u001b[0m\u001b[0mcomposite\u001b[0m \u001b[0;32mimport\u001b[0m \u001b[0;34m*\u001b[0m\u001b[0;34m\u001b[0m\u001b[0;34m\u001b[0m\u001b[0m\n",
      "\u001b[0;31mModuleNotFoundError\u001b[0m: No module named 'cantera._cantera'"
     ]
    }
   ],
   "source": [
    "import cantera as ct\n",
    "from cantera import ck2cti"
   ]
  },
  {
   "cell_type": "markdown",
   "metadata": {},
   "source": [
    "## 2. Create solution from cti file"
   ]
  },
  {
   "cell_type": "markdown",
   "metadata": {},
   "source": [
    "<div align=\"justify\"> This will create an instance of the class <i> Solution </i> from cantera package.\n",
    "<br>\n",
    "The file <code>gri30.xml</code> contains all the important informations about the chemistry, meaning :</div>\n",
    "\n",
    "- the <b> properties </b> of the different species\n",
    "- the <b> reactions </b>\n",
    "- the <b> kinetics </b> used\n",
    "- the <b> type of transport </b> used\n"
   ]
  },
  {
   "cell_type": "code",
   "execution_count": 2,
   "metadata": {},
   "outputs": [],
   "source": [
    "gas = ct.Solution(\"gri30.xml\")"
   ]
  },
  {
   "cell_type": "markdown",
   "metadata": {},
   "source": [
    "<div align=\"justify\">\n",
    "NB : This could have also been written : <code>gas = ct.Solution(\"gri30.cti\")</code>.\n",
    "<br>\n",
    "Indeed, cti and xml are only two different format and can be read the same way by cantera.\n",
    "The only difference is that cti file are more human readable than xml files. If you want to put your cti into xml format, you can do the <b> ctml_writer </b> command as follows in the console : <br>\n",
    "<code> ctml_writer blabla.cti </code>\n",
    "\n",
    "You will see some more information about the structure and the data present in this file at the end of this tutorial.\n",
    "</div>"
   ]
  },
  {
   "cell_type": "markdown",
   "metadata": {},
   "source": [
    "## 3. Choose and print the thermodynamic state of the gas"
   ]
  },
  {
   "cell_type": "markdown",
   "metadata": {},
   "source": [
    "<div align=\"justify\">\n",
    "To define the mixture of the gas correctly, it is necessary to define <b> two thermodynamic parameters </b> and the quantities of the different species (<b> molar fraction X </b> or <b> mass fraction Y </b>).   \n",
    "These commands gives all the interesting informations for the gas state, namely the temperature, the pressure and the density of the mixture. \n",
    "    \n",
    "It also gives information about the species in the mixture as mass fractions Y or molar fractions X.\n",
    "</div>"
   ]
  },
  {
   "cell_type": "markdown",
   "metadata": {},
   "source": [
    "NB : If you are lost, you can still use the function **help** to see what are the functions available for a gaseous object."
   ]
  },
  {
   "cell_type": "code",
   "execution_count": 3,
   "metadata": {
    "scrolled": true
   },
   "outputs": [
    {
     "name": "stdout",
     "output_type": "stream",
     "text": [
      "Help on Solution in module cantera.composite object:\n",
      "\n",
      "class Solution(cantera._cantera.ThermoPhase, cantera._cantera.Kinetics, cantera._cantera.Transport)\n",
      " |  A class for chemically-reacting solutions. Instances can be created to\n",
      " |  represent any type of solution -- a mixture of gases, a liquid solution, or\n",
      " |  a solid solution, for example.\n",
      " |  \n",
      " |  Class `Solution` derives from classes `ThermoPhase`, `Kinetics`, and\n",
      " |  `Transport`.  It defines no methods of its own, and is provided so that a\n",
      " |  single object can be used to compute thermodynamic, kinetic, and transport\n",
      " |  properties of a solution.\n",
      " |  \n",
      " |  To skip initialization of the Transport object, pass the keyword argument\n",
      " |  ``transport_model=None`` to the `Solution` constructor.\n",
      " |  \n",
      " |  The most common way to instantiate `Solution` objects is by using a phase\n",
      " |  definition, species and reactions defined in an input file::\n",
      " |  \n",
      " |      gas = ct.Solution('gri30.cti')\n",
      " |  \n",
      " |  If an input file defines multiple phases, the phase *name* (in CTI) or *id*\n",
      " |  (in XML) can be used to specify the desired phase::\n",
      " |  \n",
      " |      gas = ct.Solution('diamond.cti', 'gas')\n",
      " |      diamond = ct.Solution('diamond.cti', 'diamond')\n",
      " |  \n",
      " |  `Solution` objects can also be constructed using `Species` and `Reaction`\n",
      " |  objects which can themselves either be imported from input files or defined\n",
      " |  directly in Python::\n",
      " |  \n",
      " |      spec = ct.Species.listFromFile('gri30.cti')\n",
      " |      rxns = ct.Reaction.listFromFile('gri30.cti')\n",
      " |      gas = ct.Solution(thermo='IdealGas', kinetics='GasKinetics',\n",
      " |                        species=spec, reactions=rxns)\n",
      " |  \n",
      " |  where the ``thermo`` and ``kinetics`` keyword arguments are strings\n",
      " |  specifying the thermodynamic and kinetics model, respectively, and\n",
      " |  ``species`` and ``reactions`` keyword arguments are lists of `Species` and\n",
      " |  `Reaction` objects, respectively.\n",
      " |  \n",
      " |  For non-trivial uses cases of this functionality, see the examples\n",
      " |  :ref:`py-example-extract_submechanism.py` and\n",
      " |  :ref:`py-example-mechanism_reduction.py`.\n",
      " |  \n",
      " |  In addition, `Solution` objects can be constructed by passing the text of\n",
      " |  the CTI or XML phase definition in directly, using the ``source`` keyword\n",
      " |  argument::\n",
      " |  \n",
      " |      cti_def = '''\n",
      " |          ideal_gas(name='gas', elements='O H Ar',\n",
      " |                    species='gri30: all',\n",
      " |                    reactions='gri30: all',\n",
      " |                    options=['skip_undeclared_elements', 'skip_undeclared_species', 'skip_undeclared_third_bodies'],\n",
      " |                    initial_state=state(temperature=300, pressure=101325))'''\n",
      " |      gas = ct.Solution(source=cti_def)\n",
      " |  \n",
      " |  Method resolution order:\n",
      " |      Solution\n",
      " |      cantera._cantera.ThermoPhase\n",
      " |      cantera._cantera.Kinetics\n",
      " |      cantera._cantera.Transport\n",
      " |      cantera._cantera._SolutionBase\n",
      " |      builtins.object\n",
      " |  \n",
      " |  Methods inherited from cantera._cantera.ThermoPhase:\n",
      " |  \n",
      " |  __call__(self, /, *args, **kwargs)\n",
      " |      Call self as a function.\n",
      " |  \n",
      " |  __init__(self, /, *args, **kwargs)\n",
      " |      Initialize self.  See help(type(self)) for accurate signature.\n",
      " |  \n",
      " |  add_species(...)\n",
      " |      ThermoPhase.add_species(self, Species species)\n",
      " |      \n",
      " |      Add a new species to this phase. Missing elements will be added\n",
      " |      automatically.\n",
      " |  \n",
      " |  atomic_weight(...)\n",
      " |      ThermoPhase.atomic_weight(self, m)\n",
      " |      Atomic weight [kg/kmol] of element *m*\n",
      " |  \n",
      " |  element_index(...)\n",
      " |      ThermoPhase.element_index(self, element) -> int\n",
      " |      \n",
      " |      The index of element *element*, which may be specified as a string or\n",
      " |      an integer. In the latter case, the index is checked for validity and\n",
      " |      returned. If no such element is present, an exception is thrown.\n",
      " |  \n",
      " |  element_name(...)\n",
      " |      ThermoPhase.element_name(self, m)\n",
      " |      Name of the element with index *m*.\n",
      " |  \n",
      " |  element_potentials(...)\n",
      " |      ThermoPhase.element_potentials(self)\n",
      " |      \n",
      " |      Get the array of element potentials. The element potentials are only\n",
      " |      defined for equilibrium states. This method first sets the composition\n",
      " |      to a state of equilibrium at constant T and P, then computes the\n",
      " |      element potentials for this equilibrium state.\n",
      " |  \n",
      " |  elemental_mass_fraction(...)\n",
      " |      ThermoPhase.elemental_mass_fraction(self, m)\n",
      " |      \n",
      " |      Get the elemental mass fraction :math:`Z_{\\mathrm{mass},m}` of element\n",
      " |      :math:`m` as defined by:\n",
      " |      \n",
      " |      .. math:: Z_{\\mathrm{mass},m} = \\sum_k \\frac{a_{m,k} M_m}{M_k} Y_k\n",
      " |      \n",
      " |      with :math:`a_{m,k}` being the number of atoms of element :math:`m` in\n",
      " |      species :math:`k`, :math:`M_m` the atomic weight of element :math:`m`,\n",
      " |      :math:`M_k` the molecular weight of species :math:`k`, and :math:`Y_k`\n",
      " |      the mass fraction of species :math:`k`.\n",
      " |      \n",
      " |      :param m:\n",
      " |          Base element, may be specified by name or by index.\n",
      " |      \n",
      " |      >>> phase.elemental_mass_fraction('H')\n",
      " |      1.0\n",
      " |  \n",
      " |  elemental_mole_fraction(...)\n",
      " |      ThermoPhase.elemental_mole_fraction(self, m)\n",
      " |      \n",
      " |      Get the elemental mole fraction :math:`Z_{\\mathrm{mole},m}` of element\n",
      " |      :math:`m` (the number of atoms of element m divided by the total number\n",
      " |      of atoms) as defined by:\n",
      " |      \n",
      " |      .. math:: Z_{\\mathrm{mole},m} = \\frac{\\sum_k a_{m,k} X_k}\n",
      " |                                           {\\sum_k \\sum_j a_{j,k} X_k}\n",
      " |      \n",
      " |      with :math:`a_{m,k}` being the number of atoms of element :math:`m` in\n",
      " |      species :math:`k`, :math:`\\sum_j` being a sum over all elements, and\n",
      " |      :math:`X_k` being the mole fraction of species :math:`k`.\n",
      " |      \n",
      " |      :param m:\n",
      " |          Base element, may be specified by name or by index.\n",
      " |      \n",
      " |      >>> phase.elemental_mole_fraction('H')\n",
      " |      1.0\n",
      " |  \n",
      " |  equilibrate(...)\n",
      " |      ThermoPhase.equilibrate(self, XY, solver='auto', double rtol=1e-9, int maxsteps=1000, int maxiter=100, int estimate_equil=0, int loglevel=0)\n",
      " |      \n",
      " |      Set to a state of chemical equilibrium holding property pair\n",
      " |      *XY* constant.\n",
      " |      \n",
      " |      :param XY:\n",
      " |          A two-letter string, which must be one of the set::\n",
      " |      \n",
      " |              ['TP','TV','HP','SP','SV','UV']\n",
      " |      \n",
      " |      :param solver:\n",
      " |          Specifies the equilibrium solver to use. May be one of the following:\n",
      " |      \n",
      " |          * ''element_potential'' - a fast solver using the element potential\n",
      " |            method\n",
      " |          * 'gibbs' - a slower but more robust Gibbs minimization solver\n",
      " |          * 'vcs' - the VCS non-ideal equilibrium solver\n",
      " |          * \"auto\" - The element potential solver will be tried first, then\n",
      " |            if it fails the Gibbs solver will be tried.\n",
      " |      :param rtol:\n",
      " |          the relative error tolerance.\n",
      " |      :param maxsteps:\n",
      " |          maximum number of steps in composition to take to find a converged\n",
      " |          solution.\n",
      " |      :param maxiter:\n",
      " |          For the Gibbs minimization solver, this specifies the number of\n",
      " |          'outer' iterations on T or P when some property pair other\n",
      " |          than TP is specified.\n",
      " |      :param estimate_equil:\n",
      " |          Integer indicating whether the solver should estimate its own\n",
      " |          initial condition. If 0, the initial mole fraction vector in the\n",
      " |          ThermoPhase object is used as the initial condition. If 1, the\n",
      " |          initial mole fraction vector is used if the element abundances are\n",
      " |          satisfied. If -1, the initial mole fraction vector is thrown out,\n",
      " |          and an estimate is formulated.\n",
      " |      :param loglevel:\n",
      " |          Set to a value > 0 to write diagnostic output.\n",
      " |  \n",
      " |  get_equivalence_ratio(...)\n",
      " |      ThermoPhase.get_equivalence_ratio(self, oxidizers=[], ignore=[])\n",
      " |      \n",
      " |      Get the composition of a fuel/oxidizer mixture. This gives the\n",
      " |      equivalence ratio of an unburned mixture. This is not a quantity that is\n",
      " |      conserved after oxidation. Considers the oxidation of C to CO2, H to H2O\n",
      " |      and S to SO2. Other elements are assumed not to participate in oxidation\n",
      " |      (i.e. N ends up as N2).\n",
      " |       :param oxidizers:\n",
      " |          List of oxidizer species names as strings. Default: with\n",
      " |          ``oxidizers=[]``, every species that contains O but does not contain\n",
      " |          H, C, or S is considered to be an oxidizer.\n",
      " |      :param ignore:\n",
      " |          List of species names as strings to ignore.\n",
      " |       >>> gas.set_equivalence_ratio(0.5, 'CH3:0.5, CH3OH:.5, N2:0.125', 'O2:0.21, N2:0.79, NO:0.01')\n",
      " |      >>> gas.get_equivalence_ratio()\n",
      " |      0.50000000000000011\n",
      " |      >>> gas.get_equivalence_ratio(['O2'])  # Only consider O2 as the oxidizer instead of O2 and NO\n",
      " |      0.48809523809523814\n",
      " |      >>> gas.X = 'CH4:1, O2:2, NO:0.1'\n",
      " |      >>> gas.get_equivalence_ratio(ignore=['NO'])\n",
      " |      1.0\n",
      " |  \n",
      " |  mass_fraction_dict(...)\n",
      " |      ThermoPhase.mass_fraction_dict(self, double threshold=0.0)\n",
      " |  \n",
      " |  modify_species(...)\n",
      " |      ThermoPhase.modify_species(self, k, Species species)\n",
      " |  \n",
      " |  mole_fraction_dict(...)\n",
      " |      ThermoPhase.mole_fraction_dict(self, double threshold=0.0)\n",
      " |  \n",
      " |  n_atoms(...)\n",
      " |      ThermoPhase.n_atoms(self, species, element)\n",
      " |      \n",
      " |      Number of atoms of element *element* in species *species*. The element\n",
      " |      and species may be specified by name or by index.\n",
      " |      \n",
      " |      >>> phase.n_atoms('CH4','H')\n",
      " |      4\n",
      " |  \n",
      " |  report(...)\n",
      " |      ThermoPhase.report(self, show_thermo=True, float threshold=1e-14)\n",
      " |      \n",
      " |      Generate a report describing the thermodynamic state of this phase. To\n",
      " |      print the report to the terminal, simply call the phase object. The\n",
      " |      following two statements are equivalent::\n",
      " |      \n",
      " |      >>> phase()\n",
      " |      >>> print(phase.report())\n",
      " |  \n",
      " |  set_equivalence_ratio(...)\n",
      " |      ThermoPhase.set_equivalence_ratio(self, phi, fuel, oxidizer)\n",
      " |      \n",
      " |      Set the composition to a mixture of *fuel* and *oxidizer* at the\n",
      " |      specified equivalence ratio *phi*, holding temperature and pressure\n",
      " |      constant. Considers the oxidation of C and H to CO2 and H2O. Other\n",
      " |      elements are assumed not to participate in oxidation (i.e. N ends up as\n",
      " |      N2)::\n",
      " |      \n",
      " |          >>> gas.set_equivalence_ratio(0.5, 'CH4', 'O2:1.0, N2:3.76')\n",
      " |          >>> gas.mole_fraction_dict()\n",
      " |          {'CH4': 0.049900199, 'N2': 0.750499001, 'O2': 0.199600798}\n",
      " |      \n",
      " |          >>> gas.set_equivalence_ratio(1.2, {'NH3;:0.8, 'CO':0.2}, 'O2:1.0')\n",
      " |          >>> gas.mole_fraction_dict()\n",
      " |          {'CO': 0.1263157894, 'NH3': 0.505263157, 'O2': 0.36842105}\n",
      " |      \n",
      " |      :param phi: Equivalence ratio\n",
      " |      :param fuel:\n",
      " |          Fuel species name or molar composition as string, array, or dict.\n",
      " |      :param oxidizer:\n",
      " |          Oxidizer species name or molar composition as a string, array, or\n",
      " |          dict.\n",
      " |  \n",
      " |  set_unnormalized_mass_fractions(...)\n",
      " |      ThermoPhase.set_unnormalized_mass_fractions(self, Y)\n",
      " |      \n",
      " |      Set the mass fractions without normalizing to force sum(Y) == 1.0.\n",
      " |      Useful primarily when calculating derivatives with respect to Y[k] by\n",
      " |      finite difference.\n",
      " |  \n",
      " |  set_unnormalized_mole_fractions(...)\n",
      " |      ThermoPhase.set_unnormalized_mole_fractions(self, X)\n",
      " |      \n",
      " |      Set the mole fractions without normalizing to force sum(X) == 1.0.\n",
      " |      Useful primarily when calculating derivatives with respect to X[k]\n",
      " |      by finite difference.\n",
      " |  \n",
      " |  species(...)\n",
      " |      ThermoPhase.species(self, k=None)\n",
      " |      \n",
      " |      Return the `Species` object for species *k*, where *k* is either the\n",
      " |      species index or the species name. If *k* is not specified, a list of\n",
      " |      all species objects is returned.\n",
      " |  \n",
      " |  species_index(...)\n",
      " |      ThermoPhase.species_index(self, species) -> int\n",
      " |      \n",
      " |      The index of species *species*, which may be specified as a string or\n",
      " |      an integer. In the latter case, the index is checked for validity and\n",
      " |      returned. If no such species is present, an exception is thrown.\n",
      " |  \n",
      " |  species_name(...)\n",
      " |      ThermoPhase.species_name(self, k)\n",
      " |      Name of the species with index *k*.\n",
      " |  \n",
      " |  ----------------------------------------------------------------------\n",
      " |  Static methods inherited from cantera._cantera.ThermoPhase:\n",
      " |  \n",
      " |  __new__(*args, **kwargs) from builtins.type\n",
      " |      Create and return a new object.  See help(type) for accurate signature.\n",
      " |  \n",
      " |  ----------------------------------------------------------------------\n",
      " |  Data descriptors inherited from cantera._cantera.ThermoPhase:\n",
      " |  \n",
      " |  DP\n",
      " |      Get/Set density [kg/m^3] and pressure [Pa].\n",
      " |  \n",
      " |  DPX\n",
      " |      Get/Set density [kg/m^3], pressure [Pa], and mole fractions.\n",
      " |  \n",
      " |  DPY\n",
      " |      Get/Set density [kg/m^3], pressure [Pa], and mass fractions.\n",
      " |  \n",
      " |  HP\n",
      " |      Get/Set enthalpy [J/kg or J/kmol] and pressure [Pa].\n",
      " |  \n",
      " |  HPX\n",
      " |      Get/Set enthalpy [J/kg or J/kmol], pressure [Pa] and mole fractions.\n",
      " |  \n",
      " |  HPY\n",
      " |      Get/Set enthalpy [J/kg or J/kmol], pressure [Pa] and mass fractions.\n",
      " |  \n",
      " |  ID\n",
      " |      The ID of the phase. The default is taken from the CTI/XML input file.\n",
      " |  \n",
      " |  P\n",
      " |      Pressure [Pa].\n",
      " |  \n",
      " |  P_sat\n",
      " |      Saturation pressure [Pa] at the current temperature.\n",
      " |  \n",
      " |  SP\n",
      " |      Get/Set entropy [J/kg/K or J/kmol/K] and pressure [Pa].\n",
      " |  \n",
      " |  SPX\n",
      " |      Get/Set entropy [J/kg/K or J/kmol/K], pressure [Pa], and mole fractions.\n",
      " |  \n",
      " |  SPY\n",
      " |      Get/Set entropy [J/kg/K or J/kmol/K], pressure [Pa], and mass fractions.\n",
      " |  \n",
      " |  SV\n",
      " |      Get/Set entropy [J/kg/K or J/kmol/K] and specific volume [m^3/kg or\n",
      " |      m^3/kmol].\n",
      " |  \n",
      " |  SVX\n",
      " |      Get/Set entropy [J/kg/K or J/kmol/K], specific volume [m^3/kg or\n",
      " |      m^3/kmol], and mole fractions.\n",
      " |  \n",
      " |  SVY\n",
      " |      Get/Set entropy [J/kg/K or J/kmol/K], specific volume [m^3/kg or\n",
      " |      m^3/kmol], and mass fractions.\n",
      " |  \n",
      " |  T\n",
      " |      Temperature [K].\n",
      " |  \n",
      " |  TD\n",
      " |      Get/Set temperature [K] and density [kg/m^3 or kmol/m^3].\n",
      " |  \n",
      " |  TDX\n",
      " |      Get/Set temperature [K], density [kg/m^3 or kmol/m^3], and mole\n",
      " |      fractions.\n",
      " |  \n",
      " |  TDY\n",
      " |      Get/Set temperature [K] and density [kg/m^3 or kmol/m^3], and mass\n",
      " |      fractions.\n",
      " |  \n",
      " |  TP\n",
      " |      Get/Set temperature [K] and pressure [Pa].\n",
      " |  \n",
      " |  TPX\n",
      " |      Get/Set temperature [K], pressure [Pa], and mole fractions.\n",
      " |  \n",
      " |  TPY\n",
      " |      Get/Set temperature [K], pressure [Pa], and mass fractions.\n",
      " |  \n",
      " |  T_sat\n",
      " |      Saturation temperature [K] at the current pressure.\n",
      " |  \n",
      " |  UV\n",
      " |      Get/Set internal energy [J/kg or J/kmol] and specific volume\n",
      " |      [m^3/kg or m^3/kmol].\n",
      " |  \n",
      " |  UVX\n",
      " |      Get/Set internal energy [J/kg or J/kmol], specific volume\n",
      " |      [m^3/kg or m^3/kmol], and mole fractions.\n",
      " |  \n",
      " |  UVY\n",
      " |      Get/Set internal energy [J/kg or J/kmol], specific volume\n",
      " |      [m^3/kg or m^3/kmol], and mass fractions.\n",
      " |  \n",
      " |  X\n",
      " |      Get/Set the species mole fractions. Can be set as an array, as a dictionary,\n",
      " |      or as a string. Always returns an array::\n",
      " |      \n",
      " |          >>> phase.X = [0.1, 0, 0, 0.4, 0, 0, 0, 0, 0.5]\n",
      " |          >>> phase.X = {'H2':0.1, 'O2':0.4, 'AR':0.5}\n",
      " |          >>> phase.X = 'H2:0.1, O2:0.4, AR:0.5'\n",
      " |          >>> phase.X\n",
      " |          array([0.1, 0, 0, 0.4, 0, 0, 0, 0, 0.5])\n",
      " |  \n",
      " |  Y\n",
      " |      Get/Set the species mass fractions. Can be set as an array, as a dictionary,\n",
      " |      or as a string. Always returns an array::\n",
      " |      \n",
      " |          >>> phase.Y = [0.1, 0, 0, 0.4, 0, 0, 0, 0, 0.5]\n",
      " |          >>> phase.Y = {'H2':0.1, 'O2':0.4, 'AR':0.5}\n",
      " |          >>> phase.Y = 'H2:0.1, O2:0.4, AR:0.5'\n",
      " |          >>> phase.Y\n",
      " |          array([0.1, 0, 0, 0.4, 0, 0, 0, 0, 0.5])\n",
      " |  \n",
      " |  atomic_weights\n",
      " |      Array of atomic weight [kg/kmol] for each element in the mixture.\n",
      " |  \n",
      " |  basis\n",
      " |      Determines whether intensive thermodynamic properties are treated on a\n",
      " |      `mass` (per kg) or `molar` (per kmol) basis. This affects the values\n",
      " |      returned by the properties `h`, `u`, `s`, `g`, `v`, `density`, `cv`,\n",
      " |      and `cp`, as well as the values used with the state-setting properties\n",
      " |      such as `HPX` and `UV`.\n",
      " |  \n",
      " |  chemical_potentials\n",
      " |      Array of species chemical potentials [J/kmol].\n",
      " |  \n",
      " |  concentrations\n",
      " |      Get/Set the species concentrations [kmol/m^3].\n",
      " |  \n",
      " |  cp\n",
      " |      Heat capacity at constant pressure [J/kg/K or J/kmol/K] depending\n",
      " |      on `basis`.\n",
      " |  \n",
      " |  cp_mass\n",
      " |      Specific heat capacity at constant pressure [J/kg/K].\n",
      " |  \n",
      " |  cp_mole\n",
      " |      Molar heat capacity at constant pressure [J/kmol/K].\n",
      " |  \n",
      " |  critical_density\n",
      " |      Critical density [kg/m^3 or kmol/m^3] depending on `basis`.\n",
      " |  \n",
      " |  critical_pressure\n",
      " |      Critical pressure [Pa].\n",
      " |  \n",
      " |  critical_temperature\n",
      " |      Critical temperature [K].\n",
      " |  \n",
      " |  cv\n",
      " |      Heat capacity at constant volume [J/kg/K or J/kmol/K] depending on\n",
      " |      `basis`.\n",
      " |  \n",
      " |  cv_mass\n",
      " |      Specific heat capacity at constant volume [J/kg/K].\n",
      " |  \n",
      " |  cv_mole\n",
      " |      Molar heat capacity at constant volume [J/kmol/K].\n",
      " |  \n",
      " |  density\n",
      " |      Density [kg/m^3 or kmol/m^3] depending on `basis`.\n",
      " |  \n",
      " |  density_mass\n",
      " |      (Mass) density [kg/m^3].\n",
      " |  \n",
      " |  density_mole\n",
      " |      Molar density [kmol/m^3].\n",
      " |  \n",
      " |  electric_potential\n",
      " |      Get/Set the electric potential [V] for this phase.\n",
      " |  \n",
      " |  electrochemical_potentials\n",
      " |      Array of species electrochemical potentials [J/kmol].\n",
      " |  \n",
      " |  element_names\n",
      " |      A list of all the element names.\n",
      " |  \n",
      " |  enthalpy_mass\n",
      " |      Specific enthalpy [J/kg].\n",
      " |  \n",
      " |  enthalpy_mole\n",
      " |      Molar enthalpy [J/kmol].\n",
      " |  \n",
      " |  entropy_mass\n",
      " |      Specific entropy [J/kg].\n",
      " |  \n",
      " |  entropy_mole\n",
      " |      Molar entropy [J/kmol/K].\n",
      " |  \n",
      " |  g\n",
      " |      Gibbs free energy [J/kg or J/kmol] depending on `basis`.\n",
      " |  \n",
      " |  gibbs_mass\n",
      " |      Specific Gibbs free energy [J/kg].\n",
      " |  \n",
      " |  gibbs_mole\n",
      " |      Molar Gibbs free energy [J/kmol].\n",
      " |  \n",
      " |  h\n",
      " |      Enthalpy [J/kg or J/kmol] depending on `basis`.\n",
      " |  \n",
      " |  int_energy_mass\n",
      " |      Specific internal energy [J/kg].\n",
      " |  \n",
      " |  int_energy_mole\n",
      " |      Molar internal energy [J/kmol].\n",
      " |  \n",
      " |  isothermal_compressibility\n",
      " |      Isothermal compressibility [1/Pa].\n",
      " |  \n",
      " |  max_temp\n",
      " |      Maximum temperature for which the thermodynamic data for the phase are\n",
      " |      valid.\n",
      " |  \n",
      " |  mean_molecular_weight\n",
      " |      The mean molecular weight (molar mass) [kg/kmol].\n",
      " |  \n",
      " |  min_temp\n",
      " |      Minimum temperature for which the thermodynamic data for the phase are\n",
      " |      valid.\n",
      " |  \n",
      " |  molecular_weights\n",
      " |      Array of species molecular weights (molar masses) [kg/kmol].\n",
      " |  \n",
      " |  n_elements\n",
      " |      Number of elements.\n",
      " |  \n",
      " |  n_selected_species\n",
      " |      Number of species selected for output (by slicing of Solution object)\n",
      " |  \n",
      " |  n_species\n",
      " |      Number of species.\n",
      " |  \n",
      " |  name\n",
      " |      The name assigned to this phase. The default is taken from the CTI/XML\n",
      " |      input file.\n",
      " |  \n",
      " |  partial_molar_cp\n",
      " |      Array of species partial molar specific heat capacities at constant\n",
      " |      pressure [J/kmol/K].\n",
      " |  \n",
      " |  partial_molar_enthalpies\n",
      " |      Array of species partial molar enthalpies [J/kmol].\n",
      " |  \n",
      " |  partial_molar_entropies\n",
      " |      Array of species partial molar entropies [J/kmol/K].\n",
      " |  \n",
      " |  partial_molar_int_energies\n",
      " |      Array of species partial molar internal energies [J/kmol].\n",
      " |  \n",
      " |  partial_molar_volumes\n",
      " |      Array of species partial molar volumes [m^3/kmol].\n",
      " |  \n",
      " |  reference_pressure\n",
      " |      Reference state pressure [Pa].\n",
      " |  \n",
      " |  s\n",
      " |      Entropy [J/kg/K or J/kmol/K] depending on `basis`.\n",
      " |  \n",
      " |  species_names\n",
      " |      A list of all the species names.\n",
      " |  \n",
      " |  standard_cp_R\n",
      " |      Array of nondimensional species standard-state specific heat capacities\n",
      " |      at constant pressure at the current temperature and pressure.\n",
      " |  \n",
      " |  standard_enthalpies_RT\n",
      " |      Array of nondimensional species standard-state enthalpies at the\n",
      " |      current temperature and pressure.\n",
      " |  \n",
      " |  standard_entropies_R\n",
      " |      Array of nondimensional species standard-state entropies at the\n",
      " |      current temperature and pressure.\n",
      " |  \n",
      " |  standard_gibbs_RT\n",
      " |      Array of nondimensional species standard-state Gibbs free energies at\n",
      " |      the current temperature and pressure.\n",
      " |  \n",
      " |  standard_int_energies_RT\n",
      " |      Array of nondimensional species standard-state internal energies at the\n",
      " |      current temperature and pressure.\n",
      " |  \n",
      " |  state\n",
      " |      Get/Set the full thermodynamic state as a single array, arranged as\n",
      " |      [temperature, density, mass fractions] for most phases. Useful mainly\n",
      " |      in cases where it is desired to store many states in a multidimensional\n",
      " |      array.\n",
      " |  \n",
      " |  thermal_expansion_coeff\n",
      " |      Thermal expansion coefficient [1/K].\n",
      " |  \n",
      " |  u\n",
      " |      Internal energy in [J/kg or J/kmol].\n",
      " |  \n",
      " |  v\n",
      " |      Specific volume [m^3/kg or m^3/kmol] depending on `basis`.\n",
      " |  \n",
      " |  volume_mass\n",
      " |      Specific volume [m^3/kg].\n",
      " |  \n",
      " |  volume_mole\n",
      " |      Molar volume [m^3/kmol].\n",
      " |  \n",
      " |  ----------------------------------------------------------------------\n",
      " |  Data and other attributes inherited from cantera._cantera.ThermoPhase:\n",
      " |  \n",
      " |  __pyx_vtable__ = <capsule object NULL>\n",
      " |  \n",
      " |  ----------------------------------------------------------------------\n",
      " |  Methods inherited from cantera._cantera.Kinetics:\n",
      " |  \n",
      " |  add_reaction(...)\n",
      " |      Kinetics.add_reaction(self, Reaction rxn)\n",
      " |      Add a new reaction to this phase.\n",
      " |  \n",
      " |  is_reversible(...)\n",
      " |      Kinetics.is_reversible(self, int i_reaction)\n",
      " |      True if reaction `i_reaction` is reversible.\n",
      " |  \n",
      " |  kinetics_species_index(...)\n",
      " |      Kinetics.kinetics_species_index(self, species, int phase=0)\n",
      " |      \n",
      " |      The index of species *species* of phase *phase* within arrays returned\n",
      " |      by methods of class `Kinetics`. If *species* is a string, the *phase*\n",
      " |      argument is unused.\n",
      " |  \n",
      " |  modify_reaction(...)\n",
      " |      Kinetics.modify_reaction(self, int irxn, Reaction rxn)\n",
      " |      \n",
      " |      Modify the `Reaction` with index ``irxn`` to have the same rate\n",
      " |      parameters as ``rxn``. ``rxn`` must have the same reactants and products\n",
      " |      and be of the same type (i.e. `ElementaryReaction`, `FalloffReaction`,\n",
      " |      `PlogReaction`, etc.) as the existing reaction. This method does not\n",
      " |      modify the third-body efficiencies, reaction orders, or reversibility of\n",
      " |      the reaction.\n",
      " |  \n",
      " |  multiplier(...)\n",
      " |      Kinetics.multiplier(self, int i_reaction)\n",
      " |      \n",
      " |      A scaling factor applied to the rate coefficient for reaction\n",
      " |      *i_reaction*. Can be used to carry out sensitivity analysis or to\n",
      " |      selectively disable a particular reaction. See `set_multiplier`.\n",
      " |  \n",
      " |  product_stoich_coeff(...)\n",
      " |      Kinetics.product_stoich_coeff(self, k_spec, int i_reaction)\n",
      " |      \n",
      " |      The stoichiometric coefficient of species *k_spec* as a product in\n",
      " |      reaction *i_reaction*.\n",
      " |  \n",
      " |  product_stoich_coeffs(...)\n",
      " |      Kinetics.product_stoich_coeffs(self)\n",
      " |      \n",
      " |      The array of product stoichiometric coefficients. Element *[k,i]* of\n",
      " |      this array is the product stoichiometric coefficient of species *k* in\n",
      " |      reaction *i*.\n",
      " |  \n",
      " |  products(...)\n",
      " |      Kinetics.products(self, int i_reaction)\n",
      " |      The products portion of the reaction equation\n",
      " |  \n",
      " |  reactant_stoich_coeff(...)\n",
      " |      Kinetics.reactant_stoich_coeff(self, k_spec, int i_reaction)\n",
      " |      \n",
      " |      The stoichiometric coefficient of species *k_spec* as a reactant in\n",
      " |      reaction *i_reaction*.\n",
      " |  \n",
      " |  reactant_stoich_coeffs(...)\n",
      " |      Kinetics.reactant_stoich_coeffs(self)\n",
      " |      \n",
      " |      The array of reactant stoichiometric coefficients. Element *[k,i]* of\n",
      " |      this array is the reactant stoichiometric coefficient of species *k* in\n",
      " |      reaction *i*.\n",
      " |  \n",
      " |  reactants(...)\n",
      " |      Kinetics.reactants(self, int i_reaction)\n",
      " |      The reactants portion of the reaction equation\n",
      " |  \n",
      " |  reaction(...)\n",
      " |      Kinetics.reaction(self, int i_reaction)\n",
      " |      \n",
      " |      Return a `Reaction` object representing the reaction with index\n",
      " |      ``i_reaction``.\n",
      " |  \n",
      " |  reaction_equation(...)\n",
      " |      Kinetics.reaction_equation(self, int i_reaction)\n",
      " |      The equation for the specified reaction. See also `reaction_equations`.\n",
      " |  \n",
      " |  reaction_equations(...)\n",
      " |      Kinetics.reaction_equations(self, indices=None)\n",
      " |      \n",
      " |      Returns a list containing the reaction equation for all reactions in the\n",
      " |      mechanism (if *indices* is unspecified) or the equations for each\n",
      " |      reaction in the sequence *indices*. For example::\n",
      " |      \n",
      " |          >>> gas.reaction_equations()\n",
      " |          ['2 O + M <=> O2 + M', 'O + H + M <=> OH + M', 'O + H2 <=> H + OH', ...]\n",
      " |          >>> gas.reaction_equations([2,3])\n",
      " |          ['O + H + M <=> OH + M', 'O + H2 <=> H + OH']\n",
      " |      \n",
      " |      See also `reaction_equation`.\n",
      " |  \n",
      " |  reaction_type(...)\n",
      " |      Kinetics.reaction_type(self, int i_reaction)\n",
      " |      Type of reaction *i_reaction*.\n",
      " |  \n",
      " |  reactions(...)\n",
      " |      Kinetics.reactions(self)\n",
      " |      \n",
      " |      Return a list of all `Reaction` objects\n",
      " |  \n",
      " |  reset_custom(...)\n",
      " |      Kinetics.reset_custom(self)\n",
      " |      \n",
      " |      Function calling the dlclose in CustomKinetics\n",
      " |      in order to close the dynamic library (handle)\n",
      " |  \n",
      " |  set_multiplier(...)\n",
      " |      Kinetics.set_multiplier(self, double value, int i_reaction=-1)\n",
      " |      \n",
      " |      Set the multiplier for for reaction *i_reaction* to *value*.\n",
      " |      If *i_reaction* is not specified, then the multiplier for all reactions\n",
      " |      is set to *value*. See `multiplier`.\n",
      " |  \n",
      " |  ----------------------------------------------------------------------\n",
      " |  Data descriptors inherited from cantera._cantera.Kinetics:\n",
      " |  \n",
      " |  creation_rates\n",
      " |      Creation rates for each species. [kmol/m^3/s] for bulk phases or\n",
      " |      [kmol/m^2/s] for surface phases.\n",
      " |  \n",
      " |  delta_enthalpy\n",
      " |      Change in enthalpy for each reaction [J/kmol].\n",
      " |  \n",
      " |  delta_entropy\n",
      " |      Change in entropy for each reaction [J/kmol/K].\n",
      " |  \n",
      " |  delta_gibbs\n",
      " |      Change in Gibbs free energy for each reaction [J/kmol].\n",
      " |  \n",
      " |  delta_standard_enthalpy\n",
      " |      Change in standard-state enthalpy (independent of composition) for\n",
      " |      each reaction [J/kmol].\n",
      " |  \n",
      " |  delta_standard_entropy\n",
      " |      Change in standard-state entropy (independent of composition) for\n",
      " |      each reaction [J/kmol/K].\n",
      " |  \n",
      " |  delta_standard_gibbs\n",
      " |      Change in standard-state Gibbs free energy (independent of composition)\n",
      " |      for each reaction [J/kmol].\n",
      " |  \n",
      " |  destruction_rates\n",
      " |      Destruction rates for each species. [kmol/m^3/s] for bulk phases or\n",
      " |      [kmol/m^2/s] for surface phases.\n",
      " |  \n",
      " |  equilibrium_constants\n",
      " |      Equilibrium constants in concentration units for all reactions.\n",
      " |  \n",
      " |  forward_rate_constants\n",
      " |      Forward rate constants for all reactions. Units are a combination of\n",
      " |      kmol, m^3 and s, that depend on the rate expression for the reaction.\n",
      " |  \n",
      " |  forward_rates_of_progress\n",
      " |      Forward rates of progress for the reactions. [kmol/m^3/s] for bulk\n",
      " |      phases or [kmol/m^2/s] for surface phases.\n",
      " |  \n",
      " |  n_phases\n",
      " |      Number of phases in the reaction mechanism.\n",
      " |  \n",
      " |  n_reactions\n",
      " |      Number of reactions in the reaction mechanism.\n",
      " |  \n",
      " |  n_total_species\n",
      " |      Total number of species in all phases participating in the kinetics\n",
      " |      mechanism.\n",
      " |  \n",
      " |  net_production_rates\n",
      " |      Net production rates for each species. [kmol/m^3/s] for bulk phases or\n",
      " |      [kmol/m^2/s] for surface phases.\n",
      " |  \n",
      " |  net_rates_of_progress\n",
      " |      Net rates of progress for the reactions. [kmol/m^3/s] for bulk phases\n",
      " |      or [kmol/m^2/s] for surface phases.\n",
      " |  \n",
      " |  reaction_phase_index\n",
      " |      The index of the phase where the reactions occur.\n",
      " |  \n",
      " |  reverse_rate_constants\n",
      " |      Reverse rate constants for all reactions. Units are a combination of\n",
      " |      kmol, m^3 and s, that depend on the rate expression for the reaction.\n",
      " |  \n",
      " |  reverse_rates_of_progress\n",
      " |      Reverse rates of progress for the reactions. [kmol/m^3/s] for bulk\n",
      " |      phases or [kmol/m^2/s] for surface phases.\n",
      " |  \n",
      " |  ----------------------------------------------------------------------\n",
      " |  Data descriptors inherited from cantera._cantera.Transport:\n",
      " |  \n",
      " |  binary_diff_coeffs\n",
      " |      Binary diffusion coefficients [m^2/s].\n",
      " |  \n",
      " |  electrical_conductivity\n",
      " |      Electrical conductivity. [S/m].\n",
      " |  \n",
      " |  mix_diff_coeffs\n",
      " |      Mixture-averaged diffusion coefficients [m^2/s] relating the\n",
      " |      mass-averaged diffusive fluxes (with respect to the mass averaged\n",
      " |      velocity) to gradients in the species mole fractions.\n",
      " |  \n",
      " |  mix_diff_coeffs_mass\n",
      " |      Mixture-averaged diffusion coefficients [m^2/s] relating the\n",
      " |      diffusive mass fluxes to gradients in the species mass fractions.\n",
      " |  \n",
      " |  mix_diff_coeffs_mole\n",
      " |      Mixture-averaged diffusion coefficients [m^2/s] relating the\n",
      " |      molar diffusive fluxes to gradients in the species mole fractions.\n",
      " |  \n",
      " |  multi_diff_coeffs\n",
      " |      Multicomponent diffusion coefficients [m^2/s].\n",
      " |  \n",
      " |  species_viscosities\n",
      " |      Pure species viscosities [Pa-s]\n",
      " |  \n",
      " |  thermal_conductivity\n",
      " |      Thermal conductivity. [W/m/K].\n",
      " |  \n",
      " |  thermal_diff_coeffs\n",
      " |      Return a one-dimensional array of the species thermal diffusion\n",
      " |      coefficients [kg/m/s].\n",
      " |  \n",
      " |  transport_model\n",
      " |      Get/Set the transport model associated with this transport model.\n",
      " |      \n",
      " |      Setting a new transport model deletes the underlying C++ Transport\n",
      " |      object and replaces it with a new one implementing the specified model.\n",
      " |  \n",
      " |  viscosity\n",
      " |      Viscosity [Pa-s].\n",
      " |  \n",
      " |  ----------------------------------------------------------------------\n",
      " |  Methods inherited from cantera._cantera._SolutionBase:\n",
      " |  \n",
      " |  __copy__(...)\n",
      " |      _SolutionBase.__copy__(self)\n",
      " |  \n",
      " |  __getitem__(self, key, /)\n",
      " |      Return self[key].\n",
      " |  \n",
      " |  __reduce__(...)\n",
      " |      _SolutionBase.__reduce__(self)\n",
      " |  \n",
      " |  ----------------------------------------------------------------------\n",
      " |  Data descriptors inherited from cantera._cantera._SolutionBase:\n",
      " |  \n",
      " |  selected_species\n",
      "\n"
     ]
    }
   ],
   "source": [
    "help(gas)"
   ]
  },
  {
   "cell_type": "markdown",
   "metadata": {},
   "source": [
    "You can use several functions to define the state of your gas, that is to say :\n",
    "- gas.**TP** (Temperature Pressure)\n",
    "- gas.**TD** (Temperature Density)\n",
    "- gas.**HP** (Enthalpy Pressure)\n",
    "- gas.**UV** (Specific Internal Energy, Specific Volume)\n",
    "- gas.**SP** (Entropy Pressure)\n",
    "- gas.**SV** (Entropy Specific Volume)."
   ]
  },
  {
   "cell_type": "code",
   "execution_count": 4,
   "metadata": {},
   "outputs": [],
   "source": [
    "gas.TP = 500, 101325"
   ]
  },
  {
   "cell_type": "markdown",
   "metadata": {},
   "source": [
    "### Wrong method"
   ]
  },
  {
   "cell_type": "markdown",
   "metadata": {},
   "source": [
    "Here, we chose to define the molar fraction of the gas directly by the following :"
   ]
  },
  {
   "cell_type": "code",
   "execution_count": 5,
   "metadata": {},
   "outputs": [],
   "source": [
    "gas.X = {'CH4':1, 'O2':2, 'N2':7.52}"
   ]
  },
  {
   "cell_type": "code",
   "execution_count": 6,
   "metadata": {
    "scrolled": false
   },
   "outputs": [
    {
     "name": "stdout",
     "output_type": "stream",
     "text": [
      "\n",
      "  gri30:\n",
      "\n",
      "       temperature             500  K\n",
      "          pressure         7391.79  Pa\n",
      "           density       0.0491334  kg/m^3\n",
      "  mean mol. weight         27.6332  amu\n",
      "\n",
      "                          1 kg            1 kmol\n",
      "                       -----------      ------------\n",
      "          enthalpy          -33317       -9.207e+05     J\n",
      "   internal energy     -1.8376e+05       -5.078e+06     J\n",
      "           entropy          8599.3        2.376e+05     J/K\n",
      "    Gibbs function      -4.333e+06       -1.197e+08     J\n",
      " heat capacity c_p          1140.4        3.151e+04     J/K\n",
      " heat capacity c_v          839.54         2.32e+04     J/K\n",
      "\n",
      "                           X                 Y          Chem. Pot. / RT\n",
      "                     -------------     ------------     ------------\n",
      "                O2       0.190114         0.220149         -29.3581\n",
      "               CH4       0.095057        0.0551863         -45.8564\n",
      "                N2       0.714829         0.724665         -26.3852\n",
      "     [  +50 minor]              0                0\n",
      "\n",
      "None\n"
     ]
    }
   ],
   "source": [
    "print(gas())"
   ]
  },
  {
   "cell_type": "markdown",
   "metadata": {},
   "source": [
    "What do you notice here ? Look at the pressure : it is not the same than what has been define above. You should never defined pressure and temperature and call the command \"gas.Y\" afterwards. Below are explained correct methods to set the case correctly."
   ]
  },
  {
   "cell_type": "markdown",
   "metadata": {},
   "source": [
    "### First method"
   ]
  },
  {
   "cell_type": "code",
   "execution_count": 9,
   "metadata": {},
   "outputs": [],
   "source": [
    "gas.TPX = 500, 101325, {'CH4':1, 'O2':2, 'N2':7.52}"
   ]
  },
  {
   "cell_type": "code",
   "execution_count": 10,
   "metadata": {},
   "outputs": [
    {
     "name": "stdout",
     "output_type": "stream",
     "text": [
      "\n",
      "  gri30:\n",
      "\n",
      "       temperature             500  K\n",
      "          pressure          101325  Pa\n",
      "           density         0.67351  kg/m^3\n",
      "  mean mol. weight         27.6332  amu\n",
      "\n",
      "                          1 kg            1 kmol\n",
      "                       -----------      ------------\n",
      "          enthalpy          -33317       -9.207e+05     J\n",
      "   internal energy     -1.8376e+05       -5.078e+06     J\n",
      "           entropy          7811.6        2.159e+05     J/K\n",
      "    Gibbs function     -3.9391e+06       -1.089e+08     J\n",
      " heat capacity c_p          1140.4        3.151e+04     J/K\n",
      " heat capacity c_v          839.54         2.32e+04     J/K\n",
      "\n",
      "                           X                 Y          Chem. Pot. / RT\n",
      "                     -------------     ------------     ------------\n",
      "                O2       0.190114         0.220149         -26.7401\n",
      "               CH4       0.095057        0.0551863         -43.2384\n",
      "                N2       0.714829         0.724665         -23.7672\n",
      "     [  +50 minor]              0                0\n",
      "\n",
      "None\n"
     ]
    }
   ],
   "source": [
    "print(gas())"
   ]
  },
  {
   "cell_type": "markdown",
   "metadata": {},
   "source": [
    "### Second method"
   ]
  },
  {
   "cell_type": "markdown",
   "metadata": {},
   "source": [
    "Here, we will set an equivalence ratio equal to unity with a mix of fuel (CH4) and oxidizer (air), which is doing the same as above."
   ]
  },
  {
   "cell_type": "code",
   "execution_count": 11,
   "metadata": {},
   "outputs": [],
   "source": [
    "gas.TP = 500, 101325"
   ]
  },
  {
   "cell_type": "code",
   "execution_count": 12,
   "metadata": {},
   "outputs": [],
   "source": [
    "gas.set_equivalence_ratio(1, 'CH4: 1', 'O2:1.0, N2:3.76')"
   ]
  },
  {
   "cell_type": "code",
   "execution_count": 13,
   "metadata": {
    "scrolled": false
   },
   "outputs": [
    {
     "name": "stdout",
     "output_type": "stream",
     "text": [
      "\n",
      "  gri30:\n",
      "\n",
      "       temperature             500  K\n",
      "          pressure          101325  Pa\n",
      "           density         0.67351  kg/m^3\n",
      "  mean mol. weight         27.6332  amu\n",
      "\n",
      "                          1 kg            1 kmol\n",
      "                       -----------      ------------\n",
      "          enthalpy          -33317       -9.207e+05     J\n",
      "   internal energy     -1.8376e+05       -5.078e+06     J\n",
      "           entropy          7811.6        2.159e+05     J/K\n",
      "    Gibbs function     -3.9391e+06       -1.089e+08     J\n",
      " heat capacity c_p          1140.4        3.151e+04     J/K\n",
      " heat capacity c_v          839.54         2.32e+04     J/K\n",
      "\n",
      "                           X                 Y          Chem. Pot. / RT\n",
      "                     -------------     ------------     ------------\n",
      "                O2       0.190114         0.220149         -26.7401\n",
      "               CH4       0.095057        0.0551863         -43.2384\n",
      "                N2       0.714829         0.724665         -23.7672\n",
      "     [  +50 minor]              0                0\n",
      "\n",
      "None\n"
     ]
    }
   ],
   "source": [
    "print(gas())"
   ]
  },
  {
   "cell_type": "markdown",
   "metadata": {},
   "source": [
    "### Additional informations"
   ]
  },
  {
   "cell_type": "code",
   "execution_count": 14,
   "metadata": {},
   "outputs": [
    {
     "name": "stdout",
     "output_type": "stream",
     "text": [
      "['H2', 'H', 'O', 'O2', 'OH', 'H2O', 'HO2', 'H2O2', 'C', 'CH', 'CH2', 'CH2(S)', 'CH3', 'CH4', 'CO', 'CO2', 'HCO', 'CH2O', 'CH2OH', 'CH3O', 'CH3OH', 'C2H', 'C2H2', 'C2H3', 'C2H4', 'C2H5', 'C2H6', 'HCCO', 'CH2CO', 'HCCOH', 'N', 'NH', 'NH2', 'NH3', 'NNH', 'NO', 'NO2', 'N2O', 'HNO', 'CN', 'HCN', 'H2CN', 'HCNN', 'HCNO', 'HOCN', 'HNCO', 'NCO', 'N2', 'AR', 'C3H7', 'C3H8', 'CH2CHO', 'CH3CHO']\n"
     ]
    }
   ],
   "source": [
    "print(gas.species_names)"
   ]
  },
  {
   "cell_type": "code",
   "execution_count": 15,
   "metadata": {},
   "outputs": [
    {
     "name": "stdout",
     "output_type": "stream",
     "text": [
      "15\n"
     ]
    }
   ],
   "source": [
    "print(gas.species_index('CO2'))"
   ]
  },
  {
   "cell_type": "markdown",
   "metadata": {},
   "source": [
    "Other informations concerning functions associated to the thermodynamic properties of the gas object can be found on the help function or on the following link :\n",
    "<br>\n",
    "https://cantera.org/documentation/docs-2.4/sphinx/html/cython/thermo.html"
   ]
  },
  {
   "cell_type": "markdown",
   "metadata": {},
   "source": [
    "## 4. Kinetic state of the gas"
   ]
  },
  {
   "cell_type": "markdown",
   "metadata": {},
   "source": [
    "As well as for the thermodynamic state of the gas, the kinetic state can be found at the following link :\n",
    "<br>\n",
    "https://cantera.org/documentation/docs-2.4/sphinx/html/cython/kinetics.html"
   ]
  },
  {
   "cell_type": "code",
   "execution_count": 16,
   "metadata": {},
   "outputs": [
    {
     "name": "stdout",
     "output_type": "stream",
     "text": [
      "[ 0.00000000e+00  3.47828430e-33  9.56902897e-36 -1.90362750e-19\n",
      "  0.00000000e+00  0.00000000e+00  1.90362750e-19  0.00000000e+00\n",
      "  0.00000000e+00  0.00000000e+00  0.00000000e+00  0.00000000e+00\n",
      "  1.90362750e-19 -1.90362750e-19  0.00000000e+00  0.00000000e+00\n",
      "  0.00000000e+00  0.00000000e+00  0.00000000e+00  0.00000000e+00\n",
      "  0.00000000e+00  0.00000000e+00  0.00000000e+00  0.00000000e+00\n",
      "  0.00000000e+00  0.00000000e+00  0.00000000e+00  0.00000000e+00\n",
      "  0.00000000e+00  0.00000000e+00  0.00000000e+00  0.00000000e+00\n",
      "  0.00000000e+00  0.00000000e+00  9.36554123e-42  0.00000000e+00\n",
      "  0.00000000e+00  9.56902877e-36  0.00000000e+00  0.00000000e+00\n",
      "  0.00000000e+00  0.00000000e+00  0.00000000e+00  0.00000000e+00\n",
      "  0.00000000e+00  0.00000000e+00  0.00000000e+00 -9.56903814e-36\n",
      "  0.00000000e+00  0.00000000e+00  0.00000000e+00  0.00000000e+00\n",
      "  0.00000000e+00]\n"
     ]
    }
   ],
   "source": [
    "print(gas.net_production_rates)"
   ]
  },
  {
   "cell_type": "markdown",
   "metadata": {},
   "source": [
    "Here, this is nearly zero as no reaction has occured in the mix."
   ]
  },
  {
   "cell_type": "markdown",
   "metadata": {},
   "source": [
    "## 5. Transport properties"
   ]
  },
  {
   "cell_type": "markdown",
   "metadata": {},
   "source": [
    "For the transport, the functions can be found here :\n",
    "<br>\n",
    "https://cantera.org/documentation/docs-2.4/sphinx/html/cython/transport.html"
   ]
  },
  {
   "cell_type": "code",
   "execution_count": 17,
   "metadata": {},
   "outputs": [
    {
     "ename": "CanteraError",
     "evalue": "\n***********************************************************************\nNotImplementedError thrown by Transport::getBinaryDiffCoeffs:\nNot implemented.\n***********************************************************************\n",
     "output_type": "error",
     "traceback": [
      "\u001b[0;31m---------------------------------------------------------------------------\u001b[0m",
      "\u001b[0;31mCanteraError\u001b[0m                              Traceback (most recent call last)",
      "\u001b[0;32m<ipython-input-17-569894f894e1>\u001b[0m in \u001b[0;36m<module>\u001b[0;34m\u001b[0m\n\u001b[0;32m----> 1\u001b[0;31m \u001b[0mprint\u001b[0m\u001b[0;34m(\u001b[0m\u001b[0mgas\u001b[0m\u001b[0;34m.\u001b[0m\u001b[0mbinary_diff_coeffs\u001b[0m\u001b[0;34m)\u001b[0m\u001b[0;34m\u001b[0m\u001b[0;34m\u001b[0m\u001b[0m\n\u001b[0m",
      "\u001b[0;32minterfaces/cython/cantera/transport.pyx\u001b[0m in \u001b[0;36mcantera._cantera.Transport.binary_diff_coeffs.__get__\u001b[0;34m()\u001b[0m\n",
      "\u001b[0;32minterfaces/cython/cantera/transport.pyx\u001b[0m in \u001b[0;36mcantera._cantera.get_transport_2d\u001b[0;34m()\u001b[0m\n",
      "\u001b[0;31mCanteraError\u001b[0m: \n***********************************************************************\nNotImplementedError thrown by Transport::getBinaryDiffCoeffs:\nNot implemented.\n***********************************************************************\n"
     ]
    }
   ],
   "source": [
    "print(gas.binary_diff_coeffs)"
   ]
  },
  {
   "cell_type": "markdown",
   "metadata": {},
   "source": [
    "The code throws an error, which is pretty normal as nothing chemical was computed for the moment. The gas object created is indeed just a mix of different species, nothing has reacted (explaining the kinetics net production rates nearly close to zero and the transport properties not implemented)."
   ]
  },
  {
   "cell_type": "markdown",
   "metadata": {},
   "source": [
    "Here, with the version we used at CERFACS, four types of transport are available. The four differs in the following way :\n",
    "- **multi** is the most complicated and detailed version, it uses each diffusion coefficient $D_{kj}$ to represent the interaction between each species (k being a species and j another one).\n",
    "- **mix** is the most used version in Cantera as it allows the user to approximate results without losing too much precision. The approximation made is that every species has one interaction with the whole mix following the rule :\n",
    "$D_{km} = \\frac{1-Y_k}{\\sum_{j\\ne k}^{K} \\frac{X_j}{Djk}}$.\n",
    "- **AVBP** which is the transport used to compare results with AVBP solver used at cerfacs (this transport is not included in the normal version). This supposes a constant Schmidt number ( $Sc = \\frac{\\rho}{\\mu D_{km}}$, $\\rho$ being the density and $\\mu$ the viscosity ) for all the species and $D_{km}$ is guessed from this relation.\n",
    "- **UnityLewis** which has been implemented in the official release 2.4 of Cantera but integrated in CERFACS version 2.3.\n",
    "\n",
    "https://cantera.org/science/phases.html"
   ]
  },
  {
   "cell_type": "markdown",
   "metadata": {},
   "source": [
    "This types of transport are used in the cti file, as you will see in a minute."
   ]
  },
  {
   "cell_type": "markdown",
   "metadata": {},
   "source": [
    "## Conclusion"
   ]
  },
  {
   "cell_type": "markdown",
   "metadata": {},
   "source": [
    "The purpose of this part was to explain :\n",
    "- how one can set up the thermodynamic state of a gas for a computation\n",
    "- how one will be able to print interesting data from the gaseous object\n",
    "<br>\n",
    "In the next part, we will focus on the object used to created the cantera gas object : the cti file."
   ]
  },
  {
   "cell_type": "markdown",
   "metadata": {},
   "source": [
    "Things to retain from the first tutorial :\n",
    "- you should always import Cantera at the beginning of your file.\n",
    "- the solution is imported from a cti file or an xml file.\n",
    "- you should set the thermodynamic state and the amount of species of your gas before starting any computation."
   ]
  },
  {
   "cell_type": "markdown",
   "metadata": {},
   "source": [
    "## Appendix : The cti and xml files"
   ]
  },
  {
   "cell_type": "markdown",
   "metadata": {},
   "source": [
    "### a. Creation of the data file from CHEMKIN files"
   ]
  },
  {
   "cell_type": "markdown",
   "metadata": {},
   "source": [
    "The information required to compute the previous quantities were specified in the **.xml** file, also\n",
    "labeled **mechanism file** or **data file**. Cantera also supports a data file format that is easier to\n",
    "write than the '.xml' format, with the extension '.cti'.<br>\n",
    "For the following part, you can open a cti script in the *Mechanisms* folder (for instance the **gri30** mechanism) to have a visual idea of what is a cti file."
   ]
  },
  {
   "cell_type": "markdown",
   "metadata": {},
   "source": [
    "Cantera simulations will always involve one or more phases of matter. Depending on the calculation being performed, it may be necessary to evaluate **thermodynamic properties**, but also **transport properties**, and/or **homogeneous reaction rates** for the phase(s) present. In problems with multiple phases, the properties of the interfaces between phases, and the heterogeneous reaction rates at these interfaces, may also be required.<br><br>\n",
    "\n",
    "Before the properties can be evaluated, each phase must be defined, meaning that the models\n",
    "used to compute its properties and reaction rates must be specified, along with any parameters the\n",
    "models require. For example, a solid phase might be defined as being incompressible, with a specified\n",
    "density and composition. A gaseous phase for a combustion simulation might be defined as an ideal\n",
    "gas consisting of a mixture of many species that react with one another via a specified set of reactions.<br>\n",
    "If phases contain multiple species and reactions, as it is often the case in combustion application,\n",
    "a large amount of data is required to define it, since the contribution of each species to the thermodynamic and transport properties must be specified, and rate information must be given for each\n",
    "reaction. **Rather than defining this information via an application program, the Cantera approach\n",
    "is to put the phase and interface definitions in a text file that can be called from and read by an\n",
    "application program - or a script**.<br><br>\n",
    "\n",
    "In this tutorial, we will review what must be included in such 'data files', or 'mechanism files', and\n",
    "provide guidelines on how to write them to define phases and interfaces to use them in Cantera simulations.\n",
    "We will start by a review of some basic writing rules, followed by a discussion on how they are processed,\n",
    "and of how errors are handled. We will work with examples in the last sections."
   ]
  },
  {
   "cell_type": "markdown",
   "metadata": {},
   "source": [
    "To be able to translate the files from chemkin (mechanism file, thermo database and transport database) to cantera (data file), it is necessary to use the command <code>ck2cti</code>.<br>\n",
    "Normally, this command should be executed on a terminal. Here, the python script is used as an inbetween, therefore calling the subprocess module is needed. If you look into the folder now, the data file mechanism should be created."
   ]
  },
  {
   "cell_type": "code",
   "execution_count": 18,
   "metadata": {
    "scrolled": true
   },
   "outputs": [
    {
     "name": "stderr",
     "output_type": "stream",
     "text": [
      "INFO:root:Skipping unexpected species \"C(S)\" while reading thermodynamics entry.\n",
      "INFO:root:Skipping unexpected species \"n-C4H7\" while reading thermodynamics entry.\n",
      "INFO:root:Skipping unexpected species \"c-C6H3\" while reading thermodynamics entry.\n",
      "INFO:root:Skipping unexpected species \"A1C2HC2H2\" while reading thermodynamics entry.\n",
      "INFO:root:Skipping unexpected species \"A2HR5\" while reading thermodynamics entry.\n",
      "INFO:root:Skipping unexpected species \"A2R5\" while reading thermodynamics entry.\n",
      "INFO:root:Skipping unexpected species \"A4H\" while reading thermodynamics entry.\n"
     ]
    },
    {
     "name": "stdout",
     "output_type": "stream",
     "text": [
      "Wrote CTI mechanism file to 'CK2CTI/mech.cti'.\n",
      "Mechanism contains 99 species and 533 reactions.\n"
     ]
    },
    {
     "data": {
      "text/plain": [
       "[]"
      ]
     },
     "execution_count": 18,
     "metadata": {},
     "output_type": "execute_result"
    }
   ],
   "source": [
    "ck2cti.convertMech('CK2CTI/mech.inp', thermoFile='CK2CTI/therm.dat', transportFile='CK2CTI/tran.dat', outName=None, permissive=None)"
   ]
  },
  {
   "cell_type": "markdown",
   "metadata": {},
   "source": [
    "### b. The **.cti** file"
   ]
  },
  {
   "cell_type": "markdown",
   "metadata": {},
   "source": [
    "<p class=\"bg-primary\" style=\"padding:1em\">\n",
    "The typical shape of a **cti** file will be the following :\n",
    "</p>"
   ]
  },
  {
   "cell_type": "markdown",
   "metadata": {},
   "source": [
    "\n",
    "<code>\n",
    "UNITS DIRECTIVE\n",
    "</code>\n",
    "\n",
    "### Phase & Interface data\n",
    "\n",
    "<code>\n",
    "PHASE ENTRIES(name, elements, species, reactions, kinetics, transport, initial_state*, options)<br>\n",
    "INTERFACE ENTRIES(name, elements, species, reactions, phases, site_density, initial_state*)\n",
    "</code>\n",
    "\n",
    "### Species & Elements data\n",
    "\n",
    "<code>\n",
    "ELEMENT ENTRIES(symbol, atomic_mass)\n",
    "SPECIES ENTRIES(name, atoms, thermo ,transport, note, size, charge)\n",
    "</code>\n",
    "\n",
    "### Reaction data\n",
    "<code>\n",
    "REACTION ENTRIES(equation, rate_coeff, id, options)<br>\n",
    "THREE BODY REACTIONS ENTRIES(equation, rate_coeff, efficiencies, id, options)<br>\n",
    "FALLOFF REACTIONS ENTRIES(equation, rate_coeff_inf, rate_coeff_0, efficiencies, falloff, id, options)<br>\n",
    "OTHER TYPES OF ENTRIES ...\n",
    "</code>\n"
   ]
  },
  {
   "cell_type": "markdown",
   "metadata": {},
   "source": [
    "<p class=\"bg-primary\" style=\"padding:1em\">\n",
    "A data file consists of entries and directives, both of which have a syntax much like functions.\n",
    "</p>"
   ]
  },
  {
   "cell_type": "markdown",
   "metadata": {},
   "source": [
    "A **directive** will tell the code how the entry parameters are to be interpreted, such as what is the\n",
    "default unit system, or how certain errors should be handled. For example :"
   ]
  },
  {
   "cell_type": "markdown",
   "metadata": {},
   "source": [
    "<code> units(length = \"cm\", time = \"s\", quantity = \"mol\", act_energy = \"cal/mol\")\n",
    "</code>"
   ]
  },
  {
   "cell_type": "markdown",
   "metadata": {},
   "source": [
    "An **entry** defines an object, for example, a reaction or a species. Entries have fields, that can be assigned\n",
    "values. Take the definition of the argon species :"
   ]
  },
  {
   "cell_type": "markdown",
   "metadata": {},
   "source": [
    "<code>\n",
    "species(name = \"AR\",\n",
    "        atoms = \" Ar:1 \",\n",
    "        thermo = (\n",
    "        NASA( [ 300.00, 1000.00], [ 2.500000000E+00, 0.000000000E+00,\n",
    "                0.000000000E+00, 0.000000000E+00, 0.000000000E+00,\n",
    "                -7.453750000E+02, 4.366000000E+00] ),\n",
    "        NASA( [ 1000.00, 5000.00], [ 2.500000000E+00, 0.000000000E+00,\n",
    "                0.000000000E+00, 0.000000000E+00, 0.000000000E+00,\n",
    "                -7.453750000E+02, 4.366000000E+00] )\n",
    "                ),\n",
    "transport = gas_transport(\n",
    "                geom = \"atom\",\n",
    "                diam = 3.33,\n",
    "                well_depth = 136.50),\n",
    "    )\n",
    "</code>"
   ]
  },
  {
   "cell_type": "markdown",
   "metadata": {},
   "source": [
    "Its fields are its **name**, **atoms**, **thermodynamic** and **transport** properties.<br>\n",
    "The syntax is <code> < field name > = < value > </code>, and the fields can be specified on one line or extended across several to be read more easily, as it was the case in the previous example. Some fields are required, otherwise processing the file will abort and an error message will be printed.<br>\n",
    "As can be seen on this example, the transport field for instance is defined via another entry,\n",
    "**gas transport**, which in turn has several fields (*geom*, *diam*, *well depth*). These types of entries\n",
    "are embedded entries, whereas the leftmost column entries are labeled top-level entries. Embedded\n",
    "entries often specify a model or a large group of parameters."
   ]
  },
  {
   "cell_type": "markdown",
   "metadata": {},
   "source": [
    "A cti file can support three different types of reactions :\n",
    "- classic reactions **reaction()** (classic Arrhenius defined like equations)\n",
    "- three-body reactions **three_body_reaction()** (reactions involving another species which can be a probability of being one species or another)\n",
    "- falloff_reaction **fall_off_reaction()** (three-body reactions whose rates k are depending on the concentration of the three-body)\n",
    "\n",
    "If you want more documentation about the reactions in cantera, please follow the link below :<br>\n",
    "https://cantera.org/science/reactions.html"
   ]
  },
  {
   "cell_type": "markdown",
   "metadata": {},
   "source": [
    "NB : The following link will provide you other information about the species data if you are interested in knowing more about it :<br>\n",
    "https://cantera.org/science/science-species.html"
   ]
  },
  {
   "cell_type": "code",
   "execution_count": null,
   "metadata": {},
   "outputs": [],
   "source": []
  }
 ],
 "metadata": {
  "kernelspec": {
   "display_name": "Python 3",
   "language": "python",
   "name": "python3"
  },
  "language_info": {
   "codemirror_mode": {
    "name": "ipython",
    "version": 3
   },
   "file_extension": ".py",
   "mimetype": "text/x-python",
   "name": "python",
   "nbconvert_exporter": "python",
   "pygments_lexer": "ipython3",
   "version": "3.8.6"
  }
 },
 "nbformat": 4,
 "nbformat_minor": 2
}
