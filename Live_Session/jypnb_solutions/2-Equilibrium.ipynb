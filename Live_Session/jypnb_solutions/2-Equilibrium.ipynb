{
 "cells": [
  {
   "cell_type": "markdown",
   "metadata": {},
   "source": [
    "# II - Equilibrium calculations"
   ]
  },
  {
   "cell_type": "markdown",
   "metadata": {},
   "source": [
    "### Equilibrium explanations"
   ]
  },
  {
   "cell_type": "markdown",
   "metadata": {},
   "source": [
    "**Equilibrium calculations** are usually performed to obtain the adiabatic flame temperature, the equilibrium composition, and the thermodynamic state of a specific mixture under given conditions. These are virtually performed in every simulation.<br>\n",
    "For example, Cantera will call its equilibrium solver to initialize the gas state before trying to obtain a solution to the equations for a free flame. As such, it is interesting to understand how Cantera proceeds."
   ]
  },
  {
   "cell_type": "markdown",
   "metadata": {},
   "source": [
    "There are 2 different types of solver currently implemented for equilibrium calculation in Cantera that\n",
    "deserves our attention :\n",
    "- **The element potential 'ChemEquil' solver**<br>\n",
    "The class ChemEquil implements a chemical equilibrium solver for single-phase solutions. It is a\n",
    "\"non-stoichiometric\" solver in the terminology of Smith and Missen, meaning that every intermediate\n",
    "state is a valid chemical equilibrium state, but does not necessarily satisfy the element constraints.\n",
    "<br>\n",
    "Non-stoichiometric methods are faster when they converge, but stoichiometric ones tend to be more\n",
    "robust.\n",
    "- **The 'VCS' chemical equilibrium solver**<br>\n",
    "The other type of solver is designed to be used to set a mixture containing one or more phases to\n",
    "a state of chemical equilibrium. It uses a \"stoichiometric\" algorithm, in which each intermediate\n",
    "state satisfies the element constraints but is not a state of chemical equilibrium. \n",
    "<br>\n",
    "More specifically, it\n",
    "implements the VCS algorithm, described in Smith and Missen, \"Chemical Reaction Equilibrium\". It\n",
    "finds a set of component species and a complete set of formation reactions for the non-components in\n",
    "terms of the components."
   ]
  },
  {
   "cell_type": "markdown",
   "metadata": {},
   "source": [
    "As expected, the **ChemEquil solver is the fastest** of the Cantera equilibrium solvers for many single-\n",
    "phase equilibrium problems (particularly if there are only a few elements but very many species), **but\n",
    "can be less stable**. <br>\n",
    "Problem situations include low temperatures where only a few species have non-zero\n",
    "mole fractions, precisely stoichiometric compositions (we will see an example shortly). In general, if\n",
    "speed is important, this solver should always be tried first before falling back to another one in case of\n",
    "failure."
   ]
  },
  {
   "cell_type": "markdown",
   "metadata": {},
   "source": [
    "### The function equilibrate"
   ]
  },
  {
   "cell_type": "markdown",
   "metadata": {},
   "source": [
    "The default setting in Cantera, when launching an equilibrium calculation without specifying\n",
    "the solver, is to try the 'element potential' before falling back to another vcs solver labelled 'gibbs' :\n",
    "<code>\n",
    "gas.equilibrate('TP')\n",
    "</code>"
   ]
  },
  {
   "cell_type": "markdown",
   "metadata": {},
   "source": [
    "The equilibrate function can be applied on a single phase or on a mixture. Here, we recall its definition:\n",
    "<code>\n",
    "equilibrate(self, XY, solver, double rtol, int maxsteps, int maxiter, int loglevel)\n",
    "</code>\n",
    "<br>\n",
    "Parameters:\n",
    "<code>\n",
    "XY                - A two-letter string, which must be one of the set: ['TP','TV','HP','SP','SV','UV'].\n",
    "solver            - Specifies the equilibrium solver to use. May be one of the following :\n",
    "    element_potential = A fast solver using the element potential method.\n",
    "    gibbs             = A slower but more robust Gibbs minimization solver.\n",
    "    vcs               = The VCS non-ideal equilibrium solver.\n",
    "    auto              = The element potential solver will be tried first, then if it fails the gibbs solver will be\n",
    "                        tried.\n",
    "rtol              - The relative error tolerance.\n",
    "maxsteps          - Maximum number of steps in composition to take to find a converged solution.\n",
    "maxiter           - This specifies the number of outer iterations on T or P when some property pair other than TP is\n",
    "                    specified (only for 'gibbs').\n",
    "loglevel          - Is currently deprecated.\n",
    "</code>\n"
   ]
  },
  {
   "cell_type": "markdown",
   "metadata": {},
   "source": [
    "### Useful python imports"
   ]
  },
  {
   "cell_type": "code",
   "execution_count": 1,
   "metadata": {},
   "outputs": [],
   "source": [
    "import cantera as ct\n",
    "import numpy as np\n",
    "import csv\n",
    "from matplotlib import *\n",
    "import matplotlib.pyplot as plt\n",
    "import sys"
   ]
  },
  {
   "cell_type": "markdown",
   "metadata": {},
   "source": [
    "## 1. Simple homogeneous equilibrium of a gas"
   ]
  },
  {
   "cell_type": "markdown",
   "metadata": {},
   "source": [
    "<div class=\"alert alert-danger \"><b> Please create the gas object so that :<br>\n",
    "- the mechanism used is the gri30<br>\n",
    "- this is an air/CH4 mix<br>\n",
    "- the mix is at stoichiometry<br>\n",
    "- the temperature is 300K and the pressure 1 bar.\n",
    "<b></div>"
   ]
  },
  {
   "cell_type": "code",
   "execution_count": 2,
   "metadata": {
    "scrolled": false
   },
   "outputs": [
    {
     "name": "stdout",
     "output_type": "stream",
     "text": [
      "\n",
      "  gri30:\n",
      "\n",
      "       temperature             300  K\n",
      "          pressure          100000  Pa\n",
      "           density         1.10784  kg/m^3\n",
      "  mean mol. weight         27.6332  amu\n",
      "\n",
      "                          1 kg            1 kmol\n",
      "                       -----------      ------------\n",
      "          enthalpy     -3.0153e+06       -8.332e+07     J\n",
      "   internal energy     -3.1056e+06       -8.582e+07     J\n",
      "           entropy            7234        1.999e+05     J/K\n",
      "    Gibbs function     -5.1855e+06       -1.433e+08     J\n",
      " heat capacity c_p          1111.3        3.071e+04     J/K\n",
      " heat capacity c_v          810.42        2.239e+04     J/K\n",
      "\n",
      "                           X                 Y          Chem. Pot. / RT\n",
      "                     -------------     ------------     ------------\n",
      "               H2O       0.190114         0.123943         -121.334\n",
      "               CO2       0.095057         0.151392         -185.839\n",
      "                N2       0.714829         0.724665          -23.382\n",
      "     [  +50 minor]     2.5076e-19      2.90375e-19\n",
      "\n",
      "None\n"
     ]
    }
   ],
   "source": [
    "gas = ct.Solution('gri30.cti')           # create an object representing the gas phase\n",
    "\n",
    "gas.TPX = 300, 100000,{'CH4':1, 'O2':2, 'N2':7.52}      # set initial state\n",
    "\n",
    "gas.equilibrate('TP')                 # equilibrate using Temperature (T) and Pressure (P)\n",
    "\n",
    "print(gas())"
   ]
  },
  {
   "cell_type": "markdown",
   "metadata": {},
   "source": [
    "As you see, the gas has been equilibrated since it now shows only quantities for the product of the reaction (H2O and CO2). You can try to set yourself out of the perfect mixing (for example set CH4 to 0.4 and to 0.6) and see the impact on the species in the mix at the end."
   ]
  },
  {
   "cell_type": "markdown",
   "metadata": {},
   "source": [
    "## 2. Failure of a solver"
   ]
  },
  {
   "cell_type": "markdown",
   "metadata": {},
   "source": [
    "Cantera has 3 different equilibrium solvers, 2 of them are worth mentionning: \n",
    "- The 'ChemEquil' solver uses the element potential method for homogeneous equilibrium in gas mixtures. It is fast, but sometimes doesn't converge. \n",
    "- The 'VCS' solver uses the VCS algorithm (Gibbs minimization), which is slower but more robust. It can also handle multiple phases.<br>\n",
    "Here we'll solve a problem for which the ChemEquil solver fails, but the VCS solver has no problem."
   ]
  },
  {
   "cell_type": "markdown",
   "metadata": {},
   "source": [
    "### Properties of the gas"
   ]
  },
  {
   "cell_type": "code",
   "execution_count": 3,
   "metadata": {},
   "outputs": [],
   "source": [
    "pressure = 1.0e5                # pressure\n",
    "temperature = 400.0             # unburned gas temperature\n",
    "comp = 'CH4:0.5, O2:1, N2:3.76' # premixed gas composition\n",
    "\n",
    "gas = ct.Solution('gri30.xml')\n",
    "gas.TPX = temperature, pressure, comp"
   ]
  },
  {
   "cell_type": "markdown",
   "metadata": {},
   "source": [
    "### Initial state of the gas"
   ]
  },
  {
   "cell_type": "code",
   "execution_count": 4,
   "metadata": {},
   "outputs": [
    {
     "name": "stdout",
     "output_type": "stream",
     "text": [
      "******************************************************** \n",
      "    Initial state :\n",
      "******************************************************** \n",
      "P =   1.0000e+05      Pa\n",
      "T =   4.0000e+02      K\n",
      "V =   1.2035e+00      m3/kg\n",
      "U =   -2.6590e+05      J/kg\n",
      "H =   -1.4554e+05      J/kg\n",
      "S =   7.5652e+03      J/kg/K\n",
      "\n",
      "\n"
     ]
    }
   ],
   "source": [
    "print(\"******************************************************** \")\n",
    "print(\"    Initial state :\")\n",
    "print(\"******************************************************** \")\n",
    "print(\"P =  \", \"%10.4e  \" % (gas.P) + \"    Pa\")\n",
    "print(\"T =  \", \"%10.4e  \" % (gas.T) + \"    K\")\n",
    "print(\"V =  \", \"%10.4e  \" % (gas.volume_mass) + \"    m3/kg\")\n",
    "print(\"U =  \", \"%10.4e  \" % (gas.int_energy_mass) + \"    J/kg\")\n",
    "print(\"H =  \", \"%10.4e  \" % (gas.enthalpy_mass) + \"    J/kg\")\n",
    "print(\"S =  \", \"%10.4e  \" % (gas.entropy_mass) + \"    J/kg/K\")\n",
    "print(\"\")\n",
    "print(\"\")"
   ]
  },
  {
   "cell_type": "markdown",
   "metadata": {},
   "source": [
    "### Comparing chemical potentials and element potentials"
   ]
  },
  {
   "cell_type": "markdown",
   "metadata": {},
   "source": [
    "Here, the chemical potentials (noted mu_xx) are compared to the corresponding calculated values with the element potentials (noted lambda_xx).<br>\n",
    "For instance, mu_H2 = lambda_H x 2.<br>\n",
    "This is a good way to check whether the solver has managed to compute the results correctly. The chemical potentials are the one of the vapor phase."
   ]
  },
  {
   "cell_type": "code",
   "execution_count": 5,
   "metadata": {},
   "outputs": [
    {
     "name": "stdout",
     "output_type": "stream",
     "text": [
      "\n",
      "Comparison between Chem potentials and element potentials:\n",
      "\n",
      "mu_H2   :  -2.3501e+09 ,     -4.2513e+09\n",
      "mu_O2   :  -8.8089e+07 ,     -4.2260e+09\n",
      "mu_OH   :  -2.3320e+09 ,     -4.2386e+09\n",
      "mu_H2O  :  -2.6153e+09 ,     -6.3643e+09\n"
     ]
    }
   ],
   "source": [
    "chemeq = np.zeros(gas.n_species)\n",
    "chemeq = gas.chemical_potentials\n",
    "\n",
    "mu_H2 = chemeq[gas.species_index(\"H2\")]\n",
    "mu_OH = chemeq[gas.species_index(\"OH\")]\n",
    "mu_H2O = chemeq[gas.species_index(\"H2O\")]\n",
    "mu_O2 = chemeq[gas.species_index(\"O2\")]\n",
    "lambda_H = chemeq[gas.species_index(\"H\")]\n",
    "lambda_O = chemeq[gas.species_index(\"O\")]\n",
    "\n",
    "print()\n",
    "print(\"Comparison between Chem potentials and element potentials:\")\n",
    "print()\n",
    "s_mu_H2 = \"%11.4e\" % mu_H2\n",
    "s_lam_mu_H2 = \"%11.4e\" % (2.0 * lambda_H)\n",
    "print(\"mu_H2   : \", s_mu_H2, \",    \", s_lam_mu_H2)\n",
    "\n",
    "s_mu_O2 = \"%11.4e\" % mu_O2\n",
    "s_lam_mu_O2 = \"%11.4e\" % (2.0 * lambda_O)\n",
    "print(\"mu_O2   : \", s_mu_O2, \",    \", s_lam_mu_O2)\n",
    "\n",
    "s_mu_OH = \"%11.4e\" % mu_OH\n",
    "s_lam_mu_OH = \"%11.4e\" % (lambda_H + lambda_O)\n",
    "print(\"mu_OH   : \", s_mu_OH, \",    \", s_lam_mu_OH)\n",
    "\n",
    "s_mu_H2O = \"%11.4e\" % mu_H2O\n",
    "s_lam_mu_H2O = \"%11.4e\" % (2.0 * lambda_H + lambda_O)\n",
    "print(\"mu_H2O  : \", s_mu_H2O, \",    \", s_lam_mu_H2O)"
   ]
  },
  {
   "cell_type": "markdown",
   "metadata": {},
   "source": [
    "### Program equilibrate"
   ]
  },
  {
   "cell_type": "code",
   "execution_count": 6,
   "metadata": {},
   "outputs": [
    {
     "name": "stdout",
     "output_type": "stream",
     "text": [
      "\n",
      "ChemEquil solver failed! Trying the vcs solver...\n"
     ]
    }
   ],
   "source": [
    "try:\n",
    "    # print(\"0\")\n",
    "    gas.equilibrate('TP', solver='element_potential')  # use the ChemEquil solver\n",
    "except:\n",
    "    print(\"\")\n",
    "    print(\"ChemEquil solver failed! Trying the vcs solver...\")\n",
    "    gas.equilibrate('TP', solver='vcs', maxsteps=1500)\n",
    "    # gas.equilibrate('TP', solver = 'gibbs')              # the gibbs solver works also"
   ]
  },
  {
   "cell_type": "markdown",
   "metadata": {},
   "source": [
    "### Compare the results with the initial values"
   ]
  },
  {
   "cell_type": "code",
   "execution_count": 11,
   "metadata": {},
   "outputs": [
    {
     "name": "stdout",
     "output_type": "stream",
     "text": [
      "\n",
      "******************************************************** \n",
      "    Final state :\n",
      "    Tadiabatique = 400.0 K\n",
      "******************************************************** \n",
      "P =   1.0000e+05      Pa\n",
      "T =   4.0000e+02      K\n",
      "V =   1.2035e+00      m3/kg\n",
      "U =   -3.0233e+06      J/kg\n",
      "H =   -2.9029e+06      J/kg\n",
      "S =   7.5571e+03      J/kg/K\n",
      "\n",
      "\n"
     ]
    }
   ],
   "source": [
    "print(\"\")\n",
    "print(\"******************************************************** \")\n",
    "print(\"    Final state :\")\n",
    "print(\"    Tadiabatique = \" + str(gas.T) + \" K\")\n",
    "print(\"******************************************************** \")\n",
    "print(\"P =  \", \"%10.4e  \" % (gas.P) + \"    Pa\")\n",
    "print(\"T =  \", \"%10.4e  \" % (gas.T) + \"    K\")\n",
    "print(\"V =  \", \"%10.4e  \" % (gas.volume_mass) + \"    m3/kg\")\n",
    "print(\"U =  \", \"%10.4e  \" % (gas.int_energy_mass) + \"    J/kg\")\n",
    "print(\"H =  \", \"%10.4e  \" % (gas.enthalpy_mass) + \"    J/kg\")\n",
    "print(\"S =  \", \"%10.4e  \" % (gas.entropy_mass) + \"    J/kg/K\")\n",
    "print(\"\")\n",
    "print(\"\")"
   ]
  },
  {
   "cell_type": "markdown",
   "metadata": {},
   "source": [
    "### Comparing chemical and element equilibrium for the equilibrate mixture"
   ]
  },
  {
   "cell_type": "code",
   "execution_count": 12,
   "metadata": {},
   "outputs": [
    {
     "name": "stdout",
     "output_type": "stream",
     "text": [
      "\n",
      "Comparison between Chem potentials and element potentials:\n",
      "\n",
      "mu_H2   :  -2.1760e+08 ,     -2.1760e+08\n",
      "mu_O2   :  -2.1169e+08 ,     -2.1169e+08\n",
      "mu_OH   :  -2.1465e+08 ,     -2.1465e+08\n",
      "mu_H2O  :  -3.2345e+08 ,     -3.2345e+08\n"
     ]
    }
   ],
   "source": [
    "chemeq = gas.chemical_potentials\n",
    "mu_H2 = chemeq[gas.species_index(\"H2\")]\n",
    "mu_OH = chemeq[gas.species_index(\"OH\")]\n",
    "mu_H2O = chemeq[gas.species_index(\"H2O\")]\n",
    "mu_O2 = chemeq[gas.species_index(\"O2\")]\n",
    "lambda_H = chemeq[gas.species_index(\"H\")]\n",
    "lambda_O = chemeq[gas.species_index(\"O\")]\n",
    "\n",
    "print()\n",
    "print(\"Comparison between Chem potentials and element potentials:\")\n",
    "print()\n",
    "s_mu_H2 = \"%11.4e\" % mu_H2\n",
    "s_lam_mu_H2 = \"%11.4e\" % (2.0 * lambda_H)\n",
    "print(\"mu_H2   : \", s_mu_H2, \",    \", s_lam_mu_H2)\n",
    "\n",
    "s_mu_O2 = \"%11.4e\" % mu_O2\n",
    "s_lam_mu_O2 = \"%11.4e\" % (2.0 * lambda_O)\n",
    "print(\"mu_O2   : \", s_mu_O2, \",    \", s_lam_mu_O2)\n",
    "\n",
    "s_mu_OH = \"%11.4e\" % mu_OH\n",
    "s_lam_mu_OH = \"%11.4e\" % (lambda_H + lambda_O)\n",
    "print(\"mu_OH   : \", s_mu_OH, \",    \", s_lam_mu_OH)\n",
    "\n",
    "s_mu_H2O = \"%11.4e\" % mu_H2O\n",
    "s_lam_mu_H2O = \"%11.4e\" % (2.0 * lambda_H + lambda_O)\n",
    "print(\"mu_H2O  : \", s_mu_H2O, \",    \", s_lam_mu_H2O)"
   ]
  },
  {
   "cell_type": "markdown",
   "metadata": {},
   "source": [
    "### Saving the results"
   ]
  },
  {
   "cell_type": "code",
   "execution_count": 13,
   "metadata": {},
   "outputs": [
    {
     "name": "stdout",
     "output_type": "stream",
     "text": [
      "Output written to 2-Output/all_mole_fractions.csv\n"
     ]
    }
   ],
   "source": [
    "csv_file = '2-Output/all_mole_fractions.csv'\n",
    "with open(csv_file, 'w') as outfile:\n",
    "    writer = csv.writer(outfile)\n",
    "    writer.writerow(['phi', 'T (K)'] + gas.species_names)\n",
    "    writer.writerow(['1', gas.T] + list(gas.X))\n",
    "print(('Output written to {0}'.format(csv_file)))"
   ]
  },
  {
   "cell_type": "markdown",
   "metadata": {},
   "source": [
    "## 3. Perform adiabatic flame calculations as a function of equivalence ratio"
   ]
  },
  {
   "cell_type": "markdown",
   "metadata": {},
   "source": [
    "### Set gas composition and interesting parameters"
   ]
  },
  {
   "cell_type": "markdown",
   "metadata": {},
   "source": [
    "We will now perform **several constant pressure equilibrium calculations of an ethylene/air mixture, at\n",
    "an initial temperature of 300K and under atmospheric pressure**, in order to obtain the adiabatic flame temperature and burnt gas state for several equivalence ratios.<br>\n",
    "The goal of this exercise is to find a way to loop through several gaseous composition, in order to perform several computations in a single script; and to learn how to properly store the results in a *csv* file."
   ]
  },
  {
   "cell_type": "code",
   "execution_count": 14,
   "metadata": {},
   "outputs": [
    {
     "name": "stdout",
     "output_type": "stream",
     "text": [
      "\n",
      "\n",
      "**** WARNING ****\n",
      "For species C2H3O, discontinuity in cp/R detected at Tmid = 1000\n",
      "\tValue computed using low-temperature polynomial:  26.0651\n",
      "\tValue computed using high-temperature polynomial: 11.7479\n",
      "\n",
      "\n",
      "**** WARNING ****\n",
      "For species C2H3O, discontinuity in h/RT detected at Tmid = 1000\n",
      "\tValue computed using low-temperature polynomial:  13.2934\n",
      "\tValue computed using high-temperature polynomial: 9.71415\n",
      "\n",
      "\n",
      "**** WARNING ****\n",
      "For species C2H3O, discontinuity in s/R detected at Tmid = 1000\n",
      "\tValue computed using low-temperature polynomial:  47.9078\n",
      "\tValue computed using high-temperature polynomial: 43.1354\n",
      "\n",
      "\n",
      "**** WARNING ****\n",
      "For species C4H612, discontinuity in cp/R detected at Tmid = 1000\n",
      "\tValue computed using low-temperature polynomial:  20.128\n",
      "\tValue computed using high-temperature polynomial: 20.1809\n"
     ]
    }
   ],
   "source": [
    "gas = ct.Solution('Mechanisms/mech.cti')\n",
    "\n",
    "T = 300.0                     # Temperature\n",
    "P = 101325.0                  # Pressure\n",
    "\n",
    "phi_min = 0.3                 # Minimal equivalence ratio\n",
    "phi_max = 3.5                 # Maximal equivalence ratio\n",
    "npoints = 50                  # Point in-between the two preceeding values\n",
    "\n",
    "fuel_species = 'C2H4'         # fuel species\n",
    "air_N2_O2_molar_ratio = 3.76  # ratio representing the air"
   ]
  },
  {
   "cell_type": "markdown",
   "metadata": {},
   "source": [
    "### Loop of equilibrium"
   ]
  },
  {
   "cell_type": "code",
   "execution_count": 15,
   "metadata": {
    "scrolled": false
   },
   "outputs": [
    {
     "name": "stdout",
     "output_type": "stream",
     "text": [
      "At phi =      0.3000  Tad =   1142.8447\n",
      "At phi =      0.3653  Tad =   1300.2150\n",
      "At phi =      0.4306  Tad =   1450.9493\n",
      "At phi =      0.4959  Tad =   1595.5516\n",
      "At phi =      0.5612  Tad =   1734.1502\n",
      "At phi =      0.6265  Tad =   1866.3165\n",
      "At phi =      0.6918  Tad =   1990.7250\n",
      "At phi =      0.7571  Tad =   2104.7920\n",
      "At phi =      0.8224  Tad =   2204.7841\n",
      "At phi =      0.8878  Tad =   2286.8442\n",
      "At phi =      0.9531  Tad =   2348.1575\n",
      "At phi =      1.0184  Tad =   2386.8246\n",
      "At phi =      1.0837  Tad =   2401.1649\n",
      "At phi =      1.1490  Tad =   2391.6957\n",
      "At phi =      1.2143  Tad =   2364.6794\n",
      "At phi =      1.2796  Tad =   2328.6936\n",
      "At phi =      1.3449  Tad =   2289.2479\n",
      "At phi =      1.4102  Tad =   2248.8202\n",
      "At phi =      1.4755  Tad =   2208.4207\n",
      "At phi =      1.5408  Tad =   2168.4587\n",
      "At phi =      1.6061  Tad =   2129.0955\n",
      "At phi =      1.6714  Tad =   2090.3866\n",
      "At phi =      1.7367  Tad =   2052.3409\n",
      "At phi =      1.8020  Tad =   2014.9472\n",
      "At phi =      1.8673  Tad =   1978.1865\n",
      "At phi =      1.9327  Tad =   1942.0375\n",
      "At phi =      1.9980  Tad =   1906.4788\n",
      "At phi =      2.0633  Tad =   1871.4899\n",
      "At phi =      2.1286  Tad =   1837.0513\n",
      "At phi =      2.1939  Tad =   1803.1444\n",
      "At phi =      2.2592  Tad =   1769.7514\n",
      "At phi =      2.3245  Tad =   1736.8549\n",
      "At phi =      2.3898  Tad =   1704.4378\n",
      "At phi =      2.4551  Tad =   1672.4833\n",
      "At phi =      2.5204  Tad =   1640.9742\n",
      "At phi =      2.5857  Tad =   1609.8935\n",
      "At phi =      2.6510  Tad =   1579.2239\n",
      "At phi =      2.7163  Tad =   1548.9479\n",
      "At phi =      2.7816  Tad =   1519.0480\n",
      "At phi =      2.8469  Tad =   1489.5082\n",
      "At phi =      2.9122  Tad =   1460.3206\n",
      "At phi =      2.9776  Tad =   1431.6157\n",
      "At phi =      3.0429  Tad =   1426.1343\n",
      "At phi =      3.1082  Tad =   1427.0861\n",
      "At phi =      3.1735  Tad =   1424.6955\n",
      "At phi =      3.2388  Tad =   1420.8402\n",
      "At phi =      3.3041  Tad =   1416.7761\n",
      "At phi =      3.3694  Tad =   1412.7752\n",
      "At phi =      3.4347  Tad =   1408.8672\n",
      "At phi =      3.5000  Tad =   1405.0538\n"
     ]
    }
   ],
   "source": [
    "phi = np.zeros(npoints)                  # 1D array\n",
    "tad = np.zeros(npoints)                  # 1D array\n",
    "\n",
    "xeq = np.zeros((gas.n_species, npoints)) # 2D array\n",
    "\n",
    "for i in range(npoints):\n",
    "\n",
    "    gas.TP = T, P\n",
    "    \n",
    "    phi[i] = phi_min + (phi_max - phi_min) * i / (npoints - 1)\n",
    "    gas.set_equivalence_ratio(phi[i], {fuel_species: 1}, {'O2': 1, 'N2': air_N2_O2_molar_ratio})\n",
    "\n",
    "    gas.equilibrate('HP') # Equilibrate the mixture adiabatically at constant P with the solver vcs\n",
    "    \n",
    "    xeq[:, i] = gas.X\n",
    "    tad[i] = gas.T\n",
    "    print(\"At phi = \",\"%10.4f\"% (phi[i])+ \"  Tad = \",\"%10.4f\"% (tad[i]))"
   ]
  },
  {
   "cell_type": "markdown",
   "metadata": {},
   "source": [
    "### Save files"
   ]
  },
  {
   "cell_type": "code",
   "execution_count": 16,
   "metadata": {},
   "outputs": [
    {
     "name": "stdout",
     "output_type": "stream",
     "text": [
      "Output written to 2-Output/yourfile.csv\n"
     ]
    }
   ],
   "source": [
    "csv_file = '2-Output/yourfile.csv'\n",
    "with open(csv_file, 'w') as outfile:\n",
    "    writer = csv.writer(outfile)\n",
    "    writer.writerow(['Phi', 'T (K)'] + gas.species_names)\n",
    "    for i in range(npoints):\n",
    "        writer.writerow([phi[i], tad[i]] + list(xeq[:, i]))\n",
    "print(\"Output written to\", \"%s\" % csv_file)"
   ]
  },
  {
   "cell_type": "markdown",
   "metadata": {},
   "source": [
    "### Plot the results"
   ]
  },
  {
   "cell_type": "code",
   "execution_count": 17,
   "metadata": {},
   "outputs": [
    {
     "data": {
      "image/png": "[encoded data removed]",
      "text/plain": [
       "<Figure size 1008x720 with 1 Axes>"
      ]
     },
     "metadata": {
      "needs_background": "light"
     },
     "output_type": "display_data"
    },
    {
     "data": {
      "text/plain": [
       "<Figure size 1008x720 with 0 Axes>"
      ]
     },
     "metadata": {},
     "output_type": "display_data"
    }
   ],
   "source": [
    "rcParams['figure.figsize'] = (14, 10)\n",
    "\n",
    "plt.plot(phi, tad, '-')\n",
    "\n",
    "plt.title(r'Tad vs. $\\Phi$ for $C_{2}H_{4}/Air$ flames')\n",
    "plt.xlabel(r'$\\Phi$', fontsize=20)\n",
    "plt.ylabel(\"Adiabatic flame temperature (K)\")\n",
    "\n",
    "plt.grid()\n",
    "\n",
    "plt.show()\n",
    "plt.savefig('2-Output/plot_tad.png', bbox_inches='tight')"
   ]
  },
  {
   "cell_type": "code",
   "execution_count": 18,
   "metadata": {
    "scrolled": true
   },
   "outputs": [
    {
     "data": {
      "image/png": "[encoded data removed]",
      "text/plain": [
       "<Figure size 1008x720 with 1 Axes>"
      ]
     },
     "metadata": {
      "needs_background": "light"
     },
     "output_type": "display_data"
    },
    {
     "data": {
      "image/png": "[encoded data removed]",
      "text/plain": [
       "<Figure size 1008x720 with 1 Axes>"
      ]
     },
     "metadata": {
      "needs_background": "light"
     },
     "output_type": "display_data"
    },
    {
     "data": {
      "image/png": "[encoded data removed]",
      "text/plain": [
       "<Figure size 1008x720 with 1 Axes>"
      ]
     },
     "metadata": {
      "needs_background": "light"
     },
     "output_type": "display_data"
    }
   ],
   "source": [
    "for i, cas in enumerate(gas.species_names):\n",
    "    if cas in ['O2','CO2','CO']:\n",
    "        plt.plot(phi,xeq[i,:], label = cas)\n",
    "        plt.xlabel('Equivalence ratio')\n",
    "        plt.ylabel('Mole fractions')\n",
    "        plt.legend(loc='best')\n",
    "        plt.show()"
   ]
  },
  {
   "cell_type": "markdown",
   "metadata": {},
   "source": [
    "## Conclusion"
   ]
  },
  {
   "cell_type": "markdown",
   "metadata": {},
   "source": [
    "We have just generated the skeleton of a script to perform a series of common equilibrium calculations\n",
    "to obtain the constant pressure equilibrium composition of a fuel/air mixture. Starting from there,\n",
    "you could modify your initial conditions, plot the mole/mass fractions of other species, change the\n",
    "solver or even try another fuel (methane, acetylene) without changing your mechanism.<br>\n",
    "Technically, adiabatic flame calculations could also be performed at constant volume: simply invoke\n",
    "the good equilibrate option of your equilibrate function, 'UV' (see 3.1.2), in your script."
   ]
  },
  {
   "cell_type": "code",
   "execution_count": null,
   "metadata": {},
   "outputs": [],
   "source": []
  }
 ],
 "metadata": {
  "kernelspec": {
   "display_name": "Python 3",
   "language": "python",
   "name": "python3"
  },
  "language_info": {
   "codemirror_mode": {
    "name": "ipython",
    "version": 3
   },
   "file_extension": ".py",
   "mimetype": "text/x-python",
   "name": "python",
   "nbconvert_exporter": "python",
   "pygments_lexer": "ipython3",
   "version": "3.8.5"
  }
 },
 "nbformat": 4,
 "nbformat_minor": 2
}
