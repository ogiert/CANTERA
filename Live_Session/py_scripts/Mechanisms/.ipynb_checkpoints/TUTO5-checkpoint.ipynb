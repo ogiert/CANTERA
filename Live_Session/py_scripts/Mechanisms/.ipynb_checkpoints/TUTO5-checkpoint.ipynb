{
 "cells": [
  {
   "cell_type": "markdown",
   "metadata": {},
   "source": [
    "# 1D computations"
   ]
  },
  {
   "cell_type": "markdown",
   "metadata": {},
   "source": [
    "## 1. ADIABATIC FLAME - A freely-propagating, premixed flat flame "
   ]
  },
  {
   "cell_type": "markdown",
   "metadata": {},
   "source": [
    "<p class=\"bg-primary\" style=\"padding:1em\"> This script will show you the creation of a premixed flame. First the initial solution is created and then, the calculation is performed before plotting the interesting results. </p> "
   ]
  },
  {
   "cell_type": "code",
   "execution_count": 1,
   "metadata": {},
   "outputs": [],
   "source": [
    "import cantera as ct\n",
    "import numpy as np\n",
    "from matplotlib.pylab import *"
   ]
  },
  {
   "cell_type": "markdown",
   "metadata": {},
   "source": [
    "### 1.1 Initial solution"
   ]
  },
  {
   "cell_type": "markdown",
   "metadata": {},
   "source": [
    "#### Import solution"
   ]
  },
  {
   "cell_type": "code",
   "execution_count": 2,
   "metadata": {},
   "outputs": [],
   "source": [
    "gas = ct.Solution('gri30.cti')                  # Import gas phases with mixture transport model"
   ]
  },
  {
   "cell_type": "markdown",
   "metadata": {},
   "source": [
    "#### Set the parameters"
   ]
  },
  {
   "cell_type": "code",
   "execution_count": 3,
   "metadata": {},
   "outputs": [],
   "source": [
    "# General\n",
    "p = 1e5                                         # pressure\n",
    "tin = 600.0                                     # unburned gas temperature\n",
    "phi = 0.8                                       # equivalence ratio\n",
    "\n",
    "fuel = {'CH4': 1}                               # Methane composition\n",
    "oxidizer = {'O2': 1, 'N2': 3.76}                # Oxygen composition"
   ]
  },
  {
   "cell_type": "markdown",
   "metadata": {},
   "source": [
    "#### Set gas state to that of the unburned gas"
   ]
  },
  {
   "cell_type": "code",
   "execution_count": 4,
   "metadata": {},
   "outputs": [],
   "source": [
    "gas.TP = tin, p\n",
    "gas.set_equivalence_ratio(phi, fuel, oxidizer)"
   ]
  },
  {
   "cell_type": "markdown",
   "metadata": {},
   "source": [
    "#### Create the flame and set inlet conditions"
   ]
  },
  {
   "cell_type": "code",
   "execution_count": 5,
   "metadata": {},
   "outputs": [],
   "source": [
    "f = ct.FreeFlame(gas, width=0.02)   # Create the free laminar premixed flame specifying the width of the grid\n",
    "f.inlet.X = gas.X                   # Inlet condition on mass fraction\n",
    "f.inlet.T = gas.T                   # Inlet condition on temperature"
   ]
  },
  {
   "cell_type": "markdown",
   "metadata": {},
   "source": [
    "### 1.2 Program starts here"
   ]
  },
  {
   "cell_type": "markdown",
   "metadata": {},
   "source": [
    "<p class=\"bg-primary\" style=\"padding:1em\"> The idea here is to solve four flames to make the calculation converge. The first flame will be solved without equation energy whereas the others will continue the computation by enabling the calculation using the equation energy and by adding more point to the flame front. </p> "
   ]
  },
  {
   "cell_type": "markdown",
   "metadata": {},
   "source": [
    "#### First flame"
   ]
  },
  {
   "cell_type": "code",
   "execution_count": 6,
   "metadata": {},
   "outputs": [
    {
     "name": "stdout",
     "output_type": "stream",
     "text": [
      "\n",
      "..............................................................................\n",
      "Attempt Newton solution of steady-state problem...    failure. \n",
      "Take 2 timesteps     2.813e-06      2.407\n",
      "Attempt Newton solution of steady-state problem...    failure. \n",
      "Take 5 timesteps     1.424e-05      1.604\n",
      "Attempt Newton solution of steady-state problem...    failure. \n",
      "Take 10 timesteps     0.0003649      1.073\n",
      "Attempt Newton solution of steady-state problem...    failure. \n",
      "Take 20 timesteps      0.006658    -0.6559\n",
      "Attempt Newton solution of steady-state problem...    success.\n",
      "\n",
      "Problem solved on [9] point grid(s).\n",
      "\n",
      "..............................................................................\n",
      "grid refinement disabled.\n",
      "Solution saved to file ch4_adiabatic.xml as solution no energy.\n"
     ]
    }
   ],
   "source": [
    "f.energy_enabled = False                       # No energy for starters\n",
    "\n",
    "tol_ss = [1.0e-5, 1.0e-9]  # tolerance [rtol atol] for steady-state problem\n",
    "tol_ts = [1.0e-5, 1.0e-9]  # tolerance [rtol atol] for time stepping\n",
    "\n",
    "f.flame.set_steady_tolerances(default=tol_ss)\n",
    "f.flame.set_transient_tolerances(default=tol_ts)\n",
    "\n",
    "# Set calculation parameters\n",
    "f.set_max_jac_age(50, 50)                           # Maximum number of times the Jacobian will be used before it \n",
    "                                                    # must be re-evaluated\n",
    "f.set_time_step(1.0e-5, [2, 5, 10, 20, 80])         # Set time steps (in seconds) whenever Newton convergence fails \n",
    "f.set_refine_criteria(ratio=10.0, slope=1, curve=1) # Refinement criteria\n",
    "\n",
    "# Calculation\n",
    "loglevel = 1                                        # amount of diagnostic output (0 to 5)\n",
    "refine_grid = 'disabled'                            # 'refine' or 'remesh' to enable refinement\n",
    "                                                    # 'disabled' to disable\n",
    "\n",
    "f.solve(loglevel, refine_grid)                                      # solve the flame on the grid\n",
    "f.save('ch4_adiabatic.xml', 'no energy','solution with no energy')  # save solution"
   ]
  },
  {
   "cell_type": "markdown",
   "metadata": {},
   "source": [
    "#### Second flame"
   ]
  },
  {
   "cell_type": "code",
   "execution_count": 7,
   "metadata": {},
   "outputs": [],
   "source": [
    "%%capture\n",
    "f.energy_enabled = True                                 # Energy equation enabled\n",
    "refine_grid = 'refine'                                 # Calculation and save of the results\n",
    "\n",
    "f.set_refine_criteria(ratio=5.0, slope=0.5, curve=0.5)  # Refinement criteria when energy equation is enabled\n",
    "\n",
    "f.solve(loglevel, refine_grid)\n",
    "f.save('ch4_adiabatic.xml', 'energy', 'solution with the energy equation enabled')"
   ]
  },
  {
   "cell_type": "code",
   "execution_count": 8,
   "metadata": {},
   "outputs": [
    {
     "name": "stdout",
     "output_type": "stream",
     "text": [
      "mixture-averaged flamespeed = 1.138558 m/s\n"
     ]
    }
   ],
   "source": [
    "print('mixture-averaged flamespeed = {0:7f} m/s'.format(f.u[0]))  # m/s"
   ]
  },
  {
   "cell_type": "markdown",
   "metadata": {},
   "source": [
    "#### Third flame and so on ..."
   ]
  },
  {
   "cell_type": "code",
   "execution_count": 9,
   "metadata": {},
   "outputs": [],
   "source": [
    "%%capture\n",
    "f.set_refine_criteria(ratio=2.0, slope=0.05, curve=0.05) # Refinement criteria should be changed ...\n",
    "\n",
    "f.solve(loglevel, refine_grid)                           \n",
    "f.save('ch4_adiabatic.xml', 'energy continuation','solution with the energy equation enabled continuation')"
   ]
  },
  {
   "cell_type": "code",
   "execution_count": 10,
   "metadata": {},
   "outputs": [
    {
     "name": "stdout",
     "output_type": "stream",
     "text": [
      "mixture-averaged flamespeed continuation = 1.070030 m/s\n",
      "mixture-averaged final T = 2201.068248 K\n"
     ]
    }
   ],
   "source": [
    "points = f.flame.n_points\n",
    "print('mixture-averaged flamespeed continuation = {0:7f} m/s'.format(f.u[0]))  # m/s\n",
    "print('mixture-averaged final T = {0:7f} K'.format(f.T[points - 1]))  # K"
   ]
  },
  {
   "cell_type": "markdown",
   "metadata": {},
   "source": [
    "#### Fourth flame and so on ..."
   ]
  },
  {
   "cell_type": "code",
   "execution_count": 11,
   "metadata": {},
   "outputs": [],
   "source": [
    "%%capture\n",
    "\n",
    "f.transport_model = 'Multi'      # Switch transport model\n",
    "\n",
    "f.solve(loglevel, refine_grid)\n",
    "\n",
    "f.save('ch4_adiabatic.xml', 'energy_multi',\n",
    "       'solution with the multicomponent transport and energy equation enabled')"
   ]
  },
  {
   "cell_type": "code",
   "execution_count": 12,
   "metadata": {},
   "outputs": [
    {
     "name": "stdout",
     "output_type": "stream",
     "text": [
      "multicomponent flamespeed = 1.081526 m/s\n",
      "multicomponent final T = 2201.849447 K\n"
     ]
    }
   ],
   "source": [
    "points = f.flame.n_points\n",
    "print('multicomponent flamespeed = {0:7f} m/s'.format(f.u[0]))  # m/s\n",
    "print('multicomponent final T = {0:7f} K'.format(f.T[points - 1]))  # K"
   ]
  },
  {
   "cell_type": "markdown",
   "metadata": {},
   "source": [
    "### 1.3 Manipulate the results"
   ]
  },
  {
   "cell_type": "markdown",
   "metadata": {},
   "source": [
    "#### Save your results"
   ]
  },
  {
   "cell_type": "code",
   "execution_count": 13,
   "metadata": {},
   "outputs": [
    {
     "name": "stdout",
     "output_type": "stream",
     "text": [
      "Solution saved to 'ch4_adiabatic.csv'.\n"
     ]
    }
   ],
   "source": [
    "f.write_csv('ch4_adiabatic.csv', quiet=False)  # Write the velocity, temperature, density, and mole fractions \n",
    "                                               # to a CSV file"
   ]
  },
  {
   "cell_type": "markdown",
   "metadata": {},
   "source": [
    "#### Plot your results (temperature, density, velocity, ...)"
   ]
  },
  {
   "cell_type": "code",
   "execution_count": 14,
   "metadata": {},
   "outputs": [
    {
     "data": {
      "image/png": "[encoded data removed]",
      "text/plain": [
       "<Figure size 1008x720 with 4 Axes>"
      ]
     },
     "metadata": {
      "needs_background": "light"
     },
     "output_type": "display_data"
    }
   ],
   "source": [
    "rcParams['figure.figsize'] = (14, 10)\n",
    "\n",
    "# Get the different arrays\n",
    "z = f.flame.grid\n",
    "T = f.T\n",
    "u = f.u\n",
    "ifuel = gas.species_index('CH4')\n",
    "\n",
    "fig=figure(1)\n",
    "\n",
    "# create first subplot - adiabatic flame temperature\n",
    "a=fig.add_subplot(221)\n",
    "a.plot(z,T)\n",
    "title(r'$T_{adiabatic}$ vs. Position', fontsize=15)\n",
    "xlabel(r'Position [m]')\n",
    "ylabel(\"Adiabatic Flame Temperature [K]\")\n",
    "a.xaxis.set_major_locator(MaxNLocator(10)) # this controls the number of tick marks on the axis\n",
    "\n",
    "# create second subplot - velocity\n",
    "b=fig.add_subplot(222)\n",
    "b.plot(z,u)\n",
    "title(r'Velocity vs. Position', fontsize=15)\n",
    "xlabel(r'Position [m]')\n",
    "ylabel(\"velocity [m/s]\")\n",
    "b.xaxis.set_major_locator(MaxNLocator(10)) \n",
    "\n",
    "# create third subplot - rho\n",
    "c=fig.add_subplot(223)\n",
    "p = zeros(f.flame.n_points,'d')\n",
    "for n in range(f.flame.n_points):\n",
    "    f.set_gas_state(n)\n",
    "    p[n]= gas.density_mass\n",
    "c.plot(z,p)\n",
    "title(r'Rho vs. Position', fontsize=15)\n",
    "xlabel(r'Position [m]')\n",
    "ylabel(\"Rho [$kg/m^3$]\")\n",
    "c.xaxis.set_major_locator(MaxNLocator(10)) \n",
    "\n",
    "\n",
    "# create fourth subplot - specie CH4\n",
    "d=fig.add_subplot(224)\n",
    "ch4 = zeros(f.flame.n_points,'d')\n",
    "for n in range(f.flame.n_points):\n",
    "    f.set_gas_state(n)\n",
    "    ch4[n]= gas.Y[ifuel]\n",
    "d.plot(z,ch4)\n",
    "title(r'CH4 vs. Position', fontsize=15)\n",
    "xlabel(r'Position [m]')\n",
    "ylabel(\"CH4 Mole Fraction\")\n",
    "d.xaxis.set_major_locator(MaxNLocator(10))\n",
    "\n",
    "# Set title\n",
    "fig.text(0.5,0.95,r'Adiabatic $CH_{4}$ + Air Free Flame at Phi = 0.8 Ti = 600K and P = 1atm',fontsize=22,horizontalalignment='center')\n",
    "\n",
    "subplots_adjust(left=0.08, right=0.96, wspace=0.25, hspace=0.25)"
   ]
  },
  {
   "cell_type": "markdown",
   "metadata": {},
   "source": [
    "<div class=\"alert alert-danger \"><b> The plots here describe the flame front. The evolution of the variables and the different values seem coherent with the simulation.  </b></div>"
   ]
  },
  {
   "cell_type": "markdown",
   "metadata": {},
   "source": [
    "## 2. A burner-stabilized lean premixed hydrogen-oxygen flame at low pressure"
   ]
  },
  {
   "cell_type": "markdown",
   "metadata": {},
   "source": [
    "And so on and so on ..."
   ]
  },
  {
   "cell_type": "code",
   "execution_count": null,
   "metadata": {},
   "outputs": [],
   "source": []
  }
 ],
 "metadata": {
  "kernelspec": {
   "display_name": "Python 3",
   "language": "python",
   "name": "python3"
  },
  "language_info": {
   "codemirror_mode": {
    "name": "ipython",
    "version": 3
   },
   "file_extension": ".py",
   "mimetype": "text/x-python",
   "name": "python",
   "nbconvert_exporter": "python",
   "pygments_lexer": "ipython3",
   "version": "3.7.1"
  }
 },
 "nbformat": 4,
 "nbformat_minor": 2
}
